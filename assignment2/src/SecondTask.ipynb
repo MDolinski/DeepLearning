{
 "cells": [
  {
   "cell_type": "code",
   "execution_count": 1,
   "metadata": {},
   "outputs": [],
   "source": [
    "import os\n",
    "import glob\n",
    "import matplotlib.pyplot as plt\n",
    "import numpy as np\n",
    "from skimage import io, transform\n",
    "import itertools as it\n",
    "from imageio import imwrite"
   ]
  },
  {
   "cell_type": "code",
   "execution_count": 3,
   "metadata": {},
   "outputs": [],
   "source": [
    "import torch\n",
    "import torch.nn as nn\n",
    "import torch.nn.functional as F\n",
    "import torch.optim as optim\n",
    "import torch.nn.init as init\n",
    "import torch.nn.parameter as P\n",
    "from torch.utils.data import Dataset, DataLoader\n",
    "import torchvision\n",
    "from torchvision import transforms, datasets"
   ]
  },
  {
   "cell_type": "markdown",
   "metadata": {},
   "source": [
    "# Data preparation"
   ]
  },
  {
   "cell_type": "code",
   "execution_count": 2,
   "metadata": {},
   "outputs": [
    {
     "name": "stdout",
     "output_type": "stream",
     "text": [
      "3475\n"
     ]
    }
   ],
   "source": [
    "img_path = \"/home/md359230/DeepLearning/assignment2/data/cityscapes/*.png\"\n",
    "print(len(glob.glob(img_path)))"
   ]
  },
  {
   "cell_type": "code",
   "execution_count": 3,
   "metadata": {},
   "outputs": [],
   "source": [
    "base_path = \"/home/md359230/DeepLearning/assignment2/data/cityscapes\"\n",
    "images = [file for file in os.listdir(base_path) if file.endswith(\".png\")]"
   ]
  },
  {
   "cell_type": "code",
   "execution_count": 4,
   "metadata": {},
   "outputs": [],
   "source": [
    "np.random.shuffle(images)\n",
    "train_images, test_images = images[:-500], images[-500:]"
   ]
  },
  {
   "cell_type": "code",
   "execution_count": 6,
   "metadata": {},
   "outputs": [
    {
     "name": "stdout",
     "output_type": "stream",
     "text": [
      "2975 500\n"
     ]
    }
   ],
   "source": [
    "print(len(train_images), len(test_images))"
   ]
  },
  {
   "cell_type": "code",
   "execution_count": 7,
   "metadata": {},
   "outputs": [],
   "source": [
    "check_array = np.array(\n",
    "    [[116, 17, 36],\n",
    "     [152, 43,150],\n",
    "     [106,141, 34],\n",
    "     [ 69, 69, 69],\n",
    "     [  2,  1,  3],\n",
    "     [127, 63,126],\n",
    "     [222, 52,211],\n",
    "     [  2,  1,140],\n",
    "     [ 93,117,119],\n",
    "     [180,228,182],\n",
    "     [213,202, 43],\n",
    "     [ 79,  2, 80],\n",
    "     [188,151,155],\n",
    "     [  9,  5, 91],\n",
    "     [106, 75, 13],\n",
    "     [215, 20, 53],\n",
    "     [110,134, 62],\n",
    "     [  8, 68, 98],\n",
    "     [244,171,170],\n",
    "     [171, 43, 74],\n",
    "     [104, 96,155],\n",
    "     [ 72,130,177],\n",
    "     [242, 35,231],\n",
    "     [147,149,149],\n",
    "     [ 35, 25, 34],\n",
    "     [155,247,151],\n",
    "     [ 85, 68, 99],\n",
    "     [ 71, 81, 43],\n",
    "     [195, 64,182],\n",
    "     [146,133, 92]])"
   ]
  },
  {
   "cell_type": "code",
   "execution_count": 8,
   "metadata": {},
   "outputs": [],
   "source": [
    "# Encoding in form of 1e6 * x + 1e3 * y + z -> id\n",
    "label_encoding = {}\n",
    "def encodeLabel(label):\n",
    "    return label[0] * 1000000 + label[1] * 1000 + label[2]\n",
    "\n",
    "for label_code, label in enumerate(check_array):\n",
    "    label_encoding[encodeLabel(label)] = label_code"
   ]
  },
  {
   "cell_type": "code",
   "execution_count": 9,
   "metadata": {},
   "outputs": [],
   "source": [
    "def process_images(images, base_path, target_path):\n",
    "    counter = 0\n",
    "    for image in images:\n",
    "        counter += 1\n",
    "        if counter % 100 == 0:\n",
    "            print(counter)\n",
    "        # Split image into raw image and class annotation\n",
    "        data = plt.imread(os.path.join(base_path, image)) * 255\n",
    "        raw_image, label = data[:, :256, :], data[:, 256:, :]\n",
    "\n",
    "        raw_image = raw_image.astype('uint8')\n",
    "        # Save class annotation as txt\n",
    "        label = np.array([label_encoding[encodeLabel(label[x, y])] \n",
    "                          for x, y in it.product(range(256), range(256))])\n",
    "        label = label.reshape(256, 256).astype('uint8')\n",
    "\n",
    "        # Save training image and class annotation\n",
    "        imwrite(os.path.join(target_path, image), raw_image)\n",
    "        np.savetxt(os.path.join(target_path, image[:-4] + \".txt\"), label, fmt=\"%d\")"
   ]
  },
  {
   "cell_type": "code",
   "execution_count": 10,
   "metadata": {},
   "outputs": [
    {
     "name": "stdout",
     "output_type": "stream",
     "text": [
      "100\n",
      "200\n",
      "300\n",
      "400\n",
      "500\n",
      "600\n",
      "700\n",
      "800\n",
      "900\n",
      "1000\n",
      "1100\n",
      "1200\n",
      "1300\n",
      "1400\n",
      "1500\n",
      "1600\n",
      "1700\n",
      "1800\n",
      "1900\n",
      "2000\n",
      "2100\n",
      "2200\n",
      "2300\n",
      "2400\n",
      "2500\n",
      "2600\n",
      "2700\n",
      "2800\n",
      "2900\n"
     ]
    }
   ],
   "source": [
    "train_path = \"/home/md359230/DeepLearning/assignment2/data/train\"\n",
    "process_images(train_images, base_path, train_path)"
   ]
  },
  {
   "cell_type": "code",
   "execution_count": 11,
   "metadata": {},
   "outputs": [
    {
     "name": "stdout",
     "output_type": "stream",
     "text": [
      "100\n",
      "200\n",
      "300\n",
      "400\n",
      "500\n"
     ]
    }
   ],
   "source": [
    "test_path  = \"/home/md359230/DeepLearning/assignment2/data/test\"\n",
    "process_images(test_images, base_path, test_path)"
   ]
  },
  {
   "cell_type": "code",
   "execution_count": 12,
   "metadata": {},
   "outputs": [
    {
     "name": "stdout",
     "output_type": "stream",
     "text": [
      "5950\n"
     ]
    }
   ],
   "source": [
    "! ls /home/md359230/DeepLearning/assignment2/data/train | wc -l"
   ]
  },
  {
   "cell_type": "code",
   "execution_count": 13,
   "metadata": {},
   "outputs": [
    {
     "name": "stdout",
     "output_type": "stream",
     "text": [
      "1000\n"
     ]
    }
   ],
   "source": [
    "! ls /home/md359230/DeepLearning/assignment2/data/test | wc -l"
   ]
  },
  {
   "cell_type": "markdown",
   "metadata": {},
   "source": [
    "# Data loading"
   ]
  },
  {
   "cell_type": "code",
   "execution_count": 44,
   "metadata": {},
   "outputs": [],
   "source": [
    "class CityScapesDataSet(Dataset):\n",
    "    def __init__(self, root_dir, transform=None):\n",
    "        self.image_paths = glob.glob(os.path.join(root_dir, \"*.png\"))\n",
    "        self.transform = transform\n",
    "\n",
    "    def __len__(self):\n",
    "        return len(self.image_paths)\n",
    "\n",
    "    def __getitem__(self, idx):\n",
    "        img_name = self.image_paths[idx]\n",
    "        data = plt.imread(img_name) * 255\n",
    "        image, label = data[:, :256, :], data[:, 256:, :]\n",
    "        sample = {'image': image, 'label': label}\n",
    "        \n",
    "        return sample"
   ]
  },
  {
   "cell_type": "code",
   "execution_count": 45,
   "metadata": {},
   "outputs": [],
   "source": [
    "dataset_path = '/home/md359230/DeepLearning/assignment2/data/cityscapes'"
   ]
  },
  {
   "cell_type": "code",
   "execution_count": 46,
   "metadata": {},
   "outputs": [],
   "source": [
    "csds = CityScapesDataSet(dataset_path)"
   ]
  },
  {
   "cell_type": "code",
   "execution_count": 47,
   "metadata": {},
   "outputs": [
    {
     "name": "stdout",
     "output_type": "stream",
     "text": [
      "<class 'dict'>\n"
     ]
    }
   ],
   "source": [
    "print(type(csds[0]))"
   ]
  },
  {
   "cell_type": "code",
   "execution_count": 48,
   "metadata": {},
   "outputs": [
    {
     "name": "stdout",
     "output_type": "stream",
     "text": [
      "3475\n"
     ]
    }
   ],
   "source": [
    "print(len(csds))"
   ]
  },
  {
   "cell_type": "code",
   "execution_count": 49,
   "metadata": {},
   "outputs": [],
   "source": [
    "dataloader = DataLoader(csds,\n",
    "                        batch_size=1,\n",
    "                        shuffle=True,\n",
    "                        num_workers=4)"
   ]
  },
  {
   "cell_type": "code",
   "execution_count": 53,
   "metadata": {},
   "outputs": [
    {
     "name": "stdout",
     "output_type": "stream",
     "text": [
      "{'label': tensor([[[[  2.,   1.,   3.],\n",
      "          [  2.,   1.,   3.],\n",
      "          [  2.,   1.,   3.],\n",
      "          ...,\n",
      "          [  2.,   1.,   3.],\n",
      "          [  2.,   1.,   3.],\n",
      "          [  2.,   1.,   3.]],\n",
      "\n",
      "         [[ 35.,  25.,  34.],\n",
      "          [ 93., 117., 119.],\n",
      "          [ 93., 117., 119.],\n",
      "          ...,\n",
      "          [ 35.,  25.,  34.],\n",
      "          [ 69.,  69.,  69.],\n",
      "          [ 35.,  25.,  34.]],\n",
      "\n",
      "         [[ 35.,  25.,  34.],\n",
      "          [147., 149., 149.],\n",
      "          [147., 149., 149.],\n",
      "          ...,\n",
      "          [ 69.,  69.,  69.],\n",
      "          [ 69.,  69.,  69.],\n",
      "          [ 35.,  25.,  34.]],\n",
      "\n",
      "         ...,\n",
      "\n",
      "         [[ 79.,   2.,  80.],\n",
      "          [195.,  64., 182.],\n",
      "          [195.,  64., 182.],\n",
      "          ...,\n",
      "          [127.,  63., 126.],\n",
      "          [127.,  63., 126.],\n",
      "          [ 79.,   2.,  80.]],\n",
      "\n",
      "         [[ 35.,  25.,  34.],\n",
      "          [127.,  63., 126.],\n",
      "          [127.,  63., 126.],\n",
      "          ...,\n",
      "          [ 69.,  69.,  69.],\n",
      "          [ 85.,  68.,  99.],\n",
      "          [ 35.,  25.,  34.]],\n",
      "\n",
      "         [[  2.,   1.,   3.],\n",
      "          [ 35.,  25.,  34.],\n",
      "          [ 35.,  25.,  34.],\n",
      "          ...,\n",
      "          [  2.,   1.,   3.],\n",
      "          [ 35.,  25.,  34.],\n",
      "          [ 35.,  25.,  34.]]]]), 'image': tensor([[[[27., 48., 41.],\n",
      "          [28., 49., 42.],\n",
      "          [43., 60., 54.],\n",
      "          ...,\n",
      "          [64., 79., 74.],\n",
      "          [41., 56., 53.],\n",
      "          [33., 45., 43.]],\n",
      "\n",
      "         [[31., 52., 45.],\n",
      "          [32., 53., 46.],\n",
      "          [46., 63., 57.],\n",
      "          ...,\n",
      "          [60., 75., 70.],\n",
      "          [38., 53., 50.],\n",
      "          [30., 40., 39.]],\n",
      "\n",
      "         [[36., 57., 50.],\n",
      "          [36., 57., 50.],\n",
      "          [49., 66., 60.],\n",
      "          ...,\n",
      "          [59., 74., 69.],\n",
      "          [37., 52., 49.],\n",
      "          [29., 39., 38.]],\n",
      "\n",
      "         ...,\n",
      "\n",
      "         [[42., 55., 48.],\n",
      "          [43., 56., 49.],\n",
      "          [44., 57., 50.],\n",
      "          ...,\n",
      "          [49., 64., 57.],\n",
      "          [48., 63., 56.],\n",
      "          [66., 51., 72.]],\n",
      "\n",
      "         [[42., 55., 48.],\n",
      "          [42., 55., 48.],\n",
      "          [43., 56., 49.],\n",
      "          ...,\n",
      "          [51., 66., 59.],\n",
      "          [49., 64., 57.],\n",
      "          [58., 57., 65.]],\n",
      "\n",
      "         [[41., 54., 47.],\n",
      "          [42., 55., 48.],\n",
      "          [43., 56., 49.],\n",
      "          ...,\n",
      "          [52., 67., 60.],\n",
      "          [50., 65., 58.],\n",
      "          [55., 61., 61.]]]])}\n",
      "{'label': tensor([[[[ 2.,  1.,  3.],\n",
      "          [ 2.,  1.,  3.],\n",
      "          [ 2.,  1.,  3.],\n",
      "          ...,\n",
      "          [ 2.,  1.,  3.],\n",
      "          [ 2.,  1.,  3.],\n",
      "          [ 2.,  1.,  3.]],\n",
      "\n",
      "         [[ 2.,  1.,  3.],\n",
      "          [ 2.,  1.,  3.],\n",
      "          [35., 25., 34.],\n",
      "          ...,\n",
      "          [ 2.,  1.,  3.],\n",
      "          [ 2.,  1.,  3.],\n",
      "          [ 2.,  1.,  3.]],\n",
      "\n",
      "         [[ 2.,  1.,  3.],\n",
      "          [ 2.,  1.,  3.],\n",
      "          [69., 69., 69.],\n",
      "          ...,\n",
      "          [ 2.,  1.,  3.],\n",
      "          [ 2.,  1.,  3.],\n",
      "          [ 2.,  1.,  3.]],\n",
      "\n",
      "         ...,\n",
      "\n",
      "         [[ 2.,  1.,  3.],\n",
      "          [ 2.,  1.,  3.],\n",
      "          [ 2.,  1.,  3.],\n",
      "          ...,\n",
      "          [ 2.,  1.,  3.],\n",
      "          [ 2.,  1.,  3.],\n",
      "          [ 2.,  1.,  3.]],\n",
      "\n",
      "         [[ 2.,  1.,  3.],\n",
      "          [ 2.,  1.,  3.],\n",
      "          [ 2.,  1.,  3.],\n",
      "          ...,\n",
      "          [ 2.,  1.,  3.],\n",
      "          [ 2.,  1.,  3.],\n",
      "          [ 2.,  1.,  3.]],\n",
      "\n",
      "         [[ 2.,  1.,  3.],\n",
      "          [ 2.,  1.,  3.],\n",
      "          [ 2.,  1.,  3.],\n",
      "          ...,\n",
      "          [ 2.,  1.,  3.],\n",
      "          [ 2.,  1.,  3.],\n",
      "          [ 2.,  1.,  3.]]]]), 'image': tensor([[[[123., 130.,  62.],\n",
      "          [172., 178., 118.],\n",
      "          [186., 188., 148.],\n",
      "          ...,\n",
      "          [ 60.,  61.,  55.],\n",
      "          [ 73.,  74.,  68.],\n",
      "          [ 21.,  22.,  17.]],\n",
      "\n",
      "         [[136., 143.,  75.],\n",
      "          [189., 195., 135.],\n",
      "          [202., 204., 164.],\n",
      "          ...,\n",
      "          [ 58.,  59.,  53.],\n",
      "          [ 70.,  71.,  65.],\n",
      "          [ 16.,  17.,  12.]],\n",
      "\n",
      "         [[121., 128.,  60.],\n",
      "          [184., 190., 130.],\n",
      "          [201., 203., 163.],\n",
      "          ...,\n",
      "          [ 57.,  58.,  52.],\n",
      "          [ 66.,  67.,  61.],\n",
      "          [ 12.,  13.,   8.]],\n",
      "\n",
      "         ...,\n",
      "\n",
      "         [[ 49.,  59.,  51.],\n",
      "          [ 49.,  59.,  51.],\n",
      "          [ 49.,  59.,  51.],\n",
      "          ...,\n",
      "          [ 36.,  45.,  40.],\n",
      "          [ 38.,  47.,  42.],\n",
      "          [ 47.,  53.,  49.]],\n",
      "\n",
      "         [[ 49.,  59.,  51.],\n",
      "          [ 49.,  59.,  51.],\n",
      "          [ 49.,  59.,  51.],\n",
      "          ...,\n",
      "          [ 40.,  49.,  44.],\n",
      "          [ 40.,  49.,  44.],\n",
      "          [ 48.,  54.,  50.]],\n",
      "\n",
      "         [[ 49.,  59.,  51.],\n",
      "          [ 49.,  59.,  51.],\n",
      "          [ 49.,  59.,  51.],\n",
      "          ...,\n",
      "          [ 43.,  52.,  47.],\n",
      "          [ 41.,  50.,  45.],\n",
      "          [ 49.,  55.,  51.]]]])}\n"
     ]
    }
   ],
   "source": [
    "for i, batch in enumerate(dataloader):\n",
    "    print(batch)\n",
    "    if i > 0:\n",
    "        break"
   ]
  },
  {
   "cell_type": "markdown",
   "metadata": {},
   "source": [
    "# Unit testing"
   ]
  },
  {
   "cell_type": "code",
   "execution_count": 81,
   "metadata": {},
   "outputs": [
    {
     "data": {
      "text/plain": [
       "array([[ 4, 24,  4, ...,  4,  4,  4],\n",
       "       [ 4,  3, 24, ..., 27, 27, 24],\n",
       "       [24,  3,  3, ..., 16, 16, 24],\n",
       "       ...,\n",
       "       [24, 26, 26, ...,  6, 28,  1],\n",
       "       [24,  3,  3, ...,  1,  5, 11],\n",
       "       [ 4, 24,  4, ..., 24, 11, 24]])"
      ]
     },
     "execution_count": 81,
     "metadata": {},
     "output_type": "execute_result"
    }
   ],
   "source": [
    "np.loadtxt(os.path.join(train_path, '367.txt'), dtype='int')"
   ]
  },
  {
   "cell_type": "code",
   "execution_count": 82,
   "metadata": {},
   "outputs": [
    {
     "data": {
      "text/plain": [
       "True"
      ]
     },
     "execution_count": 82,
     "metadata": {},
     "output_type": "execute_result"
    }
   ],
   "source": [
    "np.allclose(np.loadtxt(os.path.join(train_path, '367.txt'), dtype='int'), label)"
   ]
  },
  {
   "cell_type": "code",
   "execution_count": 20,
   "metadata": {},
   "outputs": [
    {
     "data": {
      "text/plain": [
       "<matplotlib.axes._subplots.AxesSubplot at 0x7f5e526e3f98>"
      ]
     },
     "execution_count": 20,
     "metadata": {},
     "output_type": "execute_result"
    },
    {
     "data": {
      "image/png": "[encoded data removed]",
      "text/plain": [
       "<Figure size 432x288 with 2 Axes>"
      ]
     },
     "metadata": {
      "needs_background": "light"
     },
     "output_type": "display_data"
    }
   ],
   "source": [
    "test = np.loadtxt(os.path.join(train_path, '0002.txt'), dtype='int')\n",
    "import seaborn as sns\n",
    "sns.heatmap(test)"
   ]
  },
  {
   "cell_type": "code",
   "execution_count": 21,
   "metadata": {},
   "outputs": [
    {
     "data": {
      "text/plain": [
       "<matplotlib.axes._subplots.AxesSubplot at 0x7f5e526b50b8>"
      ]
     },
     "execution_count": 21,
     "metadata": {},
     "output_type": "execute_result"
    },
    {
     "data": {
      "image/png": "[encoded data removed]",
      "text/plain": [
       "<Figure size 432x288 with 2 Axes>"
      ]
     },
     "metadata": {
      "needs_background": "light"
     },
     "output_type": "display_data"
    }
   ],
   "source": [
    "test = np.loadtxt(os.path.join(test_path, '0007.txt'), dtype='int')\n",
    "import seaborn as sns\n",
    "sns.heatmap(test)"
   ]
  },
  {
   "cell_type": "code",
   "execution_count": null,
   "metadata": {},
   "outputs": [],
   "source": []
  }
 ],
 "metadata": {
  "kernelspec": {
   "display_name": "Python 3",
   "language": "python",
   "name": "python3"
  },
  "language_info": {
   "codemirror_mode": {
    "name": "ipython",
    "version": 3
   },
   "file_extension": ".py",
   "mimetype": "text/x-python",
   "name": "python",
   "nbconvert_exporter": "python",
   "pygments_lexer": "ipython3",
   "version": "3.5.2"
  }
 },
 "nbformat": 4,
 "nbformat_minor": 2
}
