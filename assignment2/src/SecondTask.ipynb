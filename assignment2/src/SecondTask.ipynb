{
 "cells": [
  {
   "cell_type": "code",
   "execution_count": 1,
   "metadata": {},
   "outputs": [],
   "source": [
    "import os\n",
    "import glob\n",
    "import time\n",
    "import datetime\n",
    "import itertools as it\n",
    "import numpy as np\n",
    "from imageio import imwrite\n",
    "import matplotlib.pyplot as plt\n",
    "import seaborn as sns"
   ]
  },
  {
   "cell_type": "code",
   "execution_count": 2,
   "metadata": {},
   "outputs": [],
   "source": [
    "import torch\n",
    "import torch.nn as nn\n",
    "import torch.nn.functional as F\n",
    "import torch.optim as optim\n",
    "import torch.nn.init as init\n",
    "import torch.nn.parameter as P\n",
    "from torch.utils.data import Dataset, DataLoader\n",
    "import torchvision\n",
    "from torchvision import transforms, datasets"
   ]
  },
  {
   "cell_type": "markdown",
   "metadata": {},
   "source": [
    "# Data preparation"
   ]
  },
  {
   "cell_type": "code",
   "execution_count": 2,
   "metadata": {},
   "outputs": [
    {
     "name": "stdout",
     "output_type": "stream",
     "text": [
      "3475\n"
     ]
    }
   ],
   "source": [
    "img_path = \"/home/md359230/DeepLearning/assignment2/data/cityscapes/*.png\"\n",
    "print(len(glob.glob(img_path)))"
   ]
  },
  {
   "cell_type": "code",
   "execution_count": 3,
   "metadata": {},
   "outputs": [],
   "source": [
    "base_path = \"/home/md359230/DeepLearning/assignment2/data/cityscapes\"\n",
    "images = [file for file in os.listdir(base_path) if file.endswith(\".png\")]"
   ]
  },
  {
   "cell_type": "code",
   "execution_count": 4,
   "metadata": {},
   "outputs": [],
   "source": [
    "np.random.shuffle(images)\n",
    "train_images, test_images = images[:-500], images[-500:]"
   ]
  },
  {
   "cell_type": "code",
   "execution_count": 6,
   "metadata": {},
   "outputs": [
    {
     "name": "stdout",
     "output_type": "stream",
     "text": [
      "2975 500\n"
     ]
    }
   ],
   "source": [
    "print(len(train_images), len(test_images))"
   ]
  },
  {
   "cell_type": "code",
   "execution_count": 7,
   "metadata": {},
   "outputs": [],
   "source": [
    "check_array = np.array(\n",
    "    [[116, 17, 36],\n",
    "     [152, 43,150],\n",
    "     [106,141, 34],\n",
    "     [ 69, 69, 69],\n",
    "     [  2,  1,  3],\n",
    "     [127, 63,126],\n",
    "     [222, 52,211],\n",
    "     [  2,  1,140],\n",
    "     [ 93,117,119],\n",
    "     [180,228,182],\n",
    "     [213,202, 43],\n",
    "     [ 79,  2, 80],\n",
    "     [188,151,155],\n",
    "     [  9,  5, 91],\n",
    "     [106, 75, 13],\n",
    "     [215, 20, 53],\n",
    "     [110,134, 62],\n",
    "     [  8, 68, 98],\n",
    "     [244,171,170],\n",
    "     [171, 43, 74],\n",
    "     [104, 96,155],\n",
    "     [ 72,130,177],\n",
    "     [242, 35,231],\n",
    "     [147,149,149],\n",
    "     [ 35, 25, 34],\n",
    "     [155,247,151],\n",
    "     [ 85, 68, 99],\n",
    "     [ 71, 81, 43],\n",
    "     [195, 64,182],\n",
    "     [146,133, 92]])"
   ]
  },
  {
   "cell_type": "code",
   "execution_count": 8,
   "metadata": {},
   "outputs": [],
   "source": [
    "# Encoding in form of 1e6 * x + 1e3 * y + z -> id\n",
    "label_encoding = {}\n",
    "def encodeLabel(label):\n",
    "    return label[0] * 1000000 + label[1] * 1000 + label[2]\n",
    "\n",
    "for label_code, label in enumerate(check_array):\n",
    "    label_encoding[encodeLabel(label)] = label_code"
   ]
  },
  {
   "cell_type": "code",
   "execution_count": 9,
   "metadata": {},
   "outputs": [],
   "source": [
    "def process_images(images, base_path, target_path):\n",
    "    counter = 0\n",
    "    for image in images:\n",
    "        counter += 1\n",
    "        if counter % 100 == 0:\n",
    "            print(counter)\n",
    "        # Split image into raw image and class annotation\n",
    "        data = plt.imread(os.path.join(base_path, image)) * 255\n",
    "        raw_image, label = data[:, :256, :], data[:, 256:, :]\n",
    "\n",
    "        raw_image = raw_image.astype('uint8')\n",
    "        # Save class annotation as txt\n",
    "        label = np.array([label_encoding[encodeLabel(label[x, y])] \n",
    "                          for x, y in it.product(range(256), range(256))])\n",
    "        label = label.reshape(256, 256).astype('uint8')\n",
    "\n",
    "        # Save training image and class annotation\n",
    "        imwrite(os.path.join(target_path, image), raw_image)\n",
    "        np.savetxt(os.path.join(target_path, image[:-4] + \".txt\"), label, fmt=\"%d\")"
   ]
  },
  {
   "cell_type": "code",
   "execution_count": 10,
   "metadata": {},
   "outputs": [
    {
     "name": "stdout",
     "output_type": "stream",
     "text": [
      "100\n",
      "200\n",
      "300\n",
      "400\n",
      "500\n",
      "600\n",
      "700\n",
      "800\n",
      "900\n",
      "1000\n",
      "1100\n",
      "1200\n",
      "1300\n",
      "1400\n",
      "1500\n",
      "1600\n",
      "1700\n",
      "1800\n",
      "1900\n",
      "2000\n",
      "2100\n",
      "2200\n",
      "2300\n",
      "2400\n",
      "2500\n",
      "2600\n",
      "2700\n",
      "2800\n",
      "2900\n"
     ]
    }
   ],
   "source": [
    "train_path = \"/home/md359230/DeepLearning/assignment2/data/train\"\n",
    "process_images(train_images, base_path, train_path)"
   ]
  },
  {
   "cell_type": "code",
   "execution_count": 11,
   "metadata": {},
   "outputs": [
    {
     "name": "stdout",
     "output_type": "stream",
     "text": [
      "100\n",
      "200\n",
      "300\n",
      "400\n",
      "500\n"
     ]
    }
   ],
   "source": [
    "test_path  = \"/home/md359230/DeepLearning/assignment2/data/test\"\n",
    "process_images(test_images, base_path, test_path)"
   ]
  },
  {
   "cell_type": "code",
   "execution_count": 62,
   "metadata": {},
   "outputs": [
    {
     "name": "stdout",
     "output_type": "stream",
     "text": [
      "5950\n"
     ]
    }
   ],
   "source": [
    "! ls /home/md359230/DeepLearning/assignment2/data/train | wc -l"
   ]
  },
  {
   "cell_type": "code",
   "execution_count": 63,
   "metadata": {},
   "outputs": [
    {
     "name": "stdout",
     "output_type": "stream",
     "text": [
      "1000\n"
     ]
    }
   ],
   "source": [
    "! ls /home/md359230/DeepLearning/assignment2/data/test | wc -l"
   ]
  },
  {
   "cell_type": "markdown",
   "metadata": {},
   "source": [
    "# Data loading"
   ]
  },
  {
   "cell_type": "code",
   "execution_count": 3,
   "metadata": {},
   "outputs": [],
   "source": [
    "class CityScapesDataSet(Dataset):\n",
    "    def __init__(self, root_dir, transform=None):\n",
    "        self.examples = list(set(name[:-4] for name in os.listdir(root_dir)))\n",
    "        self.example_number = len(self.examples)\n",
    "        self.root_dir = root_dir\n",
    "        self.transform = transform\n",
    "\n",
    "    def __len__(self):\n",
    "        return 2 * self.example_number\n",
    "\n",
    "    def __getitem__(self, idx):\n",
    "        \n",
    "        rotate_image = idx + 1 > self.example_number\n",
    "        img_name   = os.path.join(self.root_dir, self.examples[idx % self.example_number] + '.png')\n",
    "        label_name = os.path.join(self.root_dir, self.examples[idx % self.example_number] + '.txt')\n",
    "        \n",
    "        data = plt.imread(img_name)\n",
    "        label = np.loadtxt(label_name, dtype='int')\n",
    "        \n",
    "        if rotate_image:\n",
    "            data  = np.flip(data, axis=1).copy()\n",
    "            label = np.flip(label, axis=1).copy()\n",
    "            \n",
    "        if self.transform is not None:\n",
    "            data = transform(data)\n",
    "            label = torch.from_numpy(label)\n",
    "            \n",
    "        return data, label"
   ]
  },
  {
   "cell_type": "code",
   "execution_count": 8,
   "metadata": {},
   "outputs": [],
   "source": [
    "dataset_path = '/home/md359230/DeepLearning/assignment2/data/train'\n",
    "validation_path = '/home/md359230/DeepLearning/assignment2/data/test'"
   ]
  },
  {
   "cell_type": "code",
   "execution_count": 9,
   "metadata": {},
   "outputs": [],
   "source": [
    "transform = transforms.Compose([\n",
    "    transforms.ToTensor(),\n",
    "    transforms.Normalize((0.5, 0.5, 0.5), (0.5, 0.5, 0.5))\n",
    "])"
   ]
  },
  {
   "cell_type": "code",
   "execution_count": 10,
   "metadata": {},
   "outputs": [],
   "source": [
    "csds = CityScapesDataSet(dataset_path, transform)"
   ]
  },
  {
   "cell_type": "code",
   "execution_count": 11,
   "metadata": {},
   "outputs": [],
   "source": [
    "csdsval = CityScapesDataSet(validation_path, transform)"
   ]
  },
  {
   "cell_type": "code",
   "execution_count": 12,
   "metadata": {},
   "outputs": [],
   "source": [
    "dataloader = DataLoader(csds,\n",
    "                        batch_size=16,\n",
    "                        shuffle=True,\n",
    "                        num_workers=8)"
   ]
  },
  {
   "cell_type": "code",
   "execution_count": 156,
   "metadata": {},
   "outputs": [
    {
     "name": "stdout",
     "output_type": "stream",
     "text": [
      "2 torch.Size([128, 3, 256, 256]) torch.Size([128, 256, 256])\n",
      "CPU times: user 108 ms, sys: 1.15 s, total: 1.26 s\n",
      "Wall time: 54.3 s\n"
     ]
    }
   ],
   "source": [
    "%%time\n",
    "for i, batch in enumerate(dataloader):\n",
    "    if i % 100 == 0:\n",
    "        print(len(batch), batch[0].size(), batch[1].size())"
   ]
  },
  {
   "cell_type": "code",
   "execution_count": 8,
   "metadata": {},
   "outputs": [
    {
     "name": "stdout",
     "output_type": "stream",
     "text": [
      "5950\n"
     ]
    }
   ],
   "source": [
    "print(len(csds))"
   ]
  },
  {
   "cell_type": "markdown",
   "metadata": {},
   "source": [
    "# U-Net implementation"
   ]
  },
  {
   "cell_type": "code",
   "execution_count": 17,
   "metadata": {},
   "outputs": [],
   "source": [
    "class UNetConvolutionStack(nn.Module):\n",
    "    def __init__(self, in_channel, out_channel):\n",
    "        super(UNetConvolutionStack, self).__init__()\n",
    "        self.conv = nn.Sequential(\n",
    "            nn.Conv2d(in_channel, \n",
    "                      out_channel, \n",
    "                      kernel_size=3, \n",
    "                      padding=1),\n",
    "            nn.BatchNorm2d(out_channel),\n",
    "            nn.LeakyReLU()\n",
    "        )\n",
    "    \n",
    "    def forward(self, x):\n",
    "        x = self.conv(x)\n",
    "        return x"
   ]
  },
  {
   "cell_type": "code",
   "execution_count": 18,
   "metadata": {},
   "outputs": [],
   "source": [
    "class EncoderStack(nn.Module):\n",
    "    def __init__(self, in_channel, out_channel, first_layer=False):\n",
    "        super(EncoderStack, self).__init__()\n",
    "        if first_layer:\n",
    "            self.down = nn.Sequential(\n",
    "                UNetConvolutionStack(in_channel,\n",
    "                                     out_channel),\n",
    "                UNetConvolutionStack(out_channel,\n",
    "                                     out_channel)\n",
    "            )            \n",
    "        else:\n",
    "            self.down = nn.Sequential(\n",
    "                nn.MaxPool2d((2,2)),\n",
    "                UNetConvolutionStack(in_channel,\n",
    "                                     out_channel),\n",
    "                UNetConvolutionStack(out_channel,\n",
    "                                     out_channel)\n",
    "            )    \n",
    "            \n",
    "    def forward(self, x):\n",
    "        x = self.down(x)\n",
    "        return x"
   ]
  },
  {
   "cell_type": "code",
   "execution_count": 19,
   "metadata": {},
   "outputs": [],
   "source": [
    "class DecoderStack(nn.Module):\n",
    "    def __init__(self, in_channel, out_channel):\n",
    "        super(DecoderStack, self).__init__()\n",
    "        self.upsample = nn.ConvTranspose2d(in_channel , in_channel, 3, stride=2, padding=1)\n",
    "        self.up = nn.Sequential(\n",
    "            UNetConvolutionStack(in_channel + out_channel,\n",
    "                                 out_channel),\n",
    "            UNetConvolutionStack(out_channel,\n",
    "                                 out_channel)\n",
    "        )    \n",
    "    def forward(self, x, y):\n",
    "        x = self.upsample(x, output_size=y.size())\n",
    "        x = torch.cat([y, x], dim=1)\n",
    "        x = self.up(x)\n",
    "        return x"
   ]
  },
  {
   "cell_type": "code",
   "execution_count": 20,
   "metadata": {},
   "outputs": [],
   "source": [
    "class UNet(nn.Module):\n",
    "    def __init__(self, encoder_channels, decoder_channels):\n",
    "        super(UNet, self).__init__()\n",
    "        self.encoder = nn.ModuleList()\n",
    "        self.decoder = nn.ModuleList()\n",
    "        self.conv = nn.Conv2d(decoder_channels[-1], \n",
    "                              30, \n",
    "                              kernel_size=3, \n",
    "                              padding=1)\n",
    "    \n",
    "        encoder_sizes = zip(range(len(encoder_channels)), encoder_channels, encoder_channels[1:])\n",
    "        for idx, in_size, out_size in encoder_sizes:\n",
    "            if idx > 0:\n",
    "                self.encoder.append(EncoderStack(in_size, out_size))\n",
    "            else:\n",
    "                self.encoder.append(EncoderStack(in_size, out_size, first_layer=True))\n",
    "         \n",
    "        decoder_sizes = zip(decoder_channels, decoder_channels[1:])\n",
    "        for in_size, out_size in decoder_sizes:\n",
    "            self.decoder.append(DecoderStack(in_size, out_size))    \n",
    "            \n",
    "    def forward(self, x):\n",
    "        encoded_layers = []\n",
    "        for e in self.encoder:\n",
    "            x = e(x)\n",
    "            encoded_layers.append(x)\n",
    "        \n",
    "        del encoded_layers[-1]\n",
    "        #print([m.size() for m in encoded_layers])\n",
    "        encoded_layers.reverse()\n",
    "        \n",
    "        for y, d in zip(encoded_layers, self.decoder):\n",
    "            x = d(x, y)\n",
    "            \n",
    "        x = self.conv(x)\n",
    "        return x"
   ]
  },
  {
   "cell_type": "markdown",
   "metadata": {},
   "source": [
    "# U-Net training"
   ]
  },
  {
   "cell_type": "code",
   "execution_count": 144,
   "metadata": {},
   "outputs": [],
   "source": [
    "class UNetTrainer(object):\n",
    "    def __init__(self, trainLoader, testLoader):\n",
    "        self.trainLoader = trainLoader\n",
    "        self.testLoader = testLoader\n",
    "\n",
    "    def validate(self, net, use_gpu=False, device=None):\n",
    "        correct = 0\n",
    "        total = 0\n",
    "        \n",
    "        validation_size = len(self.testLoader) // 2\n",
    "        for idx in range(validation_size):\n",
    "            image, label = self.testLoader[idx]\n",
    "            flipped_image, flipped_label = self.testLoader[idx + validation_size]\n",
    "            image = image.unsqueeze(0)\n",
    "            flipped_image = flipped_image.unsqueeze(0)\n",
    "            \n",
    "            if device is not None and (device.__str__() != \"cpu\") and use_gpu:\n",
    "                image, label = image.to(device), label.to(device)  \n",
    "                flipped_image, flipped_label = flipped_image.to(device), flipped_label.to(device) \n",
    "                \n",
    "            output = net(image)\n",
    "            flipped_output = net(flipped_image)\n",
    "            data = (output.data.squeeze() + torch.flip(flipped_output.data.squeeze(), [2])) / 2\n",
    "            \n",
    "            _, predicted = torch.max(data, 0)\n",
    "            response = (label + torch.flip(flipped_label, [1])) / 2\n",
    "            \n",
    "            total += response.size()[0] * response.size()[1]\n",
    "            correct += (predicted == response).sum().item()\n",
    "                \n",
    "        print('Accuracy of the network on {} test images: {:2.4f} %'.format(\n",
    "        validation_size, 100 * correct / total))   \n",
    "        \n",
    "    def assess(self,  net, use_gpu=False, device=None):\n",
    "        correct = 0\n",
    "        total = 0\n",
    "        loader = self.trainLoader\n",
    "        for data in loader:\n",
    "            images, labels = data\n",
    "            if device is not None and (device.__str__() != \"cpu\") and use_gpu:\n",
    "                images, labels = images.to(device), labels.to(device)\n",
    "            outputs = net(images)\n",
    "            _, predicted = torch.max(outputs.data, 1)\n",
    "            total += labels.size()[0] * labels.size()[1] * labels.size()[2]\n",
    "            correct += (predicted == labels).sum().item()\n",
    "        \n",
    "        print('Accuracy of the network on {} train images: {:2.4f} %'.format(\n",
    "        len(self.trainLoader.dataset), 100 * correct / total))     \n",
    "           \n",
    "    def train(self, config, n_epoch=5, use_gpu=False):\n",
    "        net = UNet(**config)\n",
    "        \n",
    "        if use_gpu:\n",
    "            device = torch.device(\"cuda:0\" if torch.cuda.is_available() else \"cpu\")\n",
    "            if device.__str__() != \"cpu\":\n",
    "                net.to(device)\n",
    "        \n",
    "        criterion = nn.CrossEntropyLoss()\n",
    "        optimizer = optim.Adam(net.parameters(), lr=0.0002, amsgrad=True)\n",
    "\n",
    "        for epoch in range(n_epoch):\n",
    "            running_loss = 0.0\n",
    "            t = time.time()\n",
    "            net.train()\n",
    "            \n",
    "            for i, data in enumerate(self.trainLoader, 0):\n",
    "                inputs, labels = data\n",
    "                \n",
    "                if use_gpu:\n",
    "                    if(device.__str__() != \"cpu\"):\n",
    "                        inputs, labels = inputs.to(device), labels.to(device)\n",
    "                    \n",
    "                optimizer.zero_grad()\n",
    "                outputs = net(inputs)\n",
    "                loss = criterion(outputs, labels)\n",
    "                loss.backward()\n",
    "                optimizer.step()\n",
    "\n",
    "                running_loss += loss.item()\n",
    "                if i % 10 == 9:\n",
    "                    now = datetime.datetime.now()\n",
    "                    print('[%s , %d, %5d] Loss: %.4f' %\n",
    "                          (now.strftime('%Y-%m-%d %H:%M:%S'), epoch + 1, i + 1, running_loss / 100))\n",
    "                    print('[%s , %d, %5d] Elapsed time: %2.4f s' %\n",
    "                          (now.strftime('%Y-%m-%d %H:%M:%S'), epoch + 1, i + 1, time.time() - t))\n",
    "                    running_loss = 0.0\n",
    "                    t = time.time()\n",
    "            net.eval()\n",
    "            \n",
    "            self.assess(net, use_gpu=use_gpu, device=device)\n",
    "            self.validate(net, use_gpu=True, device=device)\n",
    "        return net"
   ]
  },
  {
   "cell_type": "code",
   "execution_count": 145,
   "metadata": {},
   "outputs": [],
   "source": [
    "config = {\n",
    "    \"encoder_channels\": [3, 32, 64, 128, 256, 512], \n",
    "    \"decoder_channels\": [512, 256, 128,64,32]\n",
    "}"
   ]
  },
  {
   "cell_type": "code",
   "execution_count": 146,
   "metadata": {},
   "outputs": [
    {
     "name": "stdout",
     "output_type": "stream",
     "text": [
      "[2019-05-07 22:59:54 , 1,    10] Loss: 0.3264\n",
      "[2019-05-07 22:59:54 , 1,    10] Elapsed time: 5.3046 s\n",
      "[2019-05-07 22:59:57 , 1,    20] Loss: 0.2939\n",
      "[2019-05-07 22:59:57 , 1,    20] Elapsed time: 3.2109 s\n",
      "[2019-05-07 23:00:01 , 1,    30] Loss: 0.2676\n",
      "[2019-05-07 23:00:01 , 1,    30] Elapsed time: 3.2068 s\n",
      "[2019-05-07 23:00:04 , 1,    40] Loss: 0.2493\n",
      "[2019-05-07 23:00:04 , 1,    40] Elapsed time: 3.2148 s\n",
      "[2019-05-07 23:00:07 , 1,    50] Loss: 0.2287\n",
      "[2019-05-07 23:00:07 , 1,    50] Elapsed time: 3.2265 s\n",
      "[2019-05-07 23:00:10 , 1,    60] Loss: 0.2144\n",
      "[2019-05-07 23:00:10 , 1,    60] Elapsed time: 3.2224 s\n",
      "[2019-05-07 23:00:14 , 1,    70] Loss: 0.1975\n",
      "[2019-05-07 23:00:14 , 1,    70] Elapsed time: 3.2455 s\n",
      "[2019-05-07 23:00:17 , 1,    80] Loss: 0.1912\n",
      "[2019-05-07 23:00:17 , 1,    80] Elapsed time: 3.2383 s\n",
      "[2019-05-07 23:00:20 , 1,    90] Loss: 0.1754\n",
      "[2019-05-07 23:00:20 , 1,    90] Elapsed time: 3.2515 s\n",
      "[2019-05-07 23:00:23 , 1,   100] Loss: 0.1685\n",
      "[2019-05-07 23:00:23 , 1,   100] Elapsed time: 3.2542 s\n",
      "[2019-05-07 23:00:27 , 1,   110] Loss: 0.1591\n",
      "[2019-05-07 23:00:27 , 1,   110] Elapsed time: 3.2751 s\n",
      "[2019-05-07 23:00:30 , 1,   120] Loss: 0.1554\n",
      "[2019-05-07 23:00:30 , 1,   120] Elapsed time: 3.2615 s\n",
      "[2019-05-07 23:00:33 , 1,   130] Loss: 0.1488\n",
      "[2019-05-07 23:00:33 , 1,   130] Elapsed time: 3.2750 s\n",
      "[2019-05-07 23:00:36 , 1,   140] Loss: 0.1424\n",
      "[2019-05-07 23:00:36 , 1,   140] Elapsed time: 3.2813 s\n",
      "[2019-05-07 23:00:40 , 1,   150] Loss: 0.1379\n",
      "[2019-05-07 23:00:40 , 1,   150] Elapsed time: 3.3031 s\n",
      "[2019-05-07 23:00:43 , 1,   160] Loss: 0.1336\n",
      "[2019-05-07 23:00:43 , 1,   160] Elapsed time: 3.2709 s\n",
      "[2019-05-07 23:00:46 , 1,   170] Loss: 0.1334\n",
      "[2019-05-07 23:00:46 , 1,   170] Elapsed time: 3.2906 s\n",
      "[2019-05-07 23:00:50 , 1,   180] Loss: 0.1327\n",
      "[2019-05-07 23:00:50 , 1,   180] Elapsed time: 3.2924 s\n",
      "[2019-05-07 23:00:53 , 1,   190] Loss: 0.1303\n",
      "[2019-05-07 23:00:53 , 1,   190] Elapsed time: 3.2967 s\n",
      "[2019-05-07 23:00:56 , 1,   200] Loss: 0.1213\n",
      "[2019-05-07 23:00:56 , 1,   200] Elapsed time: 3.3188 s\n",
      "[2019-05-07 23:00:59 , 1,   210] Loss: 0.1255\n",
      "[2019-05-07 23:00:59 , 1,   210] Elapsed time: 3.2917 s\n",
      "[2019-05-07 23:01:03 , 1,   220] Loss: 0.1188\n",
      "[2019-05-07 23:01:03 , 1,   220] Elapsed time: 3.3057 s\n",
      "[2019-05-07 23:01:06 , 1,   230] Loss: 0.1171\n",
      "[2019-05-07 23:01:06 , 1,   230] Elapsed time: 3.3138 s\n",
      "[2019-05-07 23:01:09 , 1,   240] Loss: 0.1153\n",
      "[2019-05-07 23:01:09 , 1,   240] Elapsed time: 3.2857 s\n",
      "[2019-05-07 23:01:13 , 1,   250] Loss: 0.1144\n",
      "[2019-05-07 23:01:13 , 1,   250] Elapsed time: 3.3146 s\n",
      "[2019-05-07 23:01:16 , 1,   260] Loss: 0.1169\n",
      "[2019-05-07 23:01:16 , 1,   260] Elapsed time: 3.3624 s\n",
      "[2019-05-07 23:01:19 , 1,   270] Loss: 0.1131\n",
      "[2019-05-07 23:01:19 , 1,   270] Elapsed time: 3.4291 s\n",
      "[2019-05-07 23:01:23 , 1,   280] Loss: 0.1144\n",
      "[2019-05-07 23:01:23 , 1,   280] Elapsed time: 3.4147 s\n",
      "[2019-05-07 23:01:26 , 1,   290] Loss: 0.1081\n",
      "[2019-05-07 23:01:26 , 1,   290] Elapsed time: 3.4590 s\n",
      "[2019-05-07 23:01:30 , 1,   300] Loss: 0.1146\n",
      "[2019-05-07 23:01:30 , 1,   300] Elapsed time: 3.5159 s\n",
      "[2019-05-07 23:01:33 , 1,   310] Loss: 0.1120\n",
      "[2019-05-07 23:01:33 , 1,   310] Elapsed time: 3.3617 s\n",
      "[2019-05-07 23:01:37 , 1,   320] Loss: 0.1071\n",
      "[2019-05-07 23:01:37 , 1,   320] Elapsed time: 3.3499 s\n",
      "[2019-05-07 23:01:40 , 1,   330] Loss: 0.1087\n",
      "[2019-05-07 23:01:40 , 1,   330] Elapsed time: 3.3417 s\n",
      "[2019-05-07 23:01:43 , 1,   340] Loss: 0.1139\n",
      "[2019-05-07 23:01:43 , 1,   340] Elapsed time: 3.4884 s\n",
      "[2019-05-07 23:01:47 , 1,   350] Loss: 0.1048\n",
      "[2019-05-07 23:01:47 , 1,   350] Elapsed time: 3.4955 s\n",
      "[2019-05-07 23:01:50 , 1,   360] Loss: 0.1068\n",
      "[2019-05-07 23:01:50 , 1,   360] Elapsed time: 3.4727 s\n",
      "[2019-05-07 23:01:54 , 1,   370] Loss: 0.1057\n",
      "[2019-05-07 23:01:54 , 1,   370] Elapsed time: 3.3294 s\n",
      "389939200 290202443 0.7442248509511227\n",
      "Accuracy of the network on 5950 train images: 74.4225 %\n",
      "24530676 32768000 0.7486168212890625\n",
      "Accuracy of the network on 500 test images: 74.8617 %\n",
      "[2019-05-07 23:03:50 , 2,    10] Loss: 0.1003\n",
      "[2019-05-07 23:03:50 , 2,    10] Elapsed time: 5.1664 s\n",
      "[2019-05-07 23:03:53 , 2,    20] Loss: 0.1049\n",
      "[2019-05-07 23:03:53 , 2,    20] Elapsed time: 3.2395 s\n",
      "[2019-05-07 23:03:57 , 2,    30] Loss: 0.0983\n",
      "[2019-05-07 23:03:57 , 2,    30] Elapsed time: 3.2468 s\n",
      "[2019-05-07 23:04:00 , 2,    40] Loss: 0.1066\n",
      "[2019-05-07 23:04:00 , 2,    40] Elapsed time: 3.2708 s\n",
      "[2019-05-07 23:04:03 , 2,    50] Loss: 0.1014\n",
      "[2019-05-07 23:04:03 , 2,    50] Elapsed time: 3.2623 s\n",
      "[2019-05-07 23:04:06 , 2,    60] Loss: 0.1001\n",
      "[2019-05-07 23:04:06 , 2,    60] Elapsed time: 3.2897 s\n",
      "[2019-05-07 23:04:10 , 2,    70] Loss: 0.1008\n",
      "[2019-05-07 23:04:10 , 2,    70] Elapsed time: 3.2694 s\n",
      "[2019-05-07 23:04:13 , 2,    80] Loss: 0.0991\n",
      "[2019-05-07 23:04:13 , 2,    80] Elapsed time: 3.2864 s\n",
      "[2019-05-07 23:04:16 , 2,    90] Loss: 0.0998\n",
      "[2019-05-07 23:04:16 , 2,    90] Elapsed time: 3.2686 s\n",
      "[2019-05-07 23:04:20 , 2,   100] Loss: 0.1009\n",
      "[2019-05-07 23:04:20 , 2,   100] Elapsed time: 3.3045 s\n",
      "[2019-05-07 23:04:23 , 2,   110] Loss: 0.0989\n",
      "[2019-05-07 23:04:23 , 2,   110] Elapsed time: 3.2808 s\n",
      "[2019-05-07 23:04:26 , 2,   120] Loss: 0.0965\n",
      "[2019-05-07 23:04:26 , 2,   120] Elapsed time: 3.3020 s\n",
      "[2019-05-07 23:04:29 , 2,   130] Loss: 0.0978\n",
      "[2019-05-07 23:04:29 , 2,   130] Elapsed time: 3.3076 s\n",
      "[2019-05-07 23:04:33 , 2,   140] Loss: 0.1023\n",
      "[2019-05-07 23:04:33 , 2,   140] Elapsed time: 3.2921 s\n",
      "[2019-05-07 23:04:36 , 2,   150] Loss: 0.0945\n",
      "[2019-05-07 23:04:36 , 2,   150] Elapsed time: 3.4984 s\n",
      "[2019-05-07 23:04:40 , 2,   160] Loss: 0.0957\n",
      "[2019-05-07 23:04:40 , 2,   160] Elapsed time: 3.3771 s\n",
      "[2019-05-07 23:04:43 , 2,   170] Loss: 0.0978\n",
      "[2019-05-07 23:04:43 , 2,   170] Elapsed time: 3.3244 s\n",
      "[2019-05-07 23:04:46 , 2,   180] Loss: 0.0960\n",
      "[2019-05-07 23:04:46 , 2,   180] Elapsed time: 3.3668 s\n",
      "[2019-05-07 23:04:50 , 2,   190] Loss: 0.0955\n",
      "[2019-05-07 23:04:50 , 2,   190] Elapsed time: 3.4379 s\n",
      "[2019-05-07 23:04:53 , 2,   200] Loss: 0.0923\n",
      "[2019-05-07 23:04:53 , 2,   200] Elapsed time: 3.3456 s\n",
      "[2019-05-07 23:04:56 , 2,   210] Loss: 0.0954\n",
      "[2019-05-07 23:04:56 , 2,   210] Elapsed time: 3.3583 s\n",
      "[2019-05-07 23:05:00 , 2,   220] Loss: 0.0961\n",
      "[2019-05-07 23:05:00 , 2,   220] Elapsed time: 3.3920 s\n",
      "[2019-05-07 23:05:03 , 2,   230] Loss: 0.0932\n",
      "[2019-05-07 23:05:03 , 2,   230] Elapsed time: 3.3906 s\n",
      "[2019-05-07 23:05:07 , 2,   240] Loss: 0.0913\n",
      "[2019-05-07 23:05:07 , 2,   240] Elapsed time: 3.4080 s\n",
      "[2019-05-07 23:05:10 , 2,   250] Loss: 0.0933\n",
      "[2019-05-07 23:05:10 , 2,   250] Elapsed time: 3.3761 s\n",
      "[2019-05-07 23:05:13 , 2,   260] Loss: 0.1003\n",
      "[2019-05-07 23:05:13 , 2,   260] Elapsed time: 3.3930 s\n",
      "[2019-05-07 23:05:17 , 2,   270] Loss: 0.0955\n",
      "[2019-05-07 23:05:17 , 2,   270] Elapsed time: 3.3322 s\n",
      "[2019-05-07 23:05:20 , 2,   280] Loss: 0.0921\n",
      "[2019-05-07 23:05:20 , 2,   280] Elapsed time: 3.3597 s\n",
      "[2019-05-07 23:05:23 , 2,   290] Loss: 0.0881\n",
      "[2019-05-07 23:05:23 , 2,   290] Elapsed time: 3.4310 s\n",
      "[2019-05-07 23:05:27 , 2,   300] Loss: 0.0924\n",
      "[2019-05-07 23:05:27 , 2,   300] Elapsed time: 3.4430 s\n",
      "[2019-05-07 23:05:30 , 2,   310] Loss: 0.0932\n",
      "[2019-05-07 23:05:30 , 2,   310] Elapsed time: 3.4402 s\n",
      "[2019-05-07 23:05:34 , 2,   320] Loss: 0.0942\n",
      "[2019-05-07 23:05:34 , 2,   320] Elapsed time: 3.3397 s\n",
      "[2019-05-07 23:05:37 , 2,   330] Loss: 0.0902\n",
      "[2019-05-07 23:05:37 , 2,   330] Elapsed time: 3.3423 s\n",
      "[2019-05-07 23:05:40 , 2,   340] Loss: 0.0883\n",
      "[2019-05-07 23:05:40 , 2,   340] Elapsed time: 3.4307 s\n",
      "[2019-05-07 23:05:44 , 2,   350] Loss: 0.0920\n",
      "[2019-05-07 23:05:44 , 2,   350] Elapsed time: 3.3659 s\n",
      "[2019-05-07 23:05:47 , 2,   360] Loss: 0.0891\n",
      "[2019-05-07 23:05:47 , 2,   360] Elapsed time: 3.3568 s\n",
      "[2019-05-07 23:05:51 , 2,   370] Loss: 0.0898\n",
      "[2019-05-07 23:05:51 , 2,   370] Elapsed time: 3.3287 s\n",
      "389939200 298633910 0.7658473679999344\n",
      "Accuracy of the network on 5950 train images: 76.5847 %\n",
      "25169524 32768000 0.7681129150390625\n",
      "Accuracy of the network on 500 test images: 76.8113 %\n",
      "[2019-05-07 23:07:45 , 3,    10] Loss: 0.0943\n",
      "[2019-05-07 23:07:45 , 3,    10] Elapsed time: 5.0261 s\n",
      "[2019-05-07 23:07:49 , 3,    20] Loss: 0.0945\n",
      "[2019-05-07 23:07:49 , 3,    20] Elapsed time: 3.2461 s\n",
      "[2019-05-07 23:07:52 , 3,    30] Loss: 0.0901\n",
      "[2019-05-07 23:07:52 , 3,    30] Elapsed time: 3.2482 s\n",
      "[2019-05-07 23:07:55 , 3,    40] Loss: 0.0922\n",
      "[2019-05-07 23:07:55 , 3,    40] Elapsed time: 3.2680 s\n",
      "[2019-05-07 23:07:58 , 3,    50] Loss: 0.0916\n",
      "[2019-05-07 23:07:58 , 3,    50] Elapsed time: 3.2609 s\n",
      "[2019-05-07 23:08:02 , 3,    60] Loss: 0.0873\n",
      "[2019-05-07 23:08:02 , 3,    60] Elapsed time: 3.2719 s\n",
      "[2019-05-07 23:08:05 , 3,    70] Loss: 0.0903\n",
      "[2019-05-07 23:08:05 , 3,    70] Elapsed time: 3.2827 s\n",
      "[2019-05-07 23:08:08 , 3,    80] Loss: 0.0878\n",
      "[2019-05-07 23:08:08 , 3,    80] Elapsed time: 3.2797 s\n",
      "[2019-05-07 23:08:12 , 3,    90] Loss: 0.0845\n",
      "[2019-05-07 23:08:12 , 3,    90] Elapsed time: 3.2808 s\n",
      "[2019-05-07 23:08:15 , 3,   100] Loss: 0.0805\n",
      "[2019-05-07 23:08:15 , 3,   100] Elapsed time: 3.3001 s\n",
      "[2019-05-07 23:08:18 , 3,   110] Loss: 0.0842\n",
      "[2019-05-07 23:08:18 , 3,   110] Elapsed time: 3.2927 s\n",
      "[2019-05-07 23:08:21 , 3,   120] Loss: 0.0875\n",
      "[2019-05-07 23:08:21 , 3,   120] Elapsed time: 3.3143 s\n",
      "[2019-05-07 23:08:25 , 3,   130] Loss: 0.0840\n",
      "[2019-05-07 23:08:25 , 3,   130] Elapsed time: 3.3016 s\n",
      "[2019-05-07 23:08:28 , 3,   140] Loss: 0.0847\n",
      "[2019-05-07 23:08:28 , 3,   140] Elapsed time: 3.3277 s\n",
      "[2019-05-07 23:08:31 , 3,   150] Loss: 0.0829\n",
      "[2019-05-07 23:08:31 , 3,   150] Elapsed time: 3.3767 s\n",
      "[2019-05-07 23:08:35 , 3,   160] Loss: 0.0859\n",
      "[2019-05-07 23:08:35 , 3,   160] Elapsed time: 3.4281 s\n",
      "[2019-05-07 23:08:38 , 3,   170] Loss: 0.0849\n",
      "[2019-05-07 23:08:38 , 3,   170] Elapsed time: 3.4963 s\n",
      "[2019-05-07 23:08:42 , 3,   180] Loss: 0.0873\n",
      "[2019-05-07 23:08:42 , 3,   180] Elapsed time: 3.3790 s\n",
      "[2019-05-07 23:08:45 , 3,   190] Loss: 0.0834\n",
      "[2019-05-07 23:08:45 , 3,   190] Elapsed time: 3.3647 s\n",
      "[2019-05-07 23:08:48 , 3,   200] Loss: 0.0843\n",
      "[2019-05-07 23:08:48 , 3,   200] Elapsed time: 3.3802 s\n",
      "[2019-05-07 23:08:52 , 3,   210] Loss: 0.0811\n",
      "[2019-05-07 23:08:52 , 3,   210] Elapsed time: 3.3407 s\n",
      "[2019-05-07 23:08:55 , 3,   220] Loss: 0.0822\n",
      "[2019-05-07 23:08:55 , 3,   220] Elapsed time: 3.3898 s\n",
      "[2019-05-07 23:08:59 , 3,   230] Loss: 0.0843\n",
      "[2019-05-07 23:08:59 , 3,   230] Elapsed time: 3.3376 s\n",
      "[2019-05-07 23:09:02 , 3,   240] Loss: 0.0797\n",
      "[2019-05-07 23:09:02 , 3,   240] Elapsed time: 3.4162 s\n",
      "[2019-05-07 23:09:05 , 3,   250] Loss: 0.0880\n",
      "[2019-05-07 23:09:05 , 3,   250] Elapsed time: 3.3440 s\n",
      "[2019-05-07 23:09:09 , 3,   260] Loss: 0.0795\n",
      "[2019-05-07 23:09:09 , 3,   260] Elapsed time: 3.3974 s\n",
      "[2019-05-07 23:09:12 , 3,   270] Loss: 0.0876\n",
      "[2019-05-07 23:09:12 , 3,   270] Elapsed time: 3.4286 s\n",
      "[2019-05-07 23:09:16 , 3,   280] Loss: 0.0821\n",
      "[2019-05-07 23:09:16 , 3,   280] Elapsed time: 3.3974 s\n",
      "[2019-05-07 23:09:19 , 3,   290] Loss: 0.0863\n",
      "[2019-05-07 23:09:19 , 3,   290] Elapsed time: 3.4155 s\n",
      "[2019-05-07 23:09:22 , 3,   300] Loss: 0.0794\n",
      "[2019-05-07 23:09:22 , 3,   300] Elapsed time: 3.4132 s\n",
      "[2019-05-07 23:09:26 , 3,   310] Loss: 0.0782\n",
      "[2019-05-07 23:09:26 , 3,   310] Elapsed time: 3.5027 s\n",
      "[2019-05-07 23:09:29 , 3,   320] Loss: 0.0821\n",
      "[2019-05-07 23:09:29 , 3,   320] Elapsed time: 3.3705 s\n",
      "[2019-05-07 23:09:33 , 3,   330] Loss: 0.0763\n",
      "[2019-05-07 23:09:33 , 3,   330] Elapsed time: 3.3577 s\n",
      "[2019-05-07 23:09:36 , 3,   340] Loss: 0.0836\n",
      "[2019-05-07 23:09:36 , 3,   340] Elapsed time: 3.3592 s\n",
      "[2019-05-07 23:09:39 , 3,   350] Loss: 0.0845\n",
      "[2019-05-07 23:09:39 , 3,   350] Elapsed time: 3.4050 s\n",
      "[2019-05-07 23:09:43 , 3,   360] Loss: 0.0827\n",
      "[2019-05-07 23:09:43 , 3,   360] Elapsed time: 3.3314 s\n",
      "[2019-05-07 23:09:46 , 3,   370] Loss: 0.0783\n",
      "[2019-05-07 23:09:46 , 3,   370] Elapsed time: 3.3381 s\n",
      "389939200 306257871 0.7853990340032497\n",
      "Accuracy of the network on 5950 train images: 78.5399 %\n",
      "25777958 32768000 0.7866808471679687\n",
      "Accuracy of the network on 500 test images: 78.6681 %\n",
      "[2019-05-07 23:11:41 , 4,    10] Loss: 0.0788\n",
      "[2019-05-07 23:11:41 , 4,    10] Elapsed time: 5.0298 s\n",
      "[2019-05-07 23:11:45 , 4,    20] Loss: 0.0770\n",
      "[2019-05-07 23:11:45 , 4,    20] Elapsed time: 3.2515 s\n",
      "[2019-05-07 23:11:48 , 4,    30] Loss: 0.0788\n",
      "[2019-05-07 23:11:48 , 4,    30] Elapsed time: 3.2810 s\n",
      "[2019-05-07 23:11:51 , 4,    40] Loss: 0.0744\n",
      "[2019-05-07 23:11:51 , 4,    40] Elapsed time: 3.2489 s\n",
      "[2019-05-07 23:11:54 , 4,    50] Loss: 0.0817\n",
      "[2019-05-07 23:11:54 , 4,    50] Elapsed time: 3.2539 s\n",
      "[2019-05-07 23:11:58 , 4,    60] Loss: 0.0781\n",
      "[2019-05-07 23:11:58 , 4,    60] Elapsed time: 3.2778 s\n",
      "[2019-05-07 23:12:01 , 4,    70] Loss: 0.0809\n",
      "[2019-05-07 23:12:01 , 4,    70] Elapsed time: 3.2654 s\n",
      "[2019-05-07 23:12:04 , 4,    80] Loss: 0.0758\n",
      "[2019-05-07 23:12:04 , 4,    80] Elapsed time: 3.3121 s\n",
      "[2019-05-07 23:12:07 , 4,    90] Loss: 0.0802\n",
      "[2019-05-07 23:12:07 , 4,    90] Elapsed time: 3.2731 s\n",
      "[2019-05-07 23:12:11 , 4,   100] Loss: 0.0751\n",
      "[2019-05-07 23:12:11 , 4,   100] Elapsed time: 3.3123 s\n",
      "[2019-05-07 23:12:14 , 4,   110] Loss: 0.0782\n",
      "[2019-05-07 23:12:14 , 4,   110] Elapsed time: 3.3232 s\n",
      "[2019-05-07 23:12:17 , 4,   120] Loss: 0.0771\n",
      "[2019-05-07 23:12:17 , 4,   120] Elapsed time: 3.2866 s\n",
      "[2019-05-07 23:12:21 , 4,   130] Loss: 0.0790\n",
      "[2019-05-07 23:12:21 , 4,   130] Elapsed time: 3.3365 s\n",
      "[2019-05-07 23:12:24 , 4,   140] Loss: 0.0768\n",
      "[2019-05-07 23:12:24 , 4,   140] Elapsed time: 3.3560 s\n",
      "[2019-05-07 23:12:27 , 4,   150] Loss: 0.0807\n",
      "[2019-05-07 23:12:27 , 4,   150] Elapsed time: 3.3460 s\n",
      "[2019-05-07 23:12:31 , 4,   160] Loss: 0.0792\n",
      "[2019-05-07 23:12:31 , 4,   160] Elapsed time: 3.4313 s\n",
      "[2019-05-07 23:12:34 , 4,   170] Loss: 0.0796\n",
      "[2019-05-07 23:12:34 , 4,   170] Elapsed time: 3.3866 s\n",
      "[2019-05-07 23:12:38 , 4,   180] Loss: 0.0810\n",
      "[2019-05-07 23:12:38 , 4,   180] Elapsed time: 3.3702 s\n",
      "[2019-05-07 23:12:41 , 4,   190] Loss: 0.0803\n",
      "[2019-05-07 23:12:41 , 4,   190] Elapsed time: 3.3886 s\n",
      "[2019-05-07 23:12:45 , 4,   200] Loss: 0.0793\n",
      "[2019-05-07 23:12:45 , 4,   200] Elapsed time: 3.6353 s\n",
      "[2019-05-07 23:12:48 , 4,   210] Loss: 0.0763\n",
      "[2019-05-07 23:12:48 , 4,   210] Elapsed time: 3.4086 s\n",
      "[2019-05-07 23:12:51 , 4,   220] Loss: 0.0810\n",
      "[2019-05-07 23:12:51 , 4,   220] Elapsed time: 3.4092 s\n",
      "[2019-05-07 23:12:55 , 4,   230] Loss: 0.0760\n",
      "[2019-05-07 23:12:55 , 4,   230] Elapsed time: 3.3495 s\n",
      "[2019-05-07 23:12:58 , 4,   240] Loss: 0.0798\n",
      "[2019-05-07 23:12:58 , 4,   240] Elapsed time: 3.3737 s\n",
      "[2019-05-07 23:13:02 , 4,   250] Loss: 0.0775\n",
      "[2019-05-07 23:13:02 , 4,   250] Elapsed time: 3.3982 s\n",
      "[2019-05-07 23:13:05 , 4,   260] Loss: 0.0742\n",
      "[2019-05-07 23:13:05 , 4,   260] Elapsed time: 3.3618 s\n",
      "[2019-05-07 23:13:08 , 4,   270] Loss: 0.0762\n",
      "[2019-05-07 23:13:08 , 4,   270] Elapsed time: 3.3645 s\n",
      "[2019-05-07 23:13:12 , 4,   280] Loss: 0.0812\n",
      "[2019-05-07 23:13:12 , 4,   280] Elapsed time: 3.3558 s\n",
      "[2019-05-07 23:13:15 , 4,   290] Loss: 0.0775\n",
      "[2019-05-07 23:13:15 , 4,   290] Elapsed time: 3.3431 s\n",
      "[2019-05-07 23:13:18 , 4,   300] Loss: 0.0753\n",
      "[2019-05-07 23:13:18 , 4,   300] Elapsed time: 3.4137 s\n",
      "[2019-05-07 23:13:22 , 4,   310] Loss: 0.0794\n",
      "[2019-05-07 23:13:22 , 4,   310] Elapsed time: 3.3580 s\n",
      "[2019-05-07 23:13:25 , 4,   320] Loss: 0.0791\n",
      "[2019-05-07 23:13:25 , 4,   320] Elapsed time: 3.3926 s\n",
      "[2019-05-07 23:13:29 , 4,   330] Loss: 0.0795\n",
      "[2019-05-07 23:13:29 , 4,   330] Elapsed time: 3.3560 s\n",
      "[2019-05-07 23:13:32 , 4,   340] Loss: 0.0747\n",
      "[2019-05-07 23:13:32 , 4,   340] Elapsed time: 3.3714 s\n",
      "[2019-05-07 23:13:35 , 4,   350] Loss: 0.0756\n",
      "[2019-05-07 23:13:35 , 4,   350] Elapsed time: 3.4028 s\n",
      "[2019-05-07 23:13:39 , 4,   360] Loss: 0.0754\n",
      "[2019-05-07 23:13:39 , 4,   360] Elapsed time: 3.3455 s\n",
      "[2019-05-07 23:13:42 , 4,   370] Loss: 0.0791\n",
      "[2019-05-07 23:13:42 , 4,   370] Elapsed time: 3.5009 s\n",
      "389939200 307493888 0.7885688025210084\n",
      "Accuracy of the network on 5950 train images: 78.8569 %\n",
      "25804888 32768000 0.787502685546875\n",
      "Accuracy of the network on 500 test images: 78.7503 %\n",
      "[2019-05-07 23:15:42 , 5,    10] Loss: 0.0732\n",
      "[2019-05-07 23:15:42 , 5,    10] Elapsed time: 4.9005 s\n",
      "[2019-05-07 23:15:45 , 5,    20] Loss: 0.0774\n",
      "[2019-05-07 23:15:45 , 5,    20] Elapsed time: 3.2342 s\n",
      "[2019-05-07 23:15:48 , 5,    30] Loss: 0.0771\n",
      "[2019-05-07 23:15:48 , 5,    30] Elapsed time: 3.2581 s\n",
      "[2019-05-07 23:15:51 , 5,    40] Loss: 0.0731\n",
      "[2019-05-07 23:15:51 , 5,    40] Elapsed time: 3.2514 s\n",
      "[2019-05-07 23:15:55 , 5,    50] Loss: 0.0770\n",
      "[2019-05-07 23:15:55 , 5,    50] Elapsed time: 3.2680 s\n",
      "[2019-05-07 23:15:58 , 5,    60] Loss: 0.0771\n",
      "[2019-05-07 23:15:58 , 5,    60] Elapsed time: 3.2637 s\n",
      "[2019-05-07 23:16:01 , 5,    70] Loss: 0.0720\n",
      "[2019-05-07 23:16:01 , 5,    70] Elapsed time: 3.2780 s\n",
      "[2019-05-07 23:16:04 , 5,    80] Loss: 0.0744\n",
      "[2019-05-07 23:16:04 , 5,    80] Elapsed time: 3.2686 s\n",
      "[2019-05-07 23:16:08 , 5,    90] Loss: 0.0728\n",
      "[2019-05-07 23:16:08 , 5,    90] Elapsed time: 3.2709 s\n",
      "[2019-05-07 23:16:11 , 5,   100] Loss: 0.0722\n",
      "[2019-05-07 23:16:11 , 5,   100] Elapsed time: 3.2910 s\n",
      "[2019-05-07 23:16:14 , 5,   110] Loss: 0.0766\n",
      "[2019-05-07 23:16:14 , 5,   110] Elapsed time: 3.3061 s\n",
      "[2019-05-07 23:16:18 , 5,   120] Loss: 0.0744\n",
      "[2019-05-07 23:16:18 , 5,   120] Elapsed time: 3.2748 s\n",
      "[2019-05-07 23:16:21 , 5,   130] Loss: 0.0705\n",
      "[2019-05-07 23:16:21 , 5,   130] Elapsed time: 3.3086 s\n",
      "[2019-05-07 23:16:24 , 5,   140] Loss: 0.0756\n",
      "[2019-05-07 23:16:24 , 5,   140] Elapsed time: 3.5334 s\n",
      "[2019-05-07 23:16:28 , 5,   150] Loss: 0.0755\n",
      "[2019-05-07 23:16:28 , 5,   150] Elapsed time: 3.3722 s\n",
      "[2019-05-07 23:16:31 , 5,   160] Loss: 0.0768\n",
      "[2019-05-07 23:16:31 , 5,   160] Elapsed time: 3.4820 s\n",
      "[2019-05-07 23:16:35 , 5,   170] Loss: 0.0673\n",
      "[2019-05-07 23:16:35 , 5,   170] Elapsed time: 3.4987 s\n",
      "[2019-05-07 23:16:38 , 5,   180] Loss: 0.0722\n",
      "[2019-05-07 23:16:38 , 5,   180] Elapsed time: 3.3625 s\n",
      "[2019-05-07 23:16:42 , 5,   190] Loss: 0.0709\n",
      "[2019-05-07 23:16:42 , 5,   190] Elapsed time: 3.3895 s\n",
      "[2019-05-07 23:16:45 , 5,   200] Loss: 0.0739\n",
      "[2019-05-07 23:16:45 , 5,   200] Elapsed time: 3.4142 s\n",
      "[2019-05-07 23:16:48 , 5,   210] Loss: 0.0690\n",
      "[2019-05-07 23:16:48 , 5,   210] Elapsed time: 3.4230 s\n",
      "[2019-05-07 23:16:52 , 5,   220] Loss: 0.0736\n",
      "[2019-05-07 23:16:52 , 5,   220] Elapsed time: 3.4197 s\n",
      "[2019-05-07 23:16:55 , 5,   230] Loss: 0.0731\n",
      "[2019-05-07 23:16:55 , 5,   230] Elapsed time: 3.3564 s\n",
      "[2019-05-07 23:16:59 , 5,   240] Loss: 0.0775\n",
      "[2019-05-07 23:16:59 , 5,   240] Elapsed time: 3.3676 s\n",
      "[2019-05-07 23:17:02 , 5,   250] Loss: 0.0740\n",
      "[2019-05-07 23:17:02 , 5,   250] Elapsed time: 3.4217 s\n",
      "[2019-05-07 23:17:05 , 5,   260] Loss: 0.0709\n",
      "[2019-05-07 23:17:05 , 5,   260] Elapsed time: 3.4052 s\n",
      "[2019-05-07 23:17:09 , 5,   270] Loss: 0.0760\n",
      "[2019-05-07 23:17:09 , 5,   270] Elapsed time: 3.4159 s\n",
      "[2019-05-07 23:17:12 , 5,   280] Loss: 0.0715\n",
      "[2019-05-07 23:17:12 , 5,   280] Elapsed time: 3.3352 s\n",
      "[2019-05-07 23:17:16 , 5,   290] Loss: 0.0763\n",
      "[2019-05-07 23:17:16 , 5,   290] Elapsed time: 3.4646 s\n",
      "[2019-05-07 23:17:19 , 5,   300] Loss: 0.0706\n",
      "[2019-05-07 23:17:19 , 5,   300] Elapsed time: 3.3858 s\n",
      "[2019-05-07 23:17:22 , 5,   310] Loss: 0.0720\n",
      "[2019-05-07 23:17:22 , 5,   310] Elapsed time: 3.3418 s\n",
      "[2019-05-07 23:17:26 , 5,   320] Loss: 0.0752\n",
      "[2019-05-07 23:17:26 , 5,   320] Elapsed time: 3.3453 s\n",
      "[2019-05-07 23:17:29 , 5,   330] Loss: 0.0779\n",
      "[2019-05-07 23:17:29 , 5,   330] Elapsed time: 3.4026 s\n",
      "[2019-05-07 23:17:32 , 5,   340] Loss: 0.0723\n",
      "[2019-05-07 23:17:32 , 5,   340] Elapsed time: 3.3574 s\n",
      "[2019-05-07 23:17:36 , 5,   350] Loss: 0.0697\n",
      "[2019-05-07 23:17:36 , 5,   350] Elapsed time: 3.3384 s\n",
      "[2019-05-07 23:17:39 , 5,   360] Loss: 0.0667\n",
      "[2019-05-07 23:17:39 , 5,   360] Elapsed time: 3.3981 s\n",
      "[2019-05-07 23:17:43 , 5,   370] Loss: 0.0724\n",
      "[2019-05-07 23:17:43 , 5,   370] Elapsed time: 3.3877 s\n",
      "389939200 314360803 0.8061790222680869\n",
      "Accuracy of the network on 5950 train images: 80.6179 %\n",
      "26359927 32768000 0.8044411315917969\n",
      "Accuracy of the network on 500 test images: 80.4441 %\n"
     ]
    }
   ],
   "source": [
    "trainer = UNetTrainer(dataloader, csdsval)\n",
    "model = trainer.train(config, n_epoch=5, use_gpu=True)"
   ]
  },
  {
   "cell_type": "code",
   "execution_count": 147,
   "metadata": {},
   "outputs": [
    {
     "name": "stdout",
     "output_type": "stream",
     "text": [
      "26359927 32768000 0.8044411315917969\n",
      "Accuracy of the network on 500 test images: 80.4441 %\n"
     ]
    }
   ],
   "source": [
    "trainer = UNetTrainer(dataloader, csdsval)\n",
    "trainer.validate(model, use_gpu=True, device=device)"
   ]
  },
  {
   "cell_type": "code",
   "execution_count": null,
   "metadata": {},
   "outputs": [],
   "source": []
  },
  {
   "cell_type": "markdown",
   "metadata": {},
   "source": [
    "# Unit testing"
   ]
  },
  {
   "cell_type": "code",
   "execution_count": 81,
   "metadata": {},
   "outputs": [
    {
     "data": {
      "text/plain": [
       "array([[ 4, 24,  4, ...,  4,  4,  4],\n",
       "       [ 4,  3, 24, ..., 27, 27, 24],\n",
       "       [24,  3,  3, ..., 16, 16, 24],\n",
       "       ...,\n",
       "       [24, 26, 26, ...,  6, 28,  1],\n",
       "       [24,  3,  3, ...,  1,  5, 11],\n",
       "       [ 4, 24,  4, ..., 24, 11, 24]])"
      ]
     },
     "execution_count": 81,
     "metadata": {},
     "output_type": "execute_result"
    }
   ],
   "source": [
    "np.loadtxt(os.path.join(train_path, '367.txt'), dtype='int')"
   ]
  },
  {
   "cell_type": "code",
   "execution_count": 82,
   "metadata": {},
   "outputs": [
    {
     "data": {
      "text/plain": [
       "True"
      ]
     },
     "execution_count": 82,
     "metadata": {},
     "output_type": "execute_result"
    }
   ],
   "source": [
    "np.allclose(np.loadtxt(os.path.join(train_path, '367.txt'), dtype='int'), label)"
   ]
  },
  {
   "cell_type": "code",
   "execution_count": 20,
   "metadata": {},
   "outputs": [
    {
     "data": {
      "text/plain": [
       "<matplotlib.axes._subplots.AxesSubplot at 0x7f5e526e3f98>"
      ]
     },
     "execution_count": 20,
     "metadata": {},
     "output_type": "execute_result"
    },
    {
     "data": {
      "image/png": "[encoded data removed]",
      "text/plain": [
       "<Figure size 432x288 with 2 Axes>"
      ]
     },
     "metadata": {
      "needs_background": "light"
     },
     "output_type": "display_data"
    }
   ],
   "source": [
    "test = np.loadtxt(os.path.join(train_path, '0002.txt'), dtype='int')\n",
    "import seaborn as sns\n",
    "sns.heatmap(test)"
   ]
  },
  {
   "cell_type": "code",
   "execution_count": 21,
   "metadata": {},
   "outputs": [
    {
     "data": {
      "text/plain": [
       "<matplotlib.axes._subplots.AxesSubplot at 0x7f5e526b50b8>"
      ]
     },
     "execution_count": 21,
     "metadata": {},
     "output_type": "execute_result"
    },
    {
     "data": {
      "image/png": "[encoded data removed]",
      "text/plain": [
       "<Figure size 432x288 with 2 Axes>"
      ]
     },
     "metadata": {
      "needs_background": "light"
     },
     "output_type": "display_data"
    }
   ],
   "source": [
    "test = np.loadtxt(os.path.join(test_path, '0007.txt'), dtype='int')\n",
    "import seaborn as sns\n",
    "sns.heatmap(test)"
   ]
  },
  {
   "cell_type": "code",
   "execution_count": 75,
   "metadata": {},
   "outputs": [],
   "source": [
    "csds = CityScapesDataSet(dataset_path)"
   ]
  },
  {
   "cell_type": "code",
   "execution_count": 76,
   "metadata": {},
   "outputs": [
    {
     "data": {
      "text/plain": [
       "False"
      ]
     },
     "execution_count": 76,
     "metadata": {},
     "output_type": "execute_result"
    }
   ],
   "source": [
    "csds.transform is not None"
   ]
  },
  {
   "cell_type": "code",
   "execution_count": 77,
   "metadata": {},
   "outputs": [
    {
     "data": {
      "text/plain": [
       "5950"
      ]
     },
     "execution_count": 77,
     "metadata": {},
     "output_type": "execute_result"
    }
   ],
   "source": [
    "len(os.listdir(dataset_path))"
   ]
  },
  {
   "cell_type": "code",
   "execution_count": 82,
   "metadata": {},
   "outputs": [],
   "source": [
    "data, label = csds[5950 // 2]"
   ]
  },
  {
   "cell_type": "code",
   "execution_count": 83,
   "metadata": {},
   "outputs": [
    {
     "data": {
      "text/plain": [
       "<matplotlib.image.AxesImage at 0x7f1d687b10f0>"
      ]
     },
     "execution_count": 83,
     "metadata": {},
     "output_type": "execute_result"
    },
    {
     "data": {
      "image/png": "[encoded data removed]",
      "text/plain": [
       "<Figure size 432x288 with 1 Axes>"
      ]
     },
     "metadata": {
      "needs_background": "light"
     },
     "output_type": "display_data"
    }
   ],
   "source": [
    "plt.imshow(data)"
   ]
  },
  {
   "cell_type": "code",
   "execution_count": 84,
   "metadata": {},
   "outputs": [
    {
     "data": {
      "text/plain": [
       "<matplotlib.axes._subplots.AxesSubplot at 0x7f1d687cf5c0>"
      ]
     },
     "execution_count": 84,
     "metadata": {},
     "output_type": "execute_result"
    },
    {
     "data": {
      "image/png": "[encoded data removed]",
      "text/plain": [
       "<Figure size 432x288 with 2 Axes>"
      ]
     },
     "metadata": {
      "needs_background": "light"
     },
     "output_type": "display_data"
    }
   ],
   "source": [
    "sns.heatmap(label)"
   ]
  },
  {
   "cell_type": "code",
   "execution_count": 42,
   "metadata": {},
   "outputs": [],
   "source": [
    "for i, sample in enumerate(dataloader):\n",
    "    data, label = sample\n",
    "    if i == 0:\n",
    "        break"
   ]
  },
  {
   "cell_type": "code",
   "execution_count": 146,
   "metadata": {},
   "outputs": [],
   "source": [
    "downsample = nn.Conv2d(3, 16, 3, stride=2, padding=1)\n",
    "downsample2 = nn.Conv2d(16, 32, 3, stride=2, padding=1)\n",
    "upsample = nn.ConvTranspose2d(32, 32, 3, stride=2, padding=1)"
   ]
  },
  {
   "cell_type": "code",
   "execution_count": 147,
   "metadata": {},
   "outputs": [
    {
     "data": {
      "text/plain": [
       "torch.Size([8, 3, 256, 256])"
      ]
     },
     "execution_count": 147,
     "metadata": {},
     "output_type": "execute_result"
    }
   ],
   "source": [
    "data.size()"
   ]
  },
  {
   "cell_type": "code",
   "execution_count": 148,
   "metadata": {},
   "outputs": [
    {
     "data": {
      "text/plain": [
       "torch.Size([8, 16, 128, 128])"
      ]
     },
     "execution_count": 148,
     "metadata": {},
     "output_type": "execute_result"
    }
   ],
   "source": [
    "data_intermediate = downsample(data)\n",
    "data_intermediate.size()"
   ]
  },
  {
   "cell_type": "code",
   "execution_count": 149,
   "metadata": {},
   "outputs": [
    {
     "data": {
      "text/plain": [
       "torch.Size([8, 32, 64, 64])"
      ]
     },
     "execution_count": 149,
     "metadata": {},
     "output_type": "execute_result"
    }
   ],
   "source": [
    "data_down = downsample2(data_intermediate)\n",
    "data_down.size()"
   ]
  },
  {
   "cell_type": "code",
   "execution_count": 150,
   "metadata": {},
   "outputs": [
    {
     "data": {
      "text/plain": [
       "torch.Size([8, 32, 128, 128])"
      ]
     },
     "execution_count": 150,
     "metadata": {},
     "output_type": "execute_result"
    }
   ],
   "source": [
    "data_up = upsample(data_down, output_size=data_intermediate.size())\n",
    "data_up.size()"
   ]
  },
  {
   "cell_type": "code",
   "execution_count": 156,
   "metadata": {},
   "outputs": [
    {
     "data": {
      "text/plain": [
       "torch.Size([8, 48, 128, 128])"
      ]
     },
     "execution_count": 156,
     "metadata": {},
     "output_type": "execute_result"
    }
   ],
   "source": [
    "data_cat = torch.cat([data_intermediate, data_up], dim=1)\n",
    "data_cat.size()"
   ]
  },
  {
   "cell_type": "code",
   "execution_count": 157,
   "metadata": {},
   "outputs": [
    {
     "data": {
      "text/plain": [
       "torch.Size([8, 16, 128, 128])"
      ]
     },
     "execution_count": 157,
     "metadata": {},
     "output_type": "execute_result"
    }
   ],
   "source": [
    "ds = DecoderStack(32, 16)\n",
    "ds(data_down, data_intermediate).size()"
   ]
  },
  {
   "cell_type": "code",
   "execution_count": 20,
   "metadata": {},
   "outputs": [],
   "source": [
    "net = UNet([3, 32, 64, 128, 256, 512], [512, 256, 128,64,32])"
   ]
  },
  {
   "cell_type": "code",
   "execution_count": 21,
   "metadata": {},
   "outputs": [],
   "source": [
    "data, label = next(iter(dataloader))"
   ]
  },
  {
   "cell_type": "code",
   "execution_count": 22,
   "metadata": {},
   "outputs": [
    {
     "data": {
      "text/plain": [
       "torch.Size([16, 3, 256, 256])"
      ]
     },
     "execution_count": 22,
     "metadata": {},
     "output_type": "execute_result"
    }
   ],
   "source": [
    "data.size()"
   ]
  },
  {
   "cell_type": "code",
   "execution_count": 23,
   "metadata": {},
   "outputs": [
    {
     "name": "stdout",
     "output_type": "stream",
     "text": [
      "[torch.Size([16, 32, 256, 256]), torch.Size([16, 64, 128, 128]), torch.Size([16, 128, 64, 64]), torch.Size([16, 256, 32, 32])]\n"
     ]
    },
    {
     "data": {
      "text/plain": [
       "torch.Size([16, 30, 256, 256])"
      ]
     },
     "execution_count": 23,
     "metadata": {},
     "output_type": "execute_result"
    }
   ],
   "source": [
    "net(data).size()"
   ]
  },
  {
   "cell_type": "code",
   "execution_count": 105,
   "metadata": {},
   "outputs": [],
   "source": [
    "b = torch.arange(4).view(2,2)"
   ]
  },
  {
   "cell_type": "code",
   "execution_count": 106,
   "metadata": {},
   "outputs": [
    {
     "data": {
      "text/plain": [
       "tensor([[0, 1],\n",
       "        [2, 3]])"
      ]
     },
     "execution_count": 106,
     "metadata": {},
     "output_type": "execute_result"
    }
   ],
   "source": [
    "b"
   ]
  },
  {
   "cell_type": "code",
   "execution_count": 109,
   "metadata": {},
   "outputs": [
    {
     "data": {
      "text/plain": [
       "tensor([[1, 0],\n",
       "        [3, 2]])"
      ]
     },
     "execution_count": 109,
     "metadata": {},
     "output_type": "execute_result"
    }
   ],
   "source": [
    "torch.flip(b, [1])"
   ]
  },
  {
   "cell_type": "code",
   "execution_count": 110,
   "metadata": {},
   "outputs": [],
   "source": [
    "a = torch.arange(8).view(2, 2, 2)"
   ]
  },
  {
   "cell_type": "code",
   "execution_count": 111,
   "metadata": {},
   "outputs": [
    {
     "data": {
      "text/plain": [
       "tensor([[[0, 1],\n",
       "         [2, 3]],\n",
       "\n",
       "        [[4, 5],\n",
       "         [6, 7]]])"
      ]
     },
     "execution_count": 111,
     "metadata": {},
     "output_type": "execute_result"
    }
   ],
   "source": [
    "a"
   ]
  },
  {
   "cell_type": "code",
   "execution_count": 114,
   "metadata": {},
   "outputs": [
    {
     "data": {
      "text/plain": [
       "tensor([[[1, 0],\n",
       "         [3, 2]],\n",
       "\n",
       "        [[5, 4],\n",
       "         [7, 6]]])"
      ]
     },
     "execution_count": 114,
     "metadata": {},
     "output_type": "execute_result"
    }
   ],
   "source": [
    "torch.flip(a, [2])"
   ]
  },
  {
   "cell_type": "code",
   "execution_count": null,
   "metadata": {},
   "outputs": [],
   "source": []
  }
 ],
 "metadata": {
  "kernelspec": {
   "display_name": "Python 3",
   "language": "python",
   "name": "python3"
  },
  "language_info": {
   "codemirror_mode": {
    "name": "ipython",
    "version": 3
   },
   "file_extension": ".py",
   "mimetype": "text/x-python",
   "name": "python",
   "nbconvert_exporter": "python",
   "pygments_lexer": "ipython3",
   "version": "3.5.2"
  }
 },
 "nbformat": 4,
 "nbformat_minor": 2
}
