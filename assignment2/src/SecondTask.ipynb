{
 "cells": [
  {
   "cell_type": "code",
   "execution_count": 1,
   "metadata": {},
   "outputs": [],
   "source": [
    "import os\n",
    "import glob\n",
    "import time\n",
    "import datetime\n",
    "import itertools as it\n",
    "import numpy as np\n",
    "from imageio import imwrite\n",
    "import matplotlib.pyplot as plt\n",
    "import seaborn as sns"
   ]
  },
  {
   "cell_type": "code",
   "execution_count": 2,
   "metadata": {},
   "outputs": [],
   "source": [
    "import torch\n",
    "import torch.nn as nn\n",
    "import torch.nn.functional as F\n",
    "import torch.optim as optim\n",
    "import torch.nn.init as init\n",
    "import torch.nn.parameter as P\n",
    "from torch.utils.data import Dataset, DataLoader\n",
    "import torchvision\n",
    "from torchvision import transforms, datasets"
   ]
  },
  {
   "cell_type": "markdown",
   "metadata": {},
   "source": [
    "# Data preparation"
   ]
  },
  {
   "cell_type": "code",
   "execution_count": 2,
   "metadata": {},
   "outputs": [
    {
     "name": "stdout",
     "output_type": "stream",
     "text": [
      "3475\n"
     ]
    }
   ],
   "source": [
    "img_path = \"/home/md359230/DeepLearning/assignment2/data/cityscapes/*.png\"\n",
    "print(len(glob.glob(img_path)))"
   ]
  },
  {
   "cell_type": "code",
   "execution_count": 3,
   "metadata": {},
   "outputs": [],
   "source": [
    "base_path = \"/home/md359230/DeepLearning/assignment2/data/cityscapes\"\n",
    "images = [file for file in os.listdir(base_path) if file.endswith(\".png\")]"
   ]
  },
  {
   "cell_type": "code",
   "execution_count": 4,
   "metadata": {},
   "outputs": [],
   "source": [
    "np.random.shuffle(images)\n",
    "train_images, test_images = images[:-500], images[-500:]"
   ]
  },
  {
   "cell_type": "code",
   "execution_count": 6,
   "metadata": {},
   "outputs": [
    {
     "name": "stdout",
     "output_type": "stream",
     "text": [
      "2975 500\n"
     ]
    }
   ],
   "source": [
    "print(len(train_images), len(test_images))"
   ]
  },
  {
   "cell_type": "code",
   "execution_count": 7,
   "metadata": {},
   "outputs": [],
   "source": [
    "check_array = np.array(\n",
    "    [[116, 17, 36],\n",
    "     [152, 43,150],\n",
    "     [106,141, 34],\n",
    "     [ 69, 69, 69],\n",
    "     [  2,  1,  3],\n",
    "     [127, 63,126],\n",
    "     [222, 52,211],\n",
    "     [  2,  1,140],\n",
    "     [ 93,117,119],\n",
    "     [180,228,182],\n",
    "     [213,202, 43],\n",
    "     [ 79,  2, 80],\n",
    "     [188,151,155],\n",
    "     [  9,  5, 91],\n",
    "     [106, 75, 13],\n",
    "     [215, 20, 53],\n",
    "     [110,134, 62],\n",
    "     [  8, 68, 98],\n",
    "     [244,171,170],\n",
    "     [171, 43, 74],\n",
    "     [104, 96,155],\n",
    "     [ 72,130,177],\n",
    "     [242, 35,231],\n",
    "     [147,149,149],\n",
    "     [ 35, 25, 34],\n",
    "     [155,247,151],\n",
    "     [ 85, 68, 99],\n",
    "     [ 71, 81, 43],\n",
    "     [195, 64,182],\n",
    "     [146,133, 92]])"
   ]
  },
  {
   "cell_type": "code",
   "execution_count": 8,
   "metadata": {},
   "outputs": [],
   "source": [
    "# Encoding in form of 1e6 * x + 1e3 * y + z -> id\n",
    "label_encoding = {}\n",
    "def encodeLabel(label):\n",
    "    return label[0] * 1000000 + label[1] * 1000 + label[2]\n",
    "\n",
    "for label_code, label in enumerate(check_array):\n",
    "    label_encoding[encodeLabel(label)] = label_code"
   ]
  },
  {
   "cell_type": "code",
   "execution_count": 9,
   "metadata": {},
   "outputs": [],
   "source": [
    "def process_images(images, base_path, target_path):\n",
    "    counter = 0\n",
    "    for image in images:\n",
    "        counter += 1\n",
    "        if counter % 100 == 0:\n",
    "            print(counter)\n",
    "        # Split image into raw image and class annotation\n",
    "        data = plt.imread(os.path.join(base_path, image)) * 255\n",
    "        raw_image, label = data[:, :256, :], data[:, 256:, :]\n",
    "\n",
    "        raw_image = raw_image.astype('uint8')\n",
    "        # Save class annotation as txt\n",
    "        label = np.array([label_encoding[encodeLabel(label[x, y])] \n",
    "                          for x, y in it.product(range(256), range(256))])\n",
    "        label = label.reshape(256, 256).astype('uint8')\n",
    "\n",
    "        # Save training image and class annotation\n",
    "        imwrite(os.path.join(target_path, image), raw_image)\n",
    "        np.savetxt(os.path.join(target_path, image[:-4] + \".txt\"), label, fmt=\"%d\")"
   ]
  },
  {
   "cell_type": "code",
   "execution_count": 10,
   "metadata": {},
   "outputs": [
    {
     "name": "stdout",
     "output_type": "stream",
     "text": [
      "100\n",
      "200\n",
      "300\n",
      "400\n",
      "500\n",
      "600\n",
      "700\n",
      "800\n",
      "900\n",
      "1000\n",
      "1100\n",
      "1200\n",
      "1300\n",
      "1400\n",
      "1500\n",
      "1600\n",
      "1700\n",
      "1800\n",
      "1900\n",
      "2000\n",
      "2100\n",
      "2200\n",
      "2300\n",
      "2400\n",
      "2500\n",
      "2600\n",
      "2700\n",
      "2800\n",
      "2900\n"
     ]
    }
   ],
   "source": [
    "train_path = \"/home/md359230/DeepLearning/assignment2/data/train\"\n",
    "process_images(train_images, base_path, train_path)"
   ]
  },
  {
   "cell_type": "code",
   "execution_count": 11,
   "metadata": {},
   "outputs": [
    {
     "name": "stdout",
     "output_type": "stream",
     "text": [
      "100\n",
      "200\n",
      "300\n",
      "400\n",
      "500\n"
     ]
    }
   ],
   "source": [
    "test_path  = \"/home/md359230/DeepLearning/assignment2/data/test\"\n",
    "process_images(test_images, base_path, test_path)"
   ]
  },
  {
   "cell_type": "code",
   "execution_count": 62,
   "metadata": {},
   "outputs": [
    {
     "name": "stdout",
     "output_type": "stream",
     "text": [
      "5950\n"
     ]
    }
   ],
   "source": [
    "! ls /home/md359230/DeepLearning/assignment2/data/train | wc -l"
   ]
  },
  {
   "cell_type": "code",
   "execution_count": 63,
   "metadata": {},
   "outputs": [
    {
     "name": "stdout",
     "output_type": "stream",
     "text": [
      "1000\n"
     ]
    }
   ],
   "source": [
    "! ls /home/md359230/DeepLearning/assignment2/data/test | wc -l"
   ]
  },
  {
   "cell_type": "markdown",
   "metadata": {},
   "source": [
    "# Data loading"
   ]
  },
  {
   "cell_type": "code",
   "execution_count": 3,
   "metadata": {},
   "outputs": [],
   "source": [
    "class CityScapesDataSet(Dataset):\n",
    "    def __init__(self, root_dir, transform=None):\n",
    "        self.examples = list(set(name[:-4] for name in os.listdir(root_dir)))\n",
    "        self.example_number = len(self.examples)\n",
    "        self.root_dir = root_dir\n",
    "        self.transform = transform\n",
    "\n",
    "    def __len__(self):\n",
    "        return 2 * self.example_number\n",
    "\n",
    "    def __getitem__(self, idx):\n",
    "        \n",
    "        rotate_image = idx + 1 > self.example_number\n",
    "        img_name   = os.path.join(self.root_dir, self.examples[idx % self.example_number] + '.png')\n",
    "        label_name = os.path.join(self.root_dir, self.examples[idx % self.example_number] + '.txt')\n",
    "        \n",
    "        data = plt.imread(img_name)\n",
    "        label = np.loadtxt(label_name, dtype='int')\n",
    "        \n",
    "        if rotate_image:\n",
    "            data  = np.flip(data, axis=1).copy()\n",
    "            label = np.flip(label, axis=1).copy()\n",
    "            \n",
    "        if self.transform is not None:\n",
    "            data = transform(data)\n",
    "            label = torch.from_numpy(label)\n",
    "            \n",
    "        return data, label"
   ]
  },
  {
   "cell_type": "code",
   "execution_count": 4,
   "metadata": {},
   "outputs": [],
   "source": [
    "dataset_path = '/home/md359230/DeepLearning/assignment2/data/train'\n",
    "validation_path = '/home/md359230/DeepLearning/assignment2/data/test'"
   ]
  },
  {
   "cell_type": "code",
   "execution_count": 5,
   "metadata": {},
   "outputs": [],
   "source": [
    "transform = transforms.Compose([\n",
    "    transforms.ToTensor(),\n",
    "    transforms.Normalize((0.5, 0.5, 0.5), (0.5, 0.5, 0.5))\n",
    "])"
   ]
  },
  {
   "cell_type": "code",
   "execution_count": 6,
   "metadata": {},
   "outputs": [],
   "source": [
    "csds = CityScapesDataSet(dataset_path, transform)"
   ]
  },
  {
   "cell_type": "code",
   "execution_count": 7,
   "metadata": {},
   "outputs": [],
   "source": [
    "csdsval = CityScapesDataSet(validation_path, transform)"
   ]
  },
  {
   "cell_type": "code",
   "execution_count": 8,
   "metadata": {},
   "outputs": [],
   "source": [
    "dataloader = DataLoader(csds,\n",
    "                        batch_size=16,\n",
    "                        shuffle=True,\n",
    "                        num_workers=8)"
   ]
  },
  {
   "cell_type": "code",
   "execution_count": 156,
   "metadata": {},
   "outputs": [
    {
     "name": "stdout",
     "output_type": "stream",
     "text": [
      "2 torch.Size([128, 3, 256, 256]) torch.Size([128, 256, 256])\n",
      "CPU times: user 108 ms, sys: 1.15 s, total: 1.26 s\n",
      "Wall time: 54.3 s\n"
     ]
    }
   ],
   "source": [
    "%%time\n",
    "for i, batch in enumerate(dataloader):\n",
    "    if i % 100 == 0:\n",
    "        print(len(batch), batch[0].size(), batch[1].size())"
   ]
  },
  {
   "cell_type": "code",
   "execution_count": 9,
   "metadata": {},
   "outputs": [
    {
     "name": "stdout",
     "output_type": "stream",
     "text": [
      "5950\n"
     ]
    }
   ],
   "source": [
    "print(len(csds))"
   ]
  },
  {
   "cell_type": "markdown",
   "metadata": {},
   "source": [
    "# U-Net implementation"
   ]
  },
  {
   "cell_type": "code",
   "execution_count": 10,
   "metadata": {},
   "outputs": [],
   "source": [
    "class UNetConvolutionStack(nn.Module):\n",
    "    def __init__(self, in_channel, out_channel):\n",
    "        super(UNetConvolutionStack, self).__init__()\n",
    "        self.conv = nn.Sequential(\n",
    "            nn.Conv2d(in_channel, \n",
    "                      out_channel, \n",
    "                      kernel_size=3, \n",
    "                      padding=1),\n",
    "            nn.BatchNorm2d(out_channel),\n",
    "            nn.LeakyReLU()\n",
    "        )\n",
    "    \n",
    "    def forward(self, x):\n",
    "        x = self.conv(x)\n",
    "        return x"
   ]
  },
  {
   "cell_type": "code",
   "execution_count": 11,
   "metadata": {},
   "outputs": [],
   "source": [
    "class EncoderStack(nn.Module):\n",
    "    def __init__(self, in_channel, out_channel, first_layer=False):\n",
    "        super(EncoderStack, self).__init__()\n",
    "        if first_layer:\n",
    "            self.down = nn.Sequential(\n",
    "                UNetConvolutionStack(in_channel,\n",
    "                                     out_channel),\n",
    "                UNetConvolutionStack(out_channel,\n",
    "                                     out_channel)\n",
    "            )            \n",
    "        else:\n",
    "            self.down = nn.Sequential(\n",
    "                nn.MaxPool2d((2,2)),\n",
    "                UNetConvolutionStack(in_channel,\n",
    "                                     out_channel),\n",
    "                UNetConvolutionStack(out_channel,\n",
    "                                     out_channel)\n",
    "            )    \n",
    "            \n",
    "    def forward(self, x):\n",
    "        x = self.down(x)\n",
    "        return x"
   ]
  },
  {
   "cell_type": "code",
   "execution_count": 12,
   "metadata": {},
   "outputs": [],
   "source": [
    "class DecoderStack(nn.Module):\n",
    "    def __init__(self, in_channel, out_channel):\n",
    "        super(DecoderStack, self).__init__()\n",
    "        self.upsample = nn.ConvTranspose2d(in_channel , in_channel, 3, stride=2, padding=1)\n",
    "        self.up = nn.Sequential(\n",
    "            UNetConvolutionStack(in_channel + out_channel,\n",
    "                                 out_channel),\n",
    "            UNetConvolutionStack(out_channel,\n",
    "                                 out_channel)\n",
    "        )    \n",
    "    \n",
    "    def forward(self, x, y):\n",
    "        x = self.upsample(x, output_size=y.size())\n",
    "        x = torch.cat([y, x], dim=1)\n",
    "        x = self.up(x)\n",
    "        return x"
   ]
  },
  {
   "cell_type": "code",
   "execution_count": 13,
   "metadata": {},
   "outputs": [],
   "source": [
    "class UNet(nn.Module):\n",
    "    def __init__(self, encoder_channels, decoder_channels):\n",
    "        super(UNet, self).__init__()\n",
    "        self.encoder = nn.ModuleList()\n",
    "        self.decoder = nn.ModuleList()\n",
    "        self.conv = nn.Conv2d(decoder_channels[-1], \n",
    "                              30, \n",
    "                              kernel_size=3, \n",
    "                              padding=1)\n",
    "    \n",
    "        encoder_sizes = zip(range(len(encoder_channels)), encoder_channels, encoder_channels[1:])\n",
    "        for idx, in_size, out_size in encoder_sizes:\n",
    "            if idx > 0:\n",
    "                self.encoder.append(EncoderStack(in_size, out_size))\n",
    "            else:\n",
    "                self.encoder.append(EncoderStack(in_size, out_size, first_layer=True))\n",
    "         \n",
    "        decoder_sizes = zip(decoder_channels, decoder_channels[1:])\n",
    "        for in_size, out_size in decoder_sizes:\n",
    "            self.decoder.append(DecoderStack(in_size, out_size))    \n",
    "            \n",
    "    def forward(self, x):\n",
    "        encoded_layers = []\n",
    "        for e in self.encoder:\n",
    "            x = e(x)\n",
    "            encoded_layers.append(x)\n",
    "        \n",
    "        del encoded_layers[-1]\n",
    "        #print([m.size() for m in encoded_layers])\n",
    "        encoded_layers.reverse()\n",
    "        \n",
    "        for y, d in zip(encoded_layers, self.decoder):\n",
    "            x = d(x, y)\n",
    "            \n",
    "        x = self.conv(x)\n",
    "        return x"
   ]
  },
  {
   "cell_type": "markdown",
   "metadata": {},
   "source": [
    "# U-Net training"
   ]
  },
  {
   "cell_type": "code",
   "execution_count": 14,
   "metadata": {},
   "outputs": [],
   "source": [
    "class UNetTrainer(object):\n",
    "    def __init__(self, trainLoader, testLoader):\n",
    "        self.trainLoader = trainLoader\n",
    "        self.testLoader = testLoader\n",
    "\n",
    "    def validate(self, net, use_gpu=False, device=None):\n",
    "        correct = 0\n",
    "        total = 0\n",
    "        \n",
    "        validation_size = len(self.testLoader) // 2\n",
    "        for idx in range(validation_size):\n",
    "            image, label = self.testLoader[idx]\n",
    "            flipped_image, flipped_label = self.testLoader[idx + validation_size]\n",
    "            image = image.unsqueeze(0)\n",
    "            flipped_image = flipped_image.unsqueeze(0)\n",
    "            \n",
    "            if device is not None and (device.__str__() != \"cpu\") and use_gpu:\n",
    "                image, label = image.to(device), label.to(device)  \n",
    "                flipped_image, flipped_label = flipped_image.to(device), flipped_label.to(device) \n",
    "                \n",
    "            output = net(image)\n",
    "            flipped_output = net(flipped_image)\n",
    "            data = (output.data.squeeze() + torch.flip(flipped_output.data.squeeze(), [2])) / 2\n",
    "            \n",
    "            _, predicted = torch.max(data, 0)\n",
    "            response = (label + torch.flip(flipped_label, [1])) / 2\n",
    "            \n",
    "            total += response.size()[0] * response.size()[1]\n",
    "            correct += (predicted == response).sum().item()\n",
    "                \n",
    "        print('Accuracy of the network on {} test images: {:2.4f} %'.format(\n",
    "        validation_size, 100 * correct / total))   \n",
    "        \n",
    "    def assess(self,  net, use_gpu=False, device=None):\n",
    "        correct = 0\n",
    "        total = 0\n",
    "        loader = self.trainLoader\n",
    "        for data in loader:\n",
    "            images, labels = data\n",
    "            if device is not None and (device.__str__() != \"cpu\") and use_gpu:\n",
    "                images, labels = images.to(device), labels.to(device)\n",
    "            outputs = net(images)\n",
    "            _, predicted = torch.max(outputs.data, 1)\n",
    "            \n",
    "            total += labels.size()[0] * labels.size()[1] * labels.size()[2]\n",
    "            correct += (predicted == labels).sum().item()\n",
    "        \n",
    "        print('Accuracy of the network on {} train images: {:2.4f} %'.format(\n",
    "        len(self.trainLoader.dataset), 100 * correct / total))     \n",
    "           \n",
    "    def train(self, config, n_epoch=5, use_gpu=False):\n",
    "        net = UNet(**config)\n",
    "        \n",
    "        if use_gpu:\n",
    "            device = torch.device(\"cuda:0\" if torch.cuda.is_available() else \"cpu\")\n",
    "            if device.__str__() != \"cpu\":\n",
    "                net.to(device)\n",
    "        \n",
    "        criterion = nn.CrossEntropyLoss()\n",
    "        optimizer = optim.Adam(net.parameters(), lr=0.0002, amsgrad=True)\n",
    "\n",
    "        for epoch in range(n_epoch):\n",
    "            running_loss = 0.0\n",
    "            t = time.time()\n",
    "            net.train()\n",
    "            \n",
    "            for i, data in enumerate(self.trainLoader, 0):\n",
    "                inputs, labels = data\n",
    "                \n",
    "                if use_gpu:\n",
    "                    if(device.__str__() != \"cpu\"):\n",
    "                        inputs, labels = inputs.to(device), labels.to(device)\n",
    "                    \n",
    "                optimizer.zero_grad()\n",
    "                outputs = net(inputs)\n",
    "                loss = criterion(outputs, labels)\n",
    "                loss.backward()\n",
    "                optimizer.step()\n",
    "\n",
    "                running_loss += loss.item()\n",
    "                if i % 10 == 9:\n",
    "                    now = datetime.datetime.now()\n",
    "                    print('[%s , %d, %5d] Loss: %.4f' %\n",
    "                          (now.strftime('%Y-%m-%d %H:%M:%S'), epoch + 1, i + 1, running_loss / 100))\n",
    "                    print('[%s , %d, %5d] Elapsed time: %2.4f s' %\n",
    "                          (now.strftime('%Y-%m-%d %H:%M:%S'), epoch + 1, i + 1, time.time() - t))\n",
    "                    running_loss = 0.0\n",
    "                    t = time.time()\n",
    "            net.eval()\n",
    "            \n",
    "            self.assess(net, use_gpu=use_gpu, device=device)\n",
    "            self.validate(net, use_gpu=True, device=device)\n",
    "        return net"
   ]
  },
  {
   "cell_type": "code",
   "execution_count": 15,
   "metadata": {},
   "outputs": [],
   "source": [
    "config = {\n",
    "    \"encoder_channels\": [3, 32, 64, 128, 256, 512], \n",
    "    \"decoder_channels\": [512, 256, 128,64,32]\n",
    "}"
   ]
  },
  {
   "cell_type": "code",
   "execution_count": 16,
   "metadata": {},
   "outputs": [
    {
     "name": "stdout",
     "output_type": "stream",
     "text": [
      "[2019-05-08 12:46:00 , 1,    10] Loss: 0.3202\n",
      "[2019-05-08 12:46:00 , 1,    10] Elapsed time: 5.0534 s\n",
      "[2019-05-08 12:46:03 , 1,    20] Loss: 0.2905\n",
      "[2019-05-08 12:46:03 , 1,    20] Elapsed time: 3.1592 s\n",
      "[2019-05-08 12:46:06 , 1,    30] Loss: 0.2671\n",
      "[2019-05-08 12:46:06 , 1,    30] Elapsed time: 3.1956 s\n",
      "[2019-05-08 12:46:10 , 1,    40] Loss: 0.2484\n",
      "[2019-05-08 12:46:10 , 1,    40] Elapsed time: 3.1950 s\n",
      "[2019-05-08 12:46:13 , 1,    50] Loss: 0.2308\n",
      "[2019-05-08 12:46:13 , 1,    50] Elapsed time: 3.1892 s\n",
      "[2019-05-08 12:46:16 , 1,    60] Loss: 0.2125\n",
      "[2019-05-08 12:46:16 , 1,    60] Elapsed time: 3.1825 s\n",
      "[2019-05-08 12:46:19 , 1,    70] Loss: 0.2002\n",
      "[2019-05-08 12:46:19 , 1,    70] Elapsed time: 3.1777 s\n",
      "[2019-05-08 12:46:22 , 1,    80] Loss: 0.1874\n",
      "[2019-05-08 12:46:22 , 1,    80] Elapsed time: 3.1930 s\n",
      "[2019-05-08 12:46:26 , 1,    90] Loss: 0.1796\n",
      "[2019-05-08 12:46:26 , 1,    90] Elapsed time: 3.1959 s\n",
      "[2019-05-08 12:46:29 , 1,   100] Loss: 0.1715\n",
      "[2019-05-08 12:46:29 , 1,   100] Elapsed time: 3.2061 s\n",
      "[2019-05-08 12:46:32 , 1,   110] Loss: 0.1632\n",
      "[2019-05-08 12:46:32 , 1,   110] Elapsed time: 3.2156 s\n",
      "[2019-05-08 12:46:35 , 1,   120] Loss: 0.1569\n",
      "[2019-05-08 12:46:35 , 1,   120] Elapsed time: 3.2155 s\n",
      "[2019-05-08 12:46:38 , 1,   130] Loss: 0.1509\n",
      "[2019-05-08 12:46:38 , 1,   130] Elapsed time: 3.2215 s\n",
      "[2019-05-08 12:46:42 , 1,   140] Loss: 0.1478\n",
      "[2019-05-08 12:46:42 , 1,   140] Elapsed time: 3.2263 s\n",
      "[2019-05-08 12:46:45 , 1,   150] Loss: 0.1438\n",
      "[2019-05-08 12:46:45 , 1,   150] Elapsed time: 3.3492 s\n",
      "[2019-05-08 12:46:48 , 1,   160] Loss: 0.1386\n",
      "[2019-05-08 12:46:48 , 1,   160] Elapsed time: 3.2206 s\n",
      "[2019-05-08 12:46:51 , 1,   170] Loss: 0.1411\n",
      "[2019-05-08 12:46:51 , 1,   170] Elapsed time: 3.2334 s\n",
      "[2019-05-08 12:46:55 , 1,   180] Loss: 0.1306\n",
      "[2019-05-08 12:46:55 , 1,   180] Elapsed time: 3.2441 s\n",
      "[2019-05-08 12:46:58 , 1,   190] Loss: 0.1285\n",
      "[2019-05-08 12:46:58 , 1,   190] Elapsed time: 3.2513 s\n",
      "[2019-05-08 12:47:01 , 1,   200] Loss: 0.1259\n",
      "[2019-05-08 12:47:01 , 1,   200] Elapsed time: 3.2490 s\n",
      "[2019-05-08 12:47:04 , 1,   210] Loss: 0.1259\n",
      "[2019-05-08 12:47:04 , 1,   210] Elapsed time: 3.2524 s\n",
      "[2019-05-08 12:47:08 , 1,   220] Loss: 0.1235\n",
      "[2019-05-08 12:47:08 , 1,   220] Elapsed time: 3.2642 s\n",
      "[2019-05-08 12:47:11 , 1,   230] Loss: 0.1237\n",
      "[2019-05-08 12:47:11 , 1,   230] Elapsed time: 3.2529 s\n",
      "[2019-05-08 12:47:14 , 1,   240] Loss: 0.1211\n",
      "[2019-05-08 12:47:14 , 1,   240] Elapsed time: 3.2889 s\n",
      "[2019-05-08 12:47:17 , 1,   250] Loss: 0.1198\n",
      "[2019-05-08 12:47:17 , 1,   250] Elapsed time: 3.2634 s\n",
      "[2019-05-08 12:47:21 , 1,   260] Loss: 0.1155\n",
      "[2019-05-08 12:47:21 , 1,   260] Elapsed time: 3.2868 s\n",
      "[2019-05-08 12:47:24 , 1,   270] Loss: 0.1164\n",
      "[2019-05-08 12:47:24 , 1,   270] Elapsed time: 3.2645 s\n",
      "[2019-05-08 12:47:27 , 1,   280] Loss: 0.1160\n",
      "[2019-05-08 12:47:27 , 1,   280] Elapsed time: 3.2824 s\n",
      "[2019-05-08 12:47:31 , 1,   290] Loss: 0.1089\n",
      "[2019-05-08 12:47:31 , 1,   290] Elapsed time: 3.2724 s\n",
      "[2019-05-08 12:47:34 , 1,   300] Loss: 0.1170\n",
      "[2019-05-08 12:47:34 , 1,   300] Elapsed time: 3.2826 s\n",
      "[2019-05-08 12:47:37 , 1,   310] Loss: 0.1127\n",
      "[2019-05-08 12:47:37 , 1,   310] Elapsed time: 3.2779 s\n",
      "[2019-05-08 12:47:40 , 1,   320] Loss: 0.1097\n",
      "[2019-05-08 12:47:40 , 1,   320] Elapsed time: 3.2854 s\n",
      "[2019-05-08 12:47:44 , 1,   330] Loss: 0.1070\n",
      "[2019-05-08 12:47:44 , 1,   330] Elapsed time: 3.3653 s\n",
      "[2019-05-08 12:47:47 , 1,   340] Loss: 0.1114\n",
      "[2019-05-08 12:47:47 , 1,   340] Elapsed time: 3.4281 s\n",
      "[2019-05-08 12:47:51 , 1,   350] Loss: 0.1097\n",
      "[2019-05-08 12:47:51 , 1,   350] Elapsed time: 3.3269 s\n",
      "[2019-05-08 12:47:54 , 1,   360] Loss: 0.1076\n",
      "[2019-05-08 12:47:54 , 1,   360] Elapsed time: 3.3232 s\n",
      "[2019-05-08 12:47:57 , 1,   370] Loss: 0.1087\n",
      "[2019-05-08 12:47:57 , 1,   370] Elapsed time: 3.3417 s\n",
      "Accuracy of the network on 5950 train images: 73.2696 %\n",
      "Accuracy of the network on 500 test images: 73.4794 %\n",
      "[2019-05-08 12:49:54 , 2,    10] Loss: 0.1085\n",
      "[2019-05-08 12:49:54 , 2,    10] Elapsed time: 5.2407 s\n",
      "[2019-05-08 12:49:58 , 2,    20] Loss: 0.1034\n",
      "[2019-05-08 12:49:58 , 2,    20] Elapsed time: 3.2466 s\n",
      "[2019-05-08 12:50:01 , 2,    30] Loss: 0.1050\n",
      "[2019-05-08 12:50:01 , 2,    30] Elapsed time: 3.2336 s\n",
      "[2019-05-08 12:50:04 , 2,    40] Loss: 0.1025\n",
      "[2019-05-08 12:50:04 , 2,    40] Elapsed time: 3.2472 s\n",
      "[2019-05-08 12:50:07 , 2,    50] Loss: 0.1052\n",
      "[2019-05-08 12:50:07 , 2,    50] Elapsed time: 3.2556 s\n",
      "[2019-05-08 12:50:11 , 2,    60] Loss: 0.1026\n",
      "[2019-05-08 12:50:11 , 2,    60] Elapsed time: 3.2583 s\n",
      "[2019-05-08 12:50:14 , 2,    70] Loss: 0.1067\n",
      "[2019-05-08 12:50:14 , 2,    70] Elapsed time: 3.2421 s\n",
      "[2019-05-08 12:50:17 , 2,    80] Loss: 0.1005\n",
      "[2019-05-08 12:50:17 , 2,    80] Elapsed time: 3.2701 s\n",
      "[2019-05-08 12:50:20 , 2,    90] Loss: 0.1004\n",
      "[2019-05-08 12:50:20 , 2,    90] Elapsed time: 3.2831 s\n",
      "[2019-05-08 12:50:24 , 2,   100] Loss: 0.1033\n",
      "[2019-05-08 12:50:24 , 2,   100] Elapsed time: 3.2961 s\n",
      "[2019-05-08 12:50:27 , 2,   110] Loss: 0.1025\n",
      "[2019-05-08 12:50:27 , 2,   110] Elapsed time: 3.2664 s\n",
      "[2019-05-08 12:50:30 , 2,   120] Loss: 0.1029\n",
      "[2019-05-08 12:50:30 , 2,   120] Elapsed time: 3.2878 s\n",
      "[2019-05-08 12:50:34 , 2,   130] Loss: 0.1013\n",
      "[2019-05-08 12:50:34 , 2,   130] Elapsed time: 3.2688 s\n",
      "[2019-05-08 12:50:37 , 2,   140] Loss: 0.0973\n",
      "[2019-05-08 12:50:37 , 2,   140] Elapsed time: 3.3003 s\n",
      "[2019-05-08 12:50:40 , 2,   150] Loss: 0.0980\n",
      "[2019-05-08 12:50:40 , 2,   150] Elapsed time: 3.3247 s\n",
      "[2019-05-08 12:50:44 , 2,   160] Loss: 0.0937\n",
      "[2019-05-08 12:50:44 , 2,   160] Elapsed time: 3.4517 s\n",
      "[2019-05-08 12:50:47 , 2,   170] Loss: 0.0972\n",
      "[2019-05-08 12:50:47 , 2,   170] Elapsed time: 3.5005 s\n",
      "[2019-05-08 12:50:50 , 2,   180] Loss: 0.0957\n",
      "[2019-05-08 12:50:50 , 2,   180] Elapsed time: 3.2879 s\n",
      "[2019-05-08 12:50:54 , 2,   190] Loss: 0.0948\n",
      "[2019-05-08 12:50:54 , 2,   190] Elapsed time: 3.3197 s\n",
      "[2019-05-08 12:50:57 , 2,   200] Loss: 0.0968\n",
      "[2019-05-08 12:50:57 , 2,   200] Elapsed time: 3.3763 s\n",
      "[2019-05-08 12:51:00 , 2,   210] Loss: 0.0962\n",
      "[2019-05-08 12:51:00 , 2,   210] Elapsed time: 3.3344 s\n",
      "[2019-05-08 12:51:04 , 2,   220] Loss: 0.0950\n",
      "[2019-05-08 12:51:04 , 2,   220] Elapsed time: 3.3249 s\n",
      "[2019-05-08 12:51:07 , 2,   230] Loss: 0.0953\n",
      "[2019-05-08 12:51:07 , 2,   230] Elapsed time: 3.4305 s\n",
      "[2019-05-08 12:51:11 , 2,   240] Loss: 0.0981\n",
      "[2019-05-08 12:51:11 , 2,   240] Elapsed time: 3.3253 s\n",
      "[2019-05-08 12:51:14 , 2,   250] Loss: 0.0933\n",
      "[2019-05-08 12:51:14 , 2,   250] Elapsed time: 3.4401 s\n",
      "[2019-05-08 12:51:17 , 2,   260] Loss: 0.0902\n",
      "[2019-05-08 12:51:17 , 2,   260] Elapsed time: 3.3262 s\n",
      "[2019-05-08 12:51:21 , 2,   270] Loss: 0.0935\n",
      "[2019-05-08 12:51:21 , 2,   270] Elapsed time: 3.3370 s\n",
      "[2019-05-08 12:51:24 , 2,   280] Loss: 0.0986\n",
      "[2019-05-08 12:51:24 , 2,   280] Elapsed time: 3.4117 s\n",
      "[2019-05-08 12:51:27 , 2,   290] Loss: 0.0908\n",
      "[2019-05-08 12:51:27 , 2,   290] Elapsed time: 3.3377 s\n",
      "[2019-05-08 12:51:31 , 2,   300] Loss: 0.0939\n",
      "[2019-05-08 12:51:31 , 2,   300] Elapsed time: 3.4267 s\n",
      "[2019-05-08 12:51:34 , 2,   310] Loss: 0.0919\n",
      "[2019-05-08 12:51:34 , 2,   310] Elapsed time: 3.3317 s\n",
      "[2019-05-08 12:51:38 , 2,   320] Loss: 0.0927\n",
      "[2019-05-08 12:51:38 , 2,   320] Elapsed time: 3.3911 s\n",
      "[2019-05-08 12:51:41 , 2,   330] Loss: 0.0876\n",
      "[2019-05-08 12:51:41 , 2,   330] Elapsed time: 3.3401 s\n",
      "[2019-05-08 12:51:44 , 2,   340] Loss: 0.0911\n",
      "[2019-05-08 12:51:44 , 2,   340] Elapsed time: 3.3900 s\n",
      "[2019-05-08 12:51:48 , 2,   350] Loss: 0.0905\n",
      "[2019-05-08 12:51:48 , 2,   350] Elapsed time: 3.3811 s\n",
      "[2019-05-08 12:51:51 , 2,   360] Loss: 0.0918\n",
      "[2019-05-08 12:51:51 , 2,   360] Elapsed time: 3.3264 s\n",
      "[2019-05-08 12:51:54 , 2,   370] Loss: 0.0931\n",
      "[2019-05-08 12:51:54 , 2,   370] Elapsed time: 3.3400 s\n",
      "Accuracy of the network on 5950 train images: 75.9582 %\n",
      "Accuracy of the network on 500 test images: 76.2030 %\n",
      "[2019-05-08 12:53:51 , 3,    10] Loss: 0.0941\n",
      "[2019-05-08 12:53:51 , 3,    10] Elapsed time: 5.1314 s\n",
      "[2019-05-08 12:53:55 , 3,    20] Loss: 0.0877\n",
      "[2019-05-08 12:53:55 , 3,    20] Elapsed time: 3.2853 s\n",
      "[2019-05-08 12:53:58 , 3,    30] Loss: 0.0889\n",
      "[2019-05-08 12:53:58 , 3,    30] Elapsed time: 3.2414 s\n",
      "[2019-05-08 12:54:01 , 3,    40] Loss: 0.0933\n",
      "[2019-05-08 12:54:01 , 3,    40] Elapsed time: 3.2411 s\n",
      "[2019-05-08 12:54:04 , 3,    50] Loss: 0.0859\n",
      "[2019-05-08 12:54:04 , 3,    50] Elapsed time: 3.2583 s\n",
      "[2019-05-08 12:54:08 , 3,    60] Loss: 0.0884\n",
      "[2019-05-08 12:54:08 , 3,    60] Elapsed time: 3.2468 s\n",
      "[2019-05-08 12:54:11 , 3,    70] Loss: 0.0928\n",
      "[2019-05-08 12:54:11 , 3,    70] Elapsed time: 3.2572 s\n",
      "[2019-05-08 12:54:14 , 3,    80] Loss: 0.0925\n",
      "[2019-05-08 12:54:14 , 3,    80] Elapsed time: 3.2704 s\n",
      "[2019-05-08 12:54:17 , 3,    90] Loss: 0.0878\n",
      "[2019-05-08 12:54:17 , 3,    90] Elapsed time: 3.2625 s\n",
      "[2019-05-08 12:54:21 , 3,   100] Loss: 0.0900\n",
      "[2019-05-08 12:54:21 , 3,   100] Elapsed time: 3.2836 s\n",
      "[2019-05-08 12:54:24 , 3,   110] Loss: 0.0845\n",
      "[2019-05-08 12:54:24 , 3,   110] Elapsed time: 3.2705 s\n",
      "[2019-05-08 12:54:27 , 3,   120] Loss: 0.0889\n",
      "[2019-05-08 12:54:27 , 3,   120] Elapsed time: 3.2914 s\n",
      "[2019-05-08 12:54:30 , 3,   130] Loss: 0.0861\n",
      "[2019-05-08 12:54:30 , 3,   130] Elapsed time: 3.2683 s\n",
      "[2019-05-08 12:54:34 , 3,   140] Loss: 0.0852\n",
      "[2019-05-08 12:54:34 , 3,   140] Elapsed time: 3.3847 s\n",
      "[2019-05-08 12:54:37 , 3,   150] Loss: 0.0849\n",
      "[2019-05-08 12:54:37 , 3,   150] Elapsed time: 3.4807 s\n",
      "[2019-05-08 12:54:41 , 3,   160] Loss: 0.0862\n",
      "[2019-05-08 12:54:41 , 3,   160] Elapsed time: 3.4321 s\n",
      "[2019-05-08 12:54:44 , 3,   170] Loss: 0.0858\n",
      "[2019-05-08 12:54:44 , 3,   170] Elapsed time: 3.4941 s\n",
      "[2019-05-08 12:54:48 , 3,   180] Loss: 0.0866\n",
      "[2019-05-08 12:54:48 , 3,   180] Elapsed time: 3.3457 s\n",
      "[2019-05-08 12:54:51 , 3,   190] Loss: 0.0867\n",
      "[2019-05-08 12:54:51 , 3,   190] Elapsed time: 3.3508 s\n",
      "[2019-05-08 12:54:54 , 3,   200] Loss: 0.0845\n",
      "[2019-05-08 12:54:54 , 3,   200] Elapsed time: 3.3710 s\n",
      "[2019-05-08 12:54:58 , 3,   210] Loss: 0.0884\n",
      "[2019-05-08 12:54:58 , 3,   210] Elapsed time: 3.3872 s\n",
      "[2019-05-08 12:55:01 , 3,   220] Loss: 0.0835\n",
      "[2019-05-08 12:55:01 , 3,   220] Elapsed time: 3.3689 s\n",
      "[2019-05-08 12:55:04 , 3,   230] Loss: 0.0833\n",
      "[2019-05-08 12:55:04 , 3,   230] Elapsed time: 3.3392 s\n",
      "[2019-05-08 12:55:08 , 3,   240] Loss: 0.0838\n",
      "[2019-05-08 12:55:08 , 3,   240] Elapsed time: 3.3820 s\n",
      "[2019-05-08 12:55:11 , 3,   250] Loss: 0.0849\n",
      "[2019-05-08 12:55:11 , 3,   250] Elapsed time: 3.4397 s\n",
      "[2019-05-08 12:55:15 , 3,   260] Loss: 0.0821\n",
      "[2019-05-08 12:55:15 , 3,   260] Elapsed time: 3.3294 s\n",
      "[2019-05-08 12:55:18 , 3,   270] Loss: 0.0784\n",
      "[2019-05-08 12:55:18 , 3,   270] Elapsed time: 3.3742 s\n",
      "[2019-05-08 12:55:21 , 3,   280] Loss: 0.0824\n",
      "[2019-05-08 12:55:21 , 3,   280] Elapsed time: 3.3521 s\n",
      "[2019-05-08 12:55:25 , 3,   290] Loss: 0.0825\n",
      "[2019-05-08 12:55:25 , 3,   290] Elapsed time: 3.3688 s\n",
      "[2019-05-08 12:55:28 , 3,   300] Loss: 0.0852\n",
      "[2019-05-08 12:55:28 , 3,   300] Elapsed time: 3.3952 s\n",
      "[2019-05-08 12:55:31 , 3,   310] Loss: 0.0805\n",
      "[2019-05-08 12:55:31 , 3,   310] Elapsed time: 3.3351 s\n",
      "[2019-05-08 12:55:35 , 3,   320] Loss: 0.0797\n",
      "[2019-05-08 12:55:35 , 3,   320] Elapsed time: 3.3380 s\n",
      "[2019-05-08 12:55:38 , 3,   330] Loss: 0.0838\n",
      "[2019-05-08 12:55:38 , 3,   330] Elapsed time: 3.3750 s\n",
      "[2019-05-08 12:55:42 , 3,   340] Loss: 0.0846\n",
      "[2019-05-08 12:55:42 , 3,   340] Elapsed time: 3.4292 s\n",
      "[2019-05-08 12:55:45 , 3,   350] Loss: 0.0792\n",
      "[2019-05-08 12:55:45 , 3,   350] Elapsed time: 3.3601 s\n",
      "[2019-05-08 12:55:48 , 3,   360] Loss: 0.0793\n",
      "[2019-05-08 12:55:48 , 3,   360] Elapsed time: 3.3361 s\n",
      "[2019-05-08 12:55:52 , 3,   370] Loss: 0.0834\n",
      "[2019-05-08 12:55:52 , 3,   370] Elapsed time: 3.3209 s\n",
      "Accuracy of the network on 5950 train images: 78.5358 %\n",
      "Accuracy of the network on 500 test images: 78.6079 %\n",
      "[2019-05-08 12:57:52 , 4,    10] Loss: 0.0813\n",
      "[2019-05-08 12:57:52 , 4,    10] Elapsed time: 5.0831 s\n",
      "[2019-05-08 12:57:55 , 4,    20] Loss: 0.0804\n",
      "[2019-05-08 12:57:55 , 4,    20] Elapsed time: 3.2408 s\n",
      "[2019-05-08 12:57:58 , 4,    30] Loss: 0.0820\n",
      "[2019-05-08 12:57:58 , 4,    30] Elapsed time: 3.2459 s\n",
      "[2019-05-08 12:58:01 , 4,    40] Loss: 0.0783\n",
      "[2019-05-08 12:58:01 , 4,    40] Elapsed time: 3.2489 s\n",
      "[2019-05-08 12:58:05 , 4,    50] Loss: 0.0787\n",
      "[2019-05-08 12:58:05 , 4,    50] Elapsed time: 3.2642 s\n",
      "[2019-05-08 12:58:08 , 4,    60] Loss: 0.0818\n",
      "[2019-05-08 12:58:08 , 4,    60] Elapsed time: 3.2690 s\n",
      "[2019-05-08 12:58:11 , 4,    70] Loss: 0.0796\n",
      "[2019-05-08 12:58:11 , 4,    70] Elapsed time: 3.2602 s\n",
      "[2019-05-08 12:58:14 , 4,    80] Loss: 0.0807\n",
      "[2019-05-08 12:58:14 , 4,    80] Elapsed time: 3.2819 s\n",
      "[2019-05-08 12:58:18 , 4,    90] Loss: 0.0818\n",
      "[2019-05-08 12:58:18 , 4,    90] Elapsed time: 3.2674 s\n",
      "[2019-05-08 12:58:21 , 4,   100] Loss: 0.0769\n",
      "[2019-05-08 12:58:21 , 4,   100] Elapsed time: 3.2945 s\n",
      "[2019-05-08 12:58:24 , 4,   110] Loss: 0.0826\n",
      "[2019-05-08 12:58:24 , 4,   110] Elapsed time: 3.2856 s\n",
      "[2019-05-08 12:58:27 , 4,   120] Loss: 0.0794\n",
      "[2019-05-08 12:58:27 , 4,   120] Elapsed time: 3.2943 s\n",
      "[2019-05-08 12:58:31 , 4,   130] Loss: 0.0813\n",
      "[2019-05-08 12:58:31 , 4,   130] Elapsed time: 3.2902 s\n",
      "[2019-05-08 12:58:34 , 4,   140] Loss: 0.0797\n",
      "[2019-05-08 12:58:34 , 4,   140] Elapsed time: 3.3171 s\n",
      "[2019-05-08 12:58:38 , 4,   150] Loss: 0.0812\n",
      "[2019-05-08 12:58:38 , 4,   150] Elapsed time: 3.5286 s\n",
      "[2019-05-08 12:58:41 , 4,   160] Loss: 0.0771\n",
      "[2019-05-08 12:58:41 , 4,   160] Elapsed time: 3.3572 s\n",
      "[2019-05-08 12:58:44 , 4,   170] Loss: 0.0765\n",
      "[2019-05-08 12:58:44 , 4,   170] Elapsed time: 3.4337 s\n",
      "[2019-05-08 12:58:48 , 4,   180] Loss: 0.0873\n",
      "[2019-05-08 12:58:48 , 4,   180] Elapsed time: 3.3556 s\n",
      "[2019-05-08 12:58:51 , 4,   190] Loss: 0.0783\n",
      "[2019-05-08 12:58:51 , 4,   190] Elapsed time: 3.3207 s\n",
      "[2019-05-08 12:58:54 , 4,   200] Loss: 0.0806\n",
      "[2019-05-08 12:58:54 , 4,   200] Elapsed time: 3.3253 s\n",
      "[2019-05-08 12:58:58 , 4,   210] Loss: 0.0779\n",
      "[2019-05-08 12:58:58 , 4,   210] Elapsed time: 3.3272 s\n",
      "[2019-05-08 12:59:01 , 4,   220] Loss: 0.0726\n",
      "[2019-05-08 12:59:01 , 4,   220] Elapsed time: 3.3098 s\n",
      "[2019-05-08 12:59:04 , 4,   230] Loss: 0.0784\n",
      "[2019-05-08 12:59:04 , 4,   230] Elapsed time: 3.3698 s\n",
      "[2019-05-08 12:59:08 , 4,   240] Loss: 0.0780\n",
      "[2019-05-08 12:59:08 , 4,   240] Elapsed time: 3.4083 s\n",
      "[2019-05-08 12:59:11 , 4,   250] Loss: 0.0752\n",
      "[2019-05-08 12:59:11 , 4,   250] Elapsed time: 3.3352 s\n",
      "[2019-05-08 12:59:15 , 4,   260] Loss: 0.0785\n",
      "[2019-05-08 12:59:15 , 4,   260] Elapsed time: 3.3513 s\n",
      "[2019-05-08 12:59:18 , 4,   270] Loss: 0.0777\n",
      "[2019-05-08 12:59:18 , 4,   270] Elapsed time: 3.4219 s\n",
      "[2019-05-08 12:59:21 , 4,   280] Loss: 0.0785\n",
      "[2019-05-08 12:59:21 , 4,   280] Elapsed time: 3.3545 s\n",
      "[2019-05-08 12:59:25 , 4,   290] Loss: 0.0734\n",
      "[2019-05-08 12:59:25 , 4,   290] Elapsed time: 3.3301 s\n",
      "[2019-05-08 12:59:28 , 4,   300] Loss: 0.0765\n",
      "[2019-05-08 12:59:28 , 4,   300] Elapsed time: 3.4058 s\n",
      "[2019-05-08 12:59:31 , 4,   310] Loss: 0.0746\n",
      "[2019-05-08 12:59:31 , 4,   310] Elapsed time: 3.3922 s\n",
      "[2019-05-08 12:59:35 , 4,   320] Loss: 0.0743\n",
      "[2019-05-08 12:59:35 , 4,   320] Elapsed time: 3.3651 s\n",
      "[2019-05-08 12:59:38 , 4,   330] Loss: 0.0728\n",
      "[2019-05-08 12:59:38 , 4,   330] Elapsed time: 3.3686 s\n",
      "[2019-05-08 12:59:42 , 4,   340] Loss: 0.0726\n",
      "[2019-05-08 12:59:42 , 4,   340] Elapsed time: 3.3891 s\n",
      "[2019-05-08 12:59:45 , 4,   350] Loss: 0.0747\n",
      "[2019-05-08 12:59:45 , 4,   350] Elapsed time: 3.3306 s\n",
      "[2019-05-08 12:59:48 , 4,   360] Loss: 0.0748\n",
      "[2019-05-08 12:59:48 , 4,   360] Elapsed time: 3.4874 s\n",
      "[2019-05-08 12:59:52 , 4,   370] Loss: 0.0798\n",
      "[2019-05-08 12:59:52 , 4,   370] Elapsed time: 3.3575 s\n",
      "Accuracy of the network on 5950 train images: 79.4855 %\n",
      "Accuracy of the network on 500 test images: 79.4705 %\n",
      "[2019-05-08 13:01:55 , 5,    10] Loss: 0.0769\n",
      "[2019-05-08 13:01:55 , 5,    10] Elapsed time: 5.0887 s\n",
      "[2019-05-08 13:01:58 , 5,    20] Loss: 0.0751\n",
      "[2019-05-08 13:01:58 , 5,    20] Elapsed time: 3.2273 s\n",
      "[2019-05-08 13:02:01 , 5,    30] Loss: 0.0711\n",
      "[2019-05-08 13:02:01 , 5,    30] Elapsed time: 3.2371 s\n",
      "[2019-05-08 13:02:05 , 5,    40] Loss: 0.0702\n",
      "[2019-05-08 13:02:05 , 5,    40] Elapsed time: 3.2682 s\n",
      "[2019-05-08 13:02:08 , 5,    50] Loss: 0.0772\n",
      "[2019-05-08 13:02:08 , 5,    50] Elapsed time: 3.2573 s\n",
      "[2019-05-08 13:02:11 , 5,    60] Loss: 0.0749\n",
      "[2019-05-08 13:02:11 , 5,    60] Elapsed time: 3.2627 s\n",
      "[2019-05-08 13:02:14 , 5,    70] Loss: 0.0771\n",
      "[2019-05-08 13:02:14 , 5,    70] Elapsed time: 3.2618 s\n",
      "[2019-05-08 13:02:18 , 5,    80] Loss: 0.0779\n",
      "[2019-05-08 13:02:18 , 5,    80] Elapsed time: 3.2632 s\n",
      "[2019-05-08 13:02:21 , 5,    90] Loss: 0.0704\n",
      "[2019-05-08 13:02:21 , 5,    90] Elapsed time: 3.2861 s\n",
      "[2019-05-08 13:02:24 , 5,   100] Loss: 0.0755\n",
      "[2019-05-08 13:02:24 , 5,   100] Elapsed time: 3.2831 s\n",
      "[2019-05-08 13:02:28 , 5,   110] Loss: 0.0694\n",
      "[2019-05-08 13:02:28 , 5,   110] Elapsed time: 3.3079 s\n",
      "[2019-05-08 13:02:31 , 5,   120] Loss: 0.0770\n",
      "[2019-05-08 13:02:31 , 5,   120] Elapsed time: 3.3063 s\n",
      "[2019-05-08 13:02:34 , 5,   130] Loss: 0.0734\n",
      "[2019-05-08 13:02:34 , 5,   130] Elapsed time: 3.2815 s\n",
      "[2019-05-08 13:02:38 , 5,   140] Loss: 0.0755\n",
      "[2019-05-08 13:02:38 , 5,   140] Elapsed time: 3.3288 s\n",
      "[2019-05-08 13:02:41 , 5,   150] Loss: 0.0740\n",
      "[2019-05-08 13:02:41 , 5,   150] Elapsed time: 3.5340 s\n",
      "[2019-05-08 13:02:44 , 5,   160] Loss: 0.0734\n",
      "[2019-05-08 13:02:44 , 5,   160] Elapsed time: 3.3757 s\n",
      "[2019-05-08 13:02:48 , 5,   170] Loss: 0.0719\n",
      "[2019-05-08 13:02:48 , 5,   170] Elapsed time: 3.3578 s\n",
      "[2019-05-08 13:02:51 , 5,   180] Loss: 0.0752\n",
      "[2019-05-08 13:02:51 , 5,   180] Elapsed time: 3.3777 s\n",
      "[2019-05-08 13:02:55 , 5,   190] Loss: 0.0757\n",
      "[2019-05-08 13:02:55 , 5,   190] Elapsed time: 3.3788 s\n",
      "[2019-05-08 13:02:58 , 5,   200] Loss: 0.0720\n",
      "[2019-05-08 13:02:58 , 5,   200] Elapsed time: 3.3365 s\n",
      "[2019-05-08 13:03:01 , 5,   210] Loss: 0.0715\n",
      "[2019-05-08 13:03:01 , 5,   210] Elapsed time: 3.4125 s\n",
      "[2019-05-08 13:03:05 , 5,   220] Loss: 0.0737\n",
      "[2019-05-08 13:03:05 , 5,   220] Elapsed time: 3.3476 s\n",
      "[2019-05-08 13:03:08 , 5,   230] Loss: 0.0714\n",
      "[2019-05-08 13:03:08 , 5,   230] Elapsed time: 3.3770 s\n",
      "[2019-05-08 13:03:11 , 5,   240] Loss: 0.0702\n",
      "[2019-05-08 13:03:11 , 5,   240] Elapsed time: 3.3922 s\n",
      "[2019-05-08 13:03:15 , 5,   250] Loss: 0.0767\n",
      "[2019-05-08 13:03:15 , 5,   250] Elapsed time: 3.3398 s\n",
      "[2019-05-08 13:03:18 , 5,   260] Loss: 0.0723\n",
      "[2019-05-08 13:03:18 , 5,   260] Elapsed time: 3.4177 s\n",
      "[2019-05-08 13:03:22 , 5,   270] Loss: 0.0733\n",
      "[2019-05-08 13:03:22 , 5,   270] Elapsed time: 3.3611 s\n",
      "[2019-05-08 13:03:25 , 5,   280] Loss: 0.0715\n",
      "[2019-05-08 13:03:25 , 5,   280] Elapsed time: 3.3907 s\n",
      "[2019-05-08 13:03:28 , 5,   290] Loss: 0.0723\n",
      "[2019-05-08 13:03:28 , 5,   290] Elapsed time: 3.3345 s\n",
      "[2019-05-08 13:03:32 , 5,   300] Loss: 0.0712\n",
      "[2019-05-08 13:03:32 , 5,   300] Elapsed time: 3.4299 s\n",
      "[2019-05-08 13:03:35 , 5,   310] Loss: 0.0713\n",
      "[2019-05-08 13:03:35 , 5,   310] Elapsed time: 3.3513 s\n",
      "[2019-05-08 13:03:38 , 5,   320] Loss: 0.0716\n",
      "[2019-05-08 13:03:38 , 5,   320] Elapsed time: 3.3948 s\n",
      "[2019-05-08 13:03:42 , 5,   330] Loss: 0.0712\n",
      "[2019-05-08 13:03:42 , 5,   330] Elapsed time: 3.3538 s\n",
      "[2019-05-08 13:03:45 , 5,   340] Loss: 0.0705\n",
      "[2019-05-08 13:03:45 , 5,   340] Elapsed time: 3.3503 s\n",
      "[2019-05-08 13:03:49 , 5,   350] Loss: 0.0728\n",
      "[2019-05-08 13:03:49 , 5,   350] Elapsed time: 3.3915 s\n",
      "[2019-05-08 13:03:52 , 5,   360] Loss: 0.0764\n",
      "[2019-05-08 13:03:52 , 5,   360] Elapsed time: 3.3637 s\n",
      "[2019-05-08 13:03:55 , 5,   370] Loss: 0.0752\n",
      "[2019-05-08 13:03:55 , 5,   370] Elapsed time: 3.3301 s\n",
      "Accuracy of the network on 5950 train images: 80.0660 %\n",
      "Accuracy of the network on 500 test images: 80.1108 %\n"
     ]
    }
   ],
   "source": [
    "trainer = UNetTrainer(dataloader, csdsval)\n",
    "model = trainer.train(config, n_epoch=5, use_gpu=True)"
   ]
  },
  {
   "cell_type": "code",
   "execution_count": 19,
   "metadata": {},
   "outputs": [
    {
     "name": "stdout",
     "output_type": "stream",
     "text": [
      "Accuracy of the network on 500 test images: 80.1108 %\n"
     ]
    }
   ],
   "source": [
    "trainer.validate(model, use_gpu=True, device=torch.device(\"cuda:0\" if torch.cuda.is_available() else \"cpu\"))"
   ]
  },
  {
   "cell_type": "markdown",
   "metadata": {},
   "source": [
    "### Save checkpoint"
   ]
  },
  {
   "cell_type": "code",
   "execution_count": 18,
   "metadata": {},
   "outputs": [],
   "source": [
    "model_path = \"/home/md359230/DeepLearning/assignment2/src/model.pkl\""
   ]
  },
  {
   "cell_type": "code",
   "execution_count": 23,
   "metadata": {},
   "outputs": [],
   "source": [
    "torch.save(model.state_dict(), model_path)"
   ]
  },
  {
   "cell_type": "markdown",
   "metadata": {},
   "source": [
    "### Load checkpoint"
   ]
  },
  {
   "cell_type": "code",
   "execution_count": 16,
   "metadata": {},
   "outputs": [],
   "source": [
    "device = torch.device(\"cuda:0\" if torch.cuda.is_available() else \"cpu\")"
   ]
  },
  {
   "cell_type": "code",
   "execution_count": 19,
   "metadata": {},
   "outputs": [],
   "source": [
    "model_loaded = UNet(**config)\n",
    "model_loaded.load_state_dict(torch.load(model_path))\n",
    "model_loaded.eval()\n",
    "model_loaded.to(device);"
   ]
  },
  {
   "cell_type": "code",
   "execution_count": 21,
   "metadata": {},
   "outputs": [
    {
     "name": "stdout",
     "output_type": "stream",
     "text": [
      "Accuracy of the network on 500 test images: 80.1108 %\n"
     ]
    }
   ],
   "source": [
    "trainer = UNetTrainer(dataloader, csdsval)\n",
    "trainer.validate(model_loaded, use_gpu=True, device=device)"
   ]
  },
  {
   "cell_type": "markdown",
   "metadata": {},
   "source": [
    "# Model visualization"
   ]
  },
  {
   "cell_type": "code",
   "execution_count": 69,
   "metadata": {},
   "outputs": [],
   "source": [
    "number = 250"
   ]
  },
  {
   "cell_type": "code",
   "execution_count": 70,
   "metadata": {},
   "outputs": [
    {
     "name": "stdout",
     "output_type": "stream",
     "text": [
      "torch.Size([256, 256]) torch.Size([256, 256]) torch.Size([256, 256])\n"
     ]
    }
   ],
   "source": [
    "image, label = csdsval[number]\n",
    "image = image.unsqueeze(0)\n",
    "image, label = image.to(device), label.to(device)\n",
    "\n",
    "output = model_loaded(image).squeeze()\n",
    "_, predicted = torch.max(output, 0)\n",
    "\n",
    "correct = (predicted == label)\n",
    "print(predicted.size(), label.size(), correct.size())"
   ]
  },
  {
   "cell_type": "code",
   "execution_count": 71,
   "metadata": {},
   "outputs": [],
   "source": [
    "def visualizeUNet(x):\n",
    "    x_numpy = x.cpu().numpy()\n",
    "    sns.heatmap(x_numpy)"
   ]
  },
  {
   "cell_type": "code",
   "execution_count": 72,
   "metadata": {},
   "outputs": [
    {
     "data": {
      "image/png": "[encoded data removed]",
      "text/plain": [
       "<Figure size 432x288 with 2 Axes>"
      ]
     },
     "metadata": {
      "needs_background": "light"
     },
     "output_type": "display_data"
    }
   ],
   "source": [
    "visualizeUNet(predicted)"
   ]
  },
  {
   "cell_type": "code",
   "execution_count": 73,
   "metadata": {},
   "outputs": [
    {
     "data": {
      "image/png": "[encoded data removed]",
      "text/plain": [
       "<Figure size 432x288 with 2 Axes>"
      ]
     },
     "metadata": {
      "needs_background": "light"
     },
     "output_type": "display_data"
    }
   ],
   "source": [
    "visualizeUNet(label)"
   ]
  },
  {
   "cell_type": "markdown",
   "metadata": {},
   "source": [
    "### Black dots are pixels with wrong class predicted"
   ]
  },
  {
   "cell_type": "code",
   "execution_count": 74,
   "metadata": {},
   "outputs": [
    {
     "data": {
      "image/png": "[encoded data removed]",
      "text/plain": [
       "<Figure size 432x288 with 2 Axes>"
      ]
     },
     "metadata": {
      "needs_background": "light"
     },
     "output_type": "display_data"
    }
   ],
   "source": [
    "visualizeUNet(correct) "
   ]
  },
  {
   "cell_type": "markdown",
   "metadata": {},
   "source": [
    "# Unit testing"
   ]
  },
  {
   "cell_type": "code",
   "execution_count": 81,
   "metadata": {},
   "outputs": [
    {
     "data": {
      "text/plain": [
       "array([[ 4, 24,  4, ...,  4,  4,  4],\n",
       "       [ 4,  3, 24, ..., 27, 27, 24],\n",
       "       [24,  3,  3, ..., 16, 16, 24],\n",
       "       ...,\n",
       "       [24, 26, 26, ...,  6, 28,  1],\n",
       "       [24,  3,  3, ...,  1,  5, 11],\n",
       "       [ 4, 24,  4, ..., 24, 11, 24]])"
      ]
     },
     "execution_count": 81,
     "metadata": {},
     "output_type": "execute_result"
    }
   ],
   "source": [
    "np.loadtxt(os.path.join(train_path, '367.txt'), dtype='int')"
   ]
  },
  {
   "cell_type": "code",
   "execution_count": 82,
   "metadata": {},
   "outputs": [
    {
     "data": {
      "text/plain": [
       "True"
      ]
     },
     "execution_count": 82,
     "metadata": {},
     "output_type": "execute_result"
    }
   ],
   "source": [
    "np.allclose(np.loadtxt(os.path.join(train_path, '367.txt'), dtype='int'), label)"
   ]
  },
  {
   "cell_type": "code",
   "execution_count": 20,
   "metadata": {},
   "outputs": [
    {
     "data": {
      "text/plain": [
       "<matplotlib.axes._subplots.AxesSubplot at 0x7f5e526e3f98>"
      ]
     },
     "execution_count": 20,
     "metadata": {},
     "output_type": "execute_result"
    },
    {
     "data": {
      "image/png": "[encoded data removed]",
      "text/plain": [
       "<Figure size 432x288 with 2 Axes>"
      ]
     },
     "metadata": {
      "needs_background": "light"
     },
     "output_type": "display_data"
    }
   ],
   "source": [
    "test = np.loadtxt(os.path.join(train_path, '0002.txt'), dtype='int')\n",
    "sns.heatmap(test)"
   ]
  },
  {
   "cell_type": "code",
   "execution_count": 21,
   "metadata": {},
   "outputs": [
    {
     "data": {
      "text/plain": [
       "<matplotlib.axes._subplots.AxesSubplot at 0x7f5e526b50b8>"
      ]
     },
     "execution_count": 21,
     "metadata": {},
     "output_type": "execute_result"
    },
    {
     "data": {
      "image/png": "[encoded data removed]",
      "text/plain": [
       "<Figure size 432x288 with 2 Axes>"
      ]
     },
     "metadata": {
      "needs_background": "light"
     },
     "output_type": "display_data"
    }
   ],
   "source": [
    "test = np.loadtxt(os.path.join(test_path, '0007.txt'), dtype='int')\n",
    "import seaborn as sns\n",
    "sns.heatmap(test)"
   ]
  },
  {
   "cell_type": "code",
   "execution_count": 75,
   "metadata": {},
   "outputs": [],
   "source": [
    "csds = CityScapesDataSet(dataset_path)"
   ]
  },
  {
   "cell_type": "code",
   "execution_count": 76,
   "metadata": {},
   "outputs": [
    {
     "data": {
      "text/plain": [
       "False"
      ]
     },
     "execution_count": 76,
     "metadata": {},
     "output_type": "execute_result"
    }
   ],
   "source": [
    "csds.transform is not None"
   ]
  },
  {
   "cell_type": "code",
   "execution_count": 77,
   "metadata": {},
   "outputs": [
    {
     "data": {
      "text/plain": [
       "5950"
      ]
     },
     "execution_count": 77,
     "metadata": {},
     "output_type": "execute_result"
    }
   ],
   "source": [
    "len(os.listdir(dataset_path))"
   ]
  },
  {
   "cell_type": "code",
   "execution_count": 82,
   "metadata": {},
   "outputs": [],
   "source": [
    "data, label = csds[5950 // 2]"
   ]
  },
  {
   "cell_type": "code",
   "execution_count": 83,
   "metadata": {},
   "outputs": [
    {
     "data": {
      "text/plain": [
       "<matplotlib.image.AxesImage at 0x7f1d687b10f0>"
      ]
     },
     "execution_count": 83,
     "metadata": {},
     "output_type": "execute_result"
    },
    {
     "data": {
      "image/png": "[encoded data removed]",
      "text/plain": [
       "<Figure size 432x288 with 1 Axes>"
      ]
     },
     "metadata": {
      "needs_background": "light"
     },
     "output_type": "display_data"
    }
   ],
   "source": [
    "plt.imshow(data)"
   ]
  },
  {
   "cell_type": "code",
   "execution_count": 84,
   "metadata": {},
   "outputs": [
    {
     "data": {
      "text/plain": [
       "<matplotlib.axes._subplots.AxesSubplot at 0x7f1d687cf5c0>"
      ]
     },
     "execution_count": 84,
     "metadata": {},
     "output_type": "execute_result"
    },
    {
     "data": {
      "image/png": "[encoded data removed]",
      "text/plain": [
       "<Figure size 432x288 with 2 Axes>"
      ]
     },
     "metadata": {
      "needs_background": "light"
     },
     "output_type": "display_data"
    }
   ],
   "source": [
    "sns.heatmap(label)"
   ]
  },
  {
   "cell_type": "code",
   "execution_count": 42,
   "metadata": {},
   "outputs": [],
   "source": [
    "for i, sample in enumerate(dataloader):\n",
    "    data, label = sample\n",
    "    if i == 0:\n",
    "        break"
   ]
  },
  {
   "cell_type": "code",
   "execution_count": 146,
   "metadata": {},
   "outputs": [],
   "source": [
    "downsample = nn.Conv2d(3, 16, 3, stride=2, padding=1)\n",
    "downsample2 = nn.Conv2d(16, 32, 3, stride=2, padding=1)\n",
    "upsample = nn.ConvTranspose2d(32, 32, 3, stride=2, padding=1)"
   ]
  },
  {
   "cell_type": "code",
   "execution_count": 147,
   "metadata": {},
   "outputs": [
    {
     "data": {
      "text/plain": [
       "torch.Size([8, 3, 256, 256])"
      ]
     },
     "execution_count": 147,
     "metadata": {},
     "output_type": "execute_result"
    }
   ],
   "source": [
    "data.size()"
   ]
  },
  {
   "cell_type": "code",
   "execution_count": 148,
   "metadata": {},
   "outputs": [
    {
     "data": {
      "text/plain": [
       "torch.Size([8, 16, 128, 128])"
      ]
     },
     "execution_count": 148,
     "metadata": {},
     "output_type": "execute_result"
    }
   ],
   "source": [
    "data_intermediate = downsample(data)\n",
    "data_intermediate.size()"
   ]
  },
  {
   "cell_type": "code",
   "execution_count": 149,
   "metadata": {},
   "outputs": [
    {
     "data": {
      "text/plain": [
       "torch.Size([8, 32, 64, 64])"
      ]
     },
     "execution_count": 149,
     "metadata": {},
     "output_type": "execute_result"
    }
   ],
   "source": [
    "data_down = downsample2(data_intermediate)\n",
    "data_down.size()"
   ]
  },
  {
   "cell_type": "code",
   "execution_count": 150,
   "metadata": {},
   "outputs": [
    {
     "data": {
      "text/plain": [
       "torch.Size([8, 32, 128, 128])"
      ]
     },
     "execution_count": 150,
     "metadata": {},
     "output_type": "execute_result"
    }
   ],
   "source": [
    "data_up = upsample(data_down, output_size=data_intermediate.size())\n",
    "data_up.size()"
   ]
  },
  {
   "cell_type": "code",
   "execution_count": 156,
   "metadata": {},
   "outputs": [
    {
     "data": {
      "text/plain": [
       "torch.Size([8, 48, 128, 128])"
      ]
     },
     "execution_count": 156,
     "metadata": {},
     "output_type": "execute_result"
    }
   ],
   "source": [
    "data_cat = torch.cat([data_intermediate, data_up], dim=1)\n",
    "data_cat.size()"
   ]
  },
  {
   "cell_type": "code",
   "execution_count": 157,
   "metadata": {},
   "outputs": [
    {
     "data": {
      "text/plain": [
       "torch.Size([8, 16, 128, 128])"
      ]
     },
     "execution_count": 157,
     "metadata": {},
     "output_type": "execute_result"
    }
   ],
   "source": [
    "ds = DecoderStack(32, 16)\n",
    "ds(data_down, data_intermediate).size()"
   ]
  },
  {
   "cell_type": "code",
   "execution_count": 20,
   "metadata": {},
   "outputs": [],
   "source": [
    "net = UNet([3, 32, 64, 128, 256, 512], [512, 256, 128,64,32])"
   ]
  },
  {
   "cell_type": "code",
   "execution_count": 21,
   "metadata": {},
   "outputs": [],
   "source": [
    "data, label = next(iter(dataloader))"
   ]
  },
  {
   "cell_type": "code",
   "execution_count": 22,
   "metadata": {},
   "outputs": [
    {
     "data": {
      "text/plain": [
       "torch.Size([16, 3, 256, 256])"
      ]
     },
     "execution_count": 22,
     "metadata": {},
     "output_type": "execute_result"
    }
   ],
   "source": [
    "data.size()"
   ]
  },
  {
   "cell_type": "code",
   "execution_count": 23,
   "metadata": {},
   "outputs": [
    {
     "name": "stdout",
     "output_type": "stream",
     "text": [
      "[torch.Size([16, 32, 256, 256]), torch.Size([16, 64, 128, 128]), torch.Size([16, 128, 64, 64]), torch.Size([16, 256, 32, 32])]\n"
     ]
    },
    {
     "data": {
      "text/plain": [
       "torch.Size([16, 30, 256, 256])"
      ]
     },
     "execution_count": 23,
     "metadata": {},
     "output_type": "execute_result"
    }
   ],
   "source": [
    "net(data).size()"
   ]
  },
  {
   "cell_type": "code",
   "execution_count": 105,
   "metadata": {},
   "outputs": [],
   "source": [
    "b = torch.arange(4).view(2,2)"
   ]
  },
  {
   "cell_type": "code",
   "execution_count": 106,
   "metadata": {},
   "outputs": [
    {
     "data": {
      "text/plain": [
       "tensor([[0, 1],\n",
       "        [2, 3]])"
      ]
     },
     "execution_count": 106,
     "metadata": {},
     "output_type": "execute_result"
    }
   ],
   "source": [
    "b"
   ]
  },
  {
   "cell_type": "code",
   "execution_count": 109,
   "metadata": {},
   "outputs": [
    {
     "data": {
      "text/plain": [
       "tensor([[1, 0],\n",
       "        [3, 2]])"
      ]
     },
     "execution_count": 109,
     "metadata": {},
     "output_type": "execute_result"
    }
   ],
   "source": [
    "torch.flip(b, [1])"
   ]
  },
  {
   "cell_type": "code",
   "execution_count": 110,
   "metadata": {},
   "outputs": [],
   "source": [
    "a = torch.arange(8).view(2, 2, 2)"
   ]
  },
  {
   "cell_type": "code",
   "execution_count": 111,
   "metadata": {},
   "outputs": [
    {
     "data": {
      "text/plain": [
       "tensor([[[0, 1],\n",
       "         [2, 3]],\n",
       "\n",
       "        [[4, 5],\n",
       "         [6, 7]]])"
      ]
     },
     "execution_count": 111,
     "metadata": {},
     "output_type": "execute_result"
    }
   ],
   "source": [
    "a"
   ]
  },
  {
   "cell_type": "code",
   "execution_count": 114,
   "metadata": {},
   "outputs": [
    {
     "data": {
      "text/plain": [
       "tensor([[[1, 0],\n",
       "         [3, 2]],\n",
       "\n",
       "        [[5, 4],\n",
       "         [7, 6]]])"
      ]
     },
     "execution_count": 114,
     "metadata": {},
     "output_type": "execute_result"
    }
   ],
   "source": [
    "torch.flip(a, [2])"
   ]
  },
  {
   "cell_type": "code",
   "execution_count": 61,
   "metadata": {},
   "outputs": [
    {
     "data": {
      "text/plain": [
       "<matplotlib.axes._subplots.AxesSubplot at 0x7f651b4827f0>"
      ]
     },
     "execution_count": 61,
     "metadata": {},
     "output_type": "execute_result"
    },
    {
     "data": {
      "image/png": "[encoded data removed]",
      "text/plain": [
       "<Figure size 432x288 with 2 Axes>"
      ]
     },
     "metadata": {
      "needs_background": "light"
     },
     "output_type": "display_data"
    }
   ],
   "source": [
    "sns.heatmap(np.array([1,1,0,0]).reshape(2,2))"
   ]
  },
  {
   "cell_type": "code",
   "execution_count": null,
   "metadata": {},
   "outputs": [],
   "source": []
  }
 ],
 "metadata": {
  "kernelspec": {
   "display_name": "Python 3",
   "language": "python",
   "name": "python3"
  },
  "language_info": {
   "codemirror_mode": {
    "name": "ipython",
    "version": 3
   },
   "file_extension": ".py",
   "mimetype": "text/x-python",
   "name": "python",
   "nbconvert_exporter": "python",
   "pygments_lexer": "ipython3",
   "version": "3.5.2"
  }
 },
 "nbformat": 4,
 "nbformat_minor": 2
}
