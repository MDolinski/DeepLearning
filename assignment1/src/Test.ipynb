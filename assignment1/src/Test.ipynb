{
 "cells": [
  {
   "cell_type": "markdown",
   "metadata": {},
   "source": [
    "# Preparation "
   ]
  },
  {
   "cell_type": "code",
   "execution_count": 1,
   "metadata": {},
   "outputs": [],
   "source": [
    "import os\n",
    "import time\n",
    "import datetime\n",
    "import matplotlib.pyplot as plt\n",
    "import seaborn as sns\n",
    "import numpy as np\n",
    "import pickle"
   ]
  },
  {
   "cell_type": "code",
   "execution_count": 2,
   "metadata": {},
   "outputs": [],
   "source": [
    "import torch\n",
    "import torch.nn as nn\n",
    "import torch.nn.functional as F\n",
    "import torch.optim as optim\n",
    "import torch.nn.init as init\n",
    "import torch.nn.parameter as P\n",
    "import torchvision\n",
    "from torchvision import transforms, datasets"
   ]
  },
  {
   "cell_type": "markdown",
   "metadata": {},
   "source": [
    "# Define Neural Network"
   ]
  },
  {
   "cell_type": "markdown",
   "metadata": {},
   "source": [
    "## Building blocks of the architecture "
   ]
  },
  {
   "cell_type": "code",
   "execution_count": 3,
   "metadata": {},
   "outputs": [],
   "source": [
    "class MyBatchNormalization2d(nn.Module):\n",
    "    \"\"\"Class containing custom implementation of batch normalization.\n",
    "    \"\"\"\n",
    "    def __init__(self, size, momentum=0.1, epsilon=1e-5):\n",
    "        \"\"\"Derived constructor.\n",
    "        \n",
    "        :param size: Number of channels in input tensor.\n",
    "        :param momentum: How fast shall running mean and var decay?\n",
    "        :param epsilon: Number to add to standard deviation to aviod zeros.\n",
    "        :return: MyBatchNormalization2d object.\"\"\"\n",
    "        super(MyBatchNormalization2d, self).__init__()\n",
    "        self.register_buffer('epsilon', torch.Tensor([epsilon]))\n",
    "        self.register_buffer('momentum',  torch.Tensor([momentum]))\n",
    "        self.register_buffer('running_mean', torch.zeros(size))\n",
    "        self.register_buffer('running_var', torch.ones(size))\n",
    "        self.shift = P.Parameter(torch.Tensor(size))\n",
    "        self.scale = P.Parameter(torch.Tensor(size))\n",
    "        init.zeros_(self.shift)\n",
    "        init.uniform_(self.scale)\n",
    "        \n",
    "    def forward(self, x):\n",
    "        \"\"\"Method implementing batch normalization logic.\n",
    "        \n",
    "        :param x: Input tensor of shape (N x C x W x H).\n",
    "        :return: Batch normalized x.\"\"\"\n",
    "        # Compute running means and vars per channel\n",
    "        batch_size, channels, width, height = x.size()\n",
    "        \n",
    "        x_agg = x.permute((1, 0, 2, 3))\\\n",
    "                 .contiguous()\\\n",
    "                 .view(-1, batch_size * width * height)\n",
    "        \n",
    "        if self.training:\n",
    "            tmp_mean = torch.mean(x_agg, dim=1)\n",
    "            tmp_var = torch.var(x_agg, dim=1, unbiased=False)\n",
    "            \n",
    "            self.running_mean = (1. - self.momentum) * self.running_mean +\\\n",
    "                self.momentum * tmp_mean.detach()\n",
    "            self.running_var = (1. - self.momentum) * self.running_var +\\\n",
    "                self.momentum * tmp_var.detach()\n",
    "        \n",
    "        # Scale input to have 0 mean and unit variance (remeber about epsilon!)\n",
    "        tensor_mean = x.new_ones(width, height)\n",
    "        tensor_var = torch.diag(x.new_ones(height)) \n",
    "        \n",
    "        if self.training:\n",
    "            tensor_means = torch.stack([tensor_mean * tmp_mean[i] for i in range(channels)])\n",
    "            tensor_vars = torch.stack([tensor_var * torch.rsqrt(tmp_var[i] + self.epsilon) for i in range(channels)])            \n",
    "        else:\n",
    "            tensor_means = torch.stack([tensor_mean * self.running_mean[i] for i in range(channels)])\n",
    "            tensor_vars = torch.stack([tensor_var * torch.rsqrt(self.running_var[i] + self.epsilon) for i in range(channels)])\n",
    "            \n",
    "        x = torch.matmul((x - tensor_means), tensor_vars)\n",
    "        \n",
    "        # Scale input using parameters\n",
    "        tensor_shift = torch.stack([tensor_mean * self.shift[i] for i in range(channels)])\n",
    "        tensor_scale = torch.stack([tensor_var * self.scale[i] for i in range(channels)])\n",
    "        x = torch.matmul(x, tensor_scale) + tensor_shift\n",
    "        \n",
    "        # Return the result\n",
    "        return x"
   ]
  },
  {
   "cell_type": "code",
   "execution_count": 4,
   "metadata": {},
   "outputs": [],
   "source": [
    "class MyBatchNormalization1d(nn.Module):\n",
    "    def __init__(self, size, momentum=0.1, epsilon=1e-5):\n",
    "        \"\"\"Derived constructor.\n",
    "        \n",
    "        :param size: Number of linear features in input tensor.\n",
    "        :param momentum: How fast shall running mean and var decay?\n",
    "        :param epsilon: Number to add to standard deviation to aviod zeros.\n",
    "        :return: MyBatchNormalization2d object.\"\"\"\n",
    "        super(MyBatchNormalization1d, self).__init__()\n",
    "        self.register_buffer('epsilon', torch.Tensor([epsilon]))\n",
    "        self.register_buffer('momentum',  torch.Tensor([momentum]))\n",
    "        self.register_buffer('running_mean', torch.zeros(size))\n",
    "        self.register_buffer('running_var', torch.ones(size))\n",
    "        self.shift = P.Parameter(torch.Tensor(size))\n",
    "        self.scale = P.Parameter(torch.Tensor(size))\n",
    "        init.zeros_(self.shift)\n",
    "        init.uniform_(self.scale)\n",
    "        \n",
    "    def forward(self, x):\n",
    "        \"\"\"Method implementing batch normalization logic.\n",
    "        \n",
    "        :param x: Input tensor of shape (N x L).\n",
    "        :return: Batch normalized x.\"\"\"\n",
    "        # Compute running means and vars per batch\n",
    "        batch_size, features_size = x.size()\n",
    "        \n",
    "        if self.training:\n",
    "            tmp_mean = torch.mean(x, dim=0)\n",
    "            tmp_var = torch.var(x, dim=0, unbiased=False)\n",
    "            self.running_mean = (1. - self.momentum) * self.running_mean +\\\n",
    "                self.momentum * tmp_mean.detach()\n",
    "            self.running_var = (1. - self.momentum) * self.running_var +\\\n",
    "                self.momentum * tmp_var.detach()\n",
    "      \n",
    "        # Scale input to have 0 mean and unit variance (remeber about epsilon!)\n",
    "        if self.training:\n",
    "            tensor_means = torch.stack([tmp_mean for _ in range(batch_size)])\n",
    "            tensor_vars = torch.diag(torch.rsqrt(tmp_var + self.epsilon))            \n",
    "        else:\n",
    "            tensor_means = torch.stack([self.running_mean for _ in range(batch_size)])\n",
    "            tensor_vars = torch.diag(torch.rsqrt(self.running_var + self.epsilon))\n",
    "        \n",
    "        x = torch.matmul((x - tensor_means), tensor_vars)\n",
    "        \n",
    "        # Scale input using parameters\n",
    "        tensor_shift = torch.stack([self.shift for _ in range(batch_size)])\n",
    "        tensor_scale = torch.diag(self.scale)\n",
    "        \n",
    "        x = torch.matmul(x, tensor_scale) + tensor_shift\n",
    "        \n",
    "        # Return the result\n",
    "        return x"
   ]
  },
  {
   "cell_type": "code",
   "execution_count": 5,
   "metadata": {},
   "outputs": [],
   "source": [
    "def convolutional_layer(in_channels, \n",
    "                        out_channels,\n",
    "                        kernel_size,\n",
    "                        batchnorm_module='default', \n",
    "                        activation_function='relu', \n",
    "                        *args, \n",
    "                        **kwargs): \n",
    "    \"\"\"Function for flexible construction of convolutional layers for the network.\n",
    "    \n",
    "    :param in_channels: Number of input channels.\n",
    "    :param out_channels: Number of channels produced by the output.\n",
    "    :param kernel_size: Kernel size for convolutional layer.\n",
    "    :param batchnorm_module: Must be in ('default', 'custom'). Should Pytorch's or own BN \n",
    "    normalization be used?\n",
    "    :param activation_function: Currently unused.\n",
    "    :param *args: Additional arguments to pass to convolutional layer.\n",
    "    :param **kwargs: Additional keyword arguments to pass to convolutional layer.\n",
    "    :return: Layer consisting of convolution, batch normalization and max pooling.\"\"\"\n",
    "    batchnorm_modules = nn.ModuleDict([\n",
    "        ['default', nn.BatchNorm2d(out_channels)],\n",
    "        ['custom', MyBatchNormalization2d(out_channels)]\n",
    "    ])\n",
    "    \n",
    "    return nn.Sequential(\n",
    "        nn.Conv2d(in_channels, out_channels, kernel_size, *args, **kwargs),\n",
    "        batchnorm_modules[batchnorm_module],\n",
    "        nn.MaxPool2d((2,2))\n",
    "    )"
   ]
  },
  {
   "cell_type": "code",
   "execution_count": 6,
   "metadata": {},
   "outputs": [],
   "source": [
    "def linear_layer(in_features, \n",
    "                 out_feautres, \n",
    "                 batchnorm_module='default',\n",
    "                 activation_function='relu', \n",
    "                 *args, \n",
    "                 **kwargs):\n",
    "    \"\"\"Function for flexible construction of full-connected layers for the network.\n",
    "    \n",
    "    :param in_features: Size of input layer.\n",
    "    :param out_features: Size of output layer.\n",
    "    :param batchnorm_module: Must be in ('default', 'custom'). Should Pytorch's or own BN \n",
    "    normalization be used?\n",
    "    :param activation_fuction: Must be in ('relu', 'lrelu', 'sigmoid'). Which activation\n",
    "    function should be used?\n",
    "    :param *args: Additional arguments to pass to full-connected layer.\n",
    "    :param **kwargs: Additional keyword arguments to pass to full-connected layer.\n",
    "    :return: Layer consisting of full-connected module, batch normalization and activation function.\"\"\"\n",
    "    batchnorm_modules = nn.ModuleDict([\n",
    "        ['default', nn.BatchNorm1d(out_feautres)],\n",
    "        ['custom', MyBatchNormalization1d(out_feautres)]\n",
    "    ])\n",
    "    \n",
    "    activation_functions = nn.ModuleDict([\n",
    "        ['lrelu', nn.LeakyReLU()],\n",
    "        ['relu', nn.ReLU()],\n",
    "        ['sigmoid', nn.Sigmoid()]\n",
    "    ])\n",
    "\n",
    "    return nn.Sequential(\n",
    "        nn.Linear(in_features, out_feautres, *args, **kwargs),\n",
    "        batchnorm_modules[batchnorm_module],\n",
    "        activation_functions[activation_function]\n",
    "    )"
   ]
  },
  {
   "cell_type": "code",
   "execution_count": 7,
   "metadata": {},
   "outputs": [],
   "source": [
    "class ConvolutionalStack(nn.Module):\n",
    "    \"\"\"Class containing implementation of standard convolutional stack.\n",
    "    \"\"\"\n",
    "    def __init__(self, sizes, kernel_sizes, *args, **kwargs):\n",
    "        \"\"\"Derived constructor.\n",
    "        \n",
    "        :param sizes: iterable with sizes of subsequent convolutional_layers.\n",
    "        :param kernel_sizes: iterable with sizer of kernels used in subsequent\n",
    "        convolutional layers.\n",
    "        :param *args: Additional arguments to pass to convolutional layer.\n",
    "        :param **kwargs: Additional keyword arguments to pass to convolutional layer.\n",
    "        :return: ConvolutionalStack object.\"\"\"\n",
    "        super(ConvolutionalStack, self).__init__()\n",
    "        self.convolutional_layers = nn.ModuleList([convolutional_layer(in_size, out_size, ker_size, *args, **kwargs)\n",
    "                                                   for in_size, out_size, ker_size in zip(sizes, sizes[1:], kernel_sizes)])\n",
    "    def forward(self, x):\n",
    "        \"\"\"Method implemention convolutional stack forward pass.\n",
    "        :param x: Input tensor.\n",
    "        :return: Processed tensor.\"\"\"\n",
    "        for convolutional_layer in self.convolutional_layers:\n",
    "            x = convolutional_layer(x)\n",
    "        return x"
   ]
  },
  {
   "cell_type": "code",
   "execution_count": 8,
   "metadata": {},
   "outputs": [],
   "source": [
    "class LinearStack(nn.Module):\n",
    "    \"\"\"Class containing implementation of standard linear stack.\n",
    "    \"\"\"\n",
    "    def __init__(self, sizes, n_classes, *args, **kwargs):\n",
    "        \"\"\"Derived constructor.\n",
    "        \n",
    "        :param sizes: iterable with sizes of subsequent linear_layers.\n",
    "        :param *args: Additional arguments to pass to linear layer.\n",
    "        :param **kwargs: Additional keyword arguments to pass to linear layer.\n",
    "        :return: LinearStack object.\"\"\"\n",
    "        super(LinearStack, self).__init__()\n",
    "        self.linear_layers = nn.ModuleList([linear_layer(in_size, out_size, *args, **kwargs)\n",
    "                                                   for in_size, out_size in zip(sizes, sizes[1:])])\n",
    "        self.linear_layers.append(nn.Linear(sizes[-1], n_classes))\n",
    "        \n",
    "    def forward(self, x):\n",
    "        \"\"\"Method implemention linear stack forward pass.\n",
    "        :param x: Input tensor.\n",
    "        :return: Processed tensor.\"\"\"\n",
    "        for linear_layer in self.linear_layers:\n",
    "            x = linear_layer(x)\n",
    "        return x"
   ]
  },
  {
   "cell_type": "markdown",
   "metadata": {},
   "source": [
    "## Network and trainer"
   ]
  },
  {
   "cell_type": "code",
   "execution_count": 9,
   "metadata": {},
   "outputs": [],
   "source": [
    "class FruitNet(nn.Module):\n",
    "    \"\"\"Class containing architecture of FruitNet.\n",
    "    \"\"\"\n",
    "    def __init__(self, conv_sizes, kernel_sizes, linear_sizes, n_classes, *args, **kwargs):\n",
    "        \"\"\"Derived contructor.\n",
    "        \n",
    "        :param con_sizes: Number of channels in subsequent convolutional blocks.\n",
    "        :param kernel_sizes: Kernel sizes in subsequent convolutional bocks.\n",
    "        :param linear_sizes: Size of subsequent hidden layers.\n",
    "        :param n_classes: Size of output layer.\n",
    "        :param *args: Additional arguments to pass to network blocks.\n",
    "        :param **kwargs: Additional keyword arguments to pass to network blocks.\n",
    "        :return: FruitNet object\"\"\"\n",
    "        super(FruitNet, self).__init__()\n",
    "        self.conv = ConvolutionalStack(conv_sizes, kernel_sizes, *args, **kwargs)\n",
    "        self.fc = LinearStack(linear_sizes, n_classes, *args, **kwargs)\n",
    "\n",
    "    def num_flat_features(self, x):\n",
    "        \"\"\"Utility method to compute size Tensor per batch instance.\n",
    "        \n",
    "        :param x: Input tensor.\n",
    "        :return: Size of Tensor per batch instance.\"\"\"\n",
    "        size = x.size()[1:] \n",
    "        num_features = 1\n",
    "        for s in size:\n",
    "            num_features *= s\n",
    "        return num_features\n",
    "    \n",
    "    def forward(self, x):\n",
    "        \"\"\"Implementation of FruiNet forward pass.\n",
    "        \n",
    "        :param x: Input Tensor.\n",
    "        :return: Processed Tensor.\"\"\"\n",
    "        x = self.conv(x)\n",
    "        x = x.view(-1, self.num_flat_features(x))\n",
    "        x = self.fc(x)\n",
    "        x = x.squeeze()\n",
    "        return x"
   ]
  },
  {
   "cell_type": "code",
   "execution_count": 10,
   "metadata": {},
   "outputs": [],
   "source": [
    "class FruitTrainer(object):\n",
    "    \"\"\"Class designed to train FruiNet.\n",
    "    \"\"\"\n",
    "    def __init__(self, train_data, train_loader, test_data, test_loader):\n",
    "        \"\"\"Basic constructor.\n",
    "        \n",
    "        :param train_data: ImageFolder object containing data for training.\n",
    "        :param train_loader: DataLoader object containing data for training.\n",
    "        :param test_data: ImageFolder object containing data for test.\n",
    "        :param test_loader: DataLoader object containing data for test.\n",
    "        :return: FruitTrainer object.\"\"\"\n",
    "        self.trainset = train_data\n",
    "        self.trainloader = train_loader\n",
    "        \n",
    "        self.testset = test_data\n",
    "        self.testloader = test_loader\n",
    "        \n",
    "    def assess(self, net, test=True, use_gpu=False, device=None):\n",
    "        \"\"\"Method for assessment of Neural Network.\n",
    "        \n",
    "        :param net: Network to assess.\n",
    "        :param test: Boolean: If True, assessment is done on test set, otherwise on train set.\n",
    "        :param use_gpu: Is training happening of gpu?\n",
    "        :param device: Device to use in case training is done on gpu.\n",
    "        :return: Prints evaluation on standard output.\"\"\" \n",
    "        correct = 0\n",
    "        total = 0\n",
    "        loader = self.testloader if test else self.trainloader\n",
    "        for data in loader:\n",
    "            images, labels = data\n",
    "            if device is not None and (device.__str__() != \"cpu\") and use_gpu:\n",
    "                images, labels = images.to(device), labels.to(device)\n",
    "            outputs = net(images)\n",
    "            _, predicted = torch.max(outputs.data, 1)\n",
    "            total += labels.size(0)\n",
    "            correct += (predicted == labels).sum().item()\n",
    "        \n",
    "        dataset_name = 'test' if test else 'train'\n",
    "        print('Accuracy of the network on {} {} images: {:2.4f} %'.format(\n",
    "            total, dataset_name, 100 * correct / total))         \n",
    "            \n",
    "    def train(self, config, n_epoch=5, use_gpu=False):\n",
    "        \"\"\"Method for training FruitNet.\n",
    "        \n",
    "        :param config: Dictionary with configuration passed to FruitNet.\n",
    "        :param n_epoch: Number of epochs.\n",
    "        :param use_gpu: Should the training be done on GPU?\n",
    "        :return: Trained FruitNet object.\"\"\"\n",
    "        net = FruitNet(**config)\n",
    "        \n",
    "        if use_gpu:\n",
    "            device = torch.device(\"cuda:0\" if torch.cuda.is_available() else \"cpu\")\n",
    "            if device.__str__() != \"cpu\":\n",
    "                net.to(device)\n",
    "        \n",
    "        criterion = nn.CrossEntropyLoss()\n",
    "        optimizer = optim.Adam(net.parameters(), lr=0.0002, amsgrad=True)\n",
    "\n",
    "        for epoch in range(n_epoch):\n",
    "            running_loss = 0.0\n",
    "            t = time.time()\n",
    "            net.train()\n",
    "            \n",
    "            for i, data in enumerate(self.trainloader, 0):\n",
    "                inputs, labels = data\n",
    "                \n",
    "                if use_gpu:\n",
    "                    if(device.__str__() != \"cpu\"):\n",
    "                        inputs, labels = inputs.to(device), labels.to(device)\n",
    "                    \n",
    "                optimizer.zero_grad()\n",
    "                outputs = net(inputs)\n",
    "                loss = criterion(outputs, labels)\n",
    "                loss.backward()\n",
    "                optimizer.step()\n",
    "\n",
    "                running_loss += loss.item()\n",
    "                if i % 50 == 49:\n",
    "                    now = datetime.datetime.now()\n",
    "                    print('[%s , %d, %5d] Loss: %.4f' %\n",
    "                          (now.strftime('%Y-%m-%d %H:%M:%S'), epoch + 1, i + 1, running_loss / 100))\n",
    "                    print('[%s , %d, %5d] Elapsed time: %2.4f s' %\n",
    "                          (now.strftime('%Y-%m-%d %H:%M:%S'), epoch + 1, i + 1, time.time() - t))\n",
    "                    running_loss = 0.0\n",
    "                    t = time.time()\n",
    "            \n",
    "            net.eval()\n",
    "            with torch.no_grad():\n",
    "                if use_gpu:\n",
    "                    self.assess(net, use_gpu=True, device=device)\n",
    "                    self.assess(net, test=False, use_gpu=True, device=device)                \n",
    "                else:\n",
    "                    self.assess(net)\n",
    "                    self.assess(net, test=False)\n",
    "\n",
    "        return net\n"
   ]
  },
  {
   "cell_type": "markdown",
   "metadata": {},
   "source": [
    "# Train Neural Network "
   ]
  },
  {
   "cell_type": "code",
   "execution_count": 11,
   "metadata": {},
   "outputs": [],
   "source": [
    "transform = transforms.Compose([\n",
    "    transforms.ToTensor(),\n",
    "    transforms.Normalize((0.5, 0.5, 0.5), (0.5, 0.5, 0.5))\n",
    "])"
   ]
  },
  {
   "cell_type": "code",
   "execution_count": 12,
   "metadata": {},
   "outputs": [],
   "source": [
    "train_data = datasets.ImageFolder(os.path.normpath('/home/md359230/DeepLearning/assignment1/data/fruits-360/Training'),\n",
    "                                  transform=transform)\n",
    "train_loader = torch.utils.data.DataLoader(train_data,\n",
    "                                          batch_size=256,\n",
    "                                          shuffle=True,\n",
    "                                          num_workers=4)"
   ]
  },
  {
   "cell_type": "code",
   "execution_count": 13,
   "metadata": {},
   "outputs": [],
   "source": [
    "test_data = datasets.ImageFolder(os.path.normpath('/home/md359230/DeepLearning/assignment1/data/fruits-360/Test'),\n",
    "                                  transform=transform)\n",
    "test_loader = torch.utils.data.DataLoader(test_data,\n",
    "                                          batch_size=256,\n",
    "                                          shuffle=True,\n",
    "                                          num_workers=4)"
   ]
  },
  {
   "cell_type": "code",
   "execution_count": 14,
   "metadata": {},
   "outputs": [],
   "source": [
    "config = {\n",
    "    'conv_sizes': (3, 8, 16, 32, 64), \n",
    "    'kernel_sizes': (3, 3, 5, 5), \n",
    "    'linear_sizes': (256, 200, 150), \n",
    "    'n_classes': 95,\n",
    "    'batchnorm_module': 'custom',\n",
    "    'activation_function': 'lrelu'\n",
    "}"
   ]
  },
  {
   "cell_type": "code",
   "execution_count": 15,
   "metadata": {},
   "outputs": [],
   "source": [
    "trainer = FruitTrainer(train_data, train_loader, test_data, test_loader)"
   ]
  },
  {
   "cell_type": "code",
   "execution_count": 23,
   "metadata": {},
   "outputs": [
    {
     "name": "stdout",
     "output_type": "stream",
     "text": [
      "[2019-04-22 00:24:43 , 1,    50] Loss: 2.0690\n",
      "[2019-04-22 00:24:43 , 1,    50] Elapsed time: 8.8254 s\n",
      "[2019-04-22 00:24:52 , 1,   100] Loss: 1.8019\n",
      "[2019-04-22 00:24:52 , 1,   100] Elapsed time: 8.7794 s\n",
      "[2019-04-22 00:25:01 , 1,   150] Loss: 1.5890\n",
      "[2019-04-22 00:25:01 , 1,   150] Elapsed time: 8.7525 s\n",
      "Accuracy of the network on 16445 test images: 73.7367 %\n",
      "Accuracy of the network on 48905 train images: 77.9348 %\n",
      "[2019-04-22 00:25:40 , 2,    50] Loss: 1.2278\n",
      "[2019-04-22 00:25:40 , 2,    50] Elapsed time: 9.0445 s\n",
      "[2019-04-22 00:25:48 , 2,   100] Loss: 1.0368\n",
      "[2019-04-22 00:25:48 , 2,   100] Elapsed time: 8.5469 s\n",
      "[2019-04-22 00:25:56 , 2,   150] Loss: 0.8704\n",
      "[2019-04-22 00:25:56 , 2,   150] Elapsed time: 8.4041 s\n",
      "Accuracy of the network on 16445 test images: 88.2700 %\n",
      "Accuracy of the network on 48905 train images: 92.2421 %\n",
      "[2019-04-22 00:26:36 , 3,    50] Loss: 0.6224\n",
      "[2019-04-22 00:26:36 , 3,    50] Elapsed time: 9.1400 s\n",
      "[2019-04-22 00:26:44 , 3,   100] Loss: 0.5037\n",
      "[2019-04-22 00:26:44 , 3,   100] Elapsed time: 8.3776 s\n",
      "[2019-04-22 00:26:52 , 3,   150] Loss: 0.4159\n",
      "[2019-04-22 00:26:52 , 3,   150] Elapsed time: 8.1215 s\n",
      "Accuracy of the network on 16445 test images: 93.9860 %\n",
      "Accuracy of the network on 48905 train images: 97.6935 %\n",
      "[2019-04-22 00:27:30 , 4,    50] Loss: 0.2962\n",
      "[2019-04-22 00:27:30 , 4,    50] Elapsed time: 8.9172 s\n",
      "[2019-04-22 00:27:38 , 4,   100] Loss: 0.2337\n",
      "[2019-04-22 00:27:38 , 4,   100] Elapsed time: 8.4550 s\n",
      "[2019-04-22 00:27:47 , 4,   150] Loss: 0.1947\n",
      "[2019-04-22 00:27:47 , 4,   150] Elapsed time: 8.4260 s\n",
      "Accuracy of the network on 16445 test images: 95.4272 %\n",
      "Accuracy of the network on 48905 train images: 98.7425 %\n",
      "[2019-04-22 00:28:26 , 5,    50] Loss: 0.1598\n",
      "[2019-04-22 00:28:26 , 5,    50] Elapsed time: 9.0158 s\n",
      "[2019-04-22 00:28:34 , 5,   100] Loss: 0.1193\n",
      "[2019-04-22 00:28:34 , 5,   100] Elapsed time: 8.5938 s\n",
      "[2019-04-22 00:28:43 , 5,   150] Loss: 0.1007\n",
      "[2019-04-22 00:28:43 , 5,   150] Elapsed time: 8.4082 s\n",
      "Accuracy of the network on 16445 test images: 96.4244 %\n",
      "Accuracy of the network on 48905 train images: 99.8569 %\n",
      "[2019-04-22 00:29:19 , 6,    50] Loss: 0.0998\n",
      "[2019-04-22 00:29:19 , 6,    50] Elapsed time: 7.3772 s\n",
      "[2019-04-22 00:29:27 , 6,   100] Loss: 0.0675\n",
      "[2019-04-22 00:29:27 , 6,   100] Elapsed time: 7.7380 s\n",
      "[2019-04-22 00:29:36 , 6,   150] Loss: 0.0595\n",
      "[2019-04-22 00:29:36 , 6,   150] Elapsed time: 8.6034 s\n",
      "Accuracy of the network on 16445 test images: 96.8683 %\n",
      "Accuracy of the network on 48905 train images: 99.7056 %\n",
      "[2019-04-22 00:30:13 , 7,    50] Loss: 0.0743\n",
      "[2019-04-22 00:30:13 , 7,    50] Elapsed time: 8.9984 s\n",
      "[2019-04-22 00:30:22 , 7,   100] Loss: 0.0449\n",
      "[2019-04-22 00:30:22 , 7,   100] Elapsed time: 8.3949 s\n",
      "[2019-04-22 00:30:30 , 7,   150] Loss: 0.0400\n",
      "[2019-04-22 00:30:30 , 7,   150] Elapsed time: 8.5216 s\n",
      "Accuracy of the network on 16445 test images: 97.5859 %\n",
      "Accuracy of the network on 48905 train images: 99.9836 %\n",
      "[2019-04-22 00:31:08 , 8,    50] Loss: 0.0446\n",
      "[2019-04-22 00:31:08 , 8,    50] Elapsed time: 9.0702 s\n",
      "[2019-04-22 00:31:17 , 8,   100] Loss: 0.0315\n",
      "[2019-04-22 00:31:17 , 8,   100] Elapsed time: 8.2140 s\n",
      "[2019-04-22 00:31:25 , 8,   150] Loss: 0.0275\n",
      "[2019-04-22 00:31:25 , 8,   150] Elapsed time: 8.3349 s\n",
      "Accuracy of the network on 16445 test images: 97.3548 %\n",
      "Accuracy of the network on 48905 train images: 99.7996 %\n",
      "[2019-04-22 00:32:02 , 9,    50] Loss: 0.0403\n",
      "[2019-04-22 00:32:02 , 9,    50] Elapsed time: 9.0991 s\n",
      "[2019-04-22 00:32:11 , 9,   100] Loss: 0.0234\n",
      "[2019-04-22 00:32:11 , 9,   100] Elapsed time: 8.5525 s\n",
      "[2019-04-22 00:32:19 , 9,   150] Loss: 0.0213\n",
      "[2019-04-22 00:32:19 , 9,   150] Elapsed time: 8.8131 s\n",
      "Accuracy of the network on 16445 test images: 97.7014 %\n",
      "Accuracy of the network on 48905 train images: 99.9959 %\n",
      "[2019-04-22 00:33:00 , 10,    50] Loss: 0.0271\n",
      "[2019-04-22 00:33:00 , 10,    50] Elapsed time: 10.1095 s\n",
      "[2019-04-22 00:33:10 , 10,   100] Loss: 0.0182\n",
      "[2019-04-22 00:33:10 , 10,   100] Elapsed time: 9.6276 s\n",
      "[2019-04-22 00:33:18 , 10,   150] Loss: 0.0166\n",
      "[2019-04-22 00:33:18 , 10,   150] Elapsed time: 8.7161 s\n",
      "Accuracy of the network on 16445 test images: 97.9386 %\n",
      "Accuracy of the network on 48905 train images: 99.9959 %\n",
      "[2019-04-22 00:33:58 , 11,    50] Loss: 0.0175\n",
      "[2019-04-22 00:33:58 , 11,    50] Elapsed time: 9.1996 s\n",
      "[2019-04-22 00:34:07 , 11,   100] Loss: 0.0139\n",
      "[2019-04-22 00:34:07 , 11,   100] Elapsed time: 8.6696 s\n",
      "[2019-04-22 00:34:16 , 11,   150] Loss: 0.0136\n",
      "[2019-04-22 00:34:16 , 11,   150] Elapsed time: 8.5443 s\n",
      "Accuracy of the network on 16445 test images: 98.2122 %\n",
      "Accuracy of the network on 48905 train images: 99.9959 %\n",
      "[2019-04-22 00:34:55 , 12,    50] Loss: 0.0151\n",
      "[2019-04-22 00:34:55 , 12,    50] Elapsed time: 9.3013 s\n",
      "[2019-04-22 00:35:03 , 12,   100] Loss: 0.0118\n",
      "[2019-04-22 00:35:03 , 12,   100] Elapsed time: 8.3385 s\n",
      "[2019-04-22 00:35:11 , 12,   150] Loss: 0.0118\n",
      "[2019-04-22 00:35:11 , 12,   150] Elapsed time: 8.1976 s\n",
      "Accuracy of the network on 16445 test images: 98.0116 %\n",
      "Accuracy of the network on 48905 train images: 99.9980 %\n"
     ]
    }
   ],
   "source": [
    "model = trainer.train(config, n_epoch=12, use_gpu=True)"
   ]
  },
  {
   "cell_type": "code",
   "execution_count": 17,
   "metadata": {},
   "outputs": [],
   "source": [
    "model_path = os.path.join(os.getcwd(), 'model.pkl')"
   ]
  },
  {
   "cell_type": "code",
   "execution_count": 25,
   "metadata": {},
   "outputs": [],
   "source": [
    "pickle.dump(model, open(model_path, 'wb'))"
   ]
  },
  {
   "cell_type": "markdown",
   "metadata": {},
   "source": [
    "# Load saved Neural Network"
   ]
  },
  {
   "cell_type": "code",
   "execution_count": 18,
   "metadata": {},
   "outputs": [],
   "source": [
    "model_loaded = pickle.load(open(model_path, 'rb'))"
   ]
  },
  {
   "cell_type": "code",
   "execution_count": 19,
   "metadata": {},
   "outputs": [
    {
     "name": "stdout",
     "output_type": "stream",
     "text": [
      "Accuracy of the network on 16445 test images: 98.0116 %\n"
     ]
    }
   ],
   "source": [
    "with torch.no_grad():\n",
    "    device = torch.device(\"cuda:0\")\n",
    "    model_loaded.to(device)\n",
    "    trainer.assess(model_loaded, test=True, use_gpu=True, device=device)"
   ]
  },
  {
   "cell_type": "markdown",
   "metadata": {},
   "source": [
    "# Visualize Neural Network"
   ]
  },
  {
   "cell_type": "code",
   "execution_count": 20,
   "metadata": {},
   "outputs": [],
   "source": [
    "class OcclusionVisualizer(object):\n",
    "    \"\"\"Class for creating occlusion heatmaps for a given neural network.\n",
    "    \n",
    "    The algorithm works as following: for each pixed a squared of given \n",
    "    size centered around it is replaced with white pixels. The colour is \n",
    "    the same as the colour of the image background. Therefore, one ca think\n",
    "    about it as covering nearby area of given pixel and inspecting the network\n",
    "    reaction to distorted input. The final result for given pixel is the loss \n",
    "    substracted by the loss on original image. This can be interpreted as \n",
    "    measuring the importance of given pixel for neural netork: the higher the \n",
    "    loss on distorted image, the more important it is for the final prediction.\n",
    "    \"\"\"\n",
    "    def __init__(self, net):\n",
    "        \"\"\"Basic constructor.\n",
    "        \n",
    "        :param net: Trained Neural Network which is to be explained. \n",
    "        The evaluation will be done on CPU.\n",
    "        :raturn: OcclusionVisualizer object.\"\"\"\n",
    "        self.net = net\n",
    "        self.net.cpu()\n",
    "    \n",
    "    def _computeOccludedLoss(self, image, label):\n",
    "        \"\"\"Utility method to compute loss function of occluded image.\n",
    "        \n",
    "        :param image: Tensor with occluded image.\n",
    "        :param labe: True class of the image.\n",
    "        :return: Loss for occluded image.\"\"\"\n",
    "        criterion = nn.CrossEntropyLoss()\n",
    "        output = self.net(image.unsqueeze(0))\n",
    "        loss = criterion(output.unsqueeze(0), label.unsqueeze(0))\n",
    "        return loss.item()   \n",
    "    \n",
    "    def _occludeImage(self, image, position, window_size):\n",
    "        \"\"\"Utility method for occluding image.\n",
    "        \n",
    "        :param image: Tensor containing image.\n",
    "        :param position: position on image to be occluded.\n",
    "        :window_size: How many pixels around the given position\n",
    "        should be distorted?\n",
    "        :return: Occluded image.\"\"\"\n",
    "        x, y = position\n",
    "        _, width, height = image.size()\n",
    "        result = torch.zeros(list(image.size())).copy_(image)\n",
    "        \n",
    "        occluded_positions = ((x + a, y + b) \n",
    "                      for a in range(-window_size, window_size + 1) \n",
    "                      for b in range(-window_size, window_size + 1)\n",
    "                      if 0 <= x + a <= width - 1 and 0 <= y + b <= height - 1)\n",
    "\n",
    "        for occluded_position in occluded_positions:\n",
    "            result[(slice(None),) + occluded_position] = torch.Tensor([1., 1., 1.])\n",
    "            \n",
    "        return result\n",
    "    \n",
    "    def fruitImShow(self, image):\n",
    "        \"\"\"Method for displaying Tensor image.\n",
    "        \n",
    "        :param image: Tensor with image.\n",
    "        :return: Displays image on standard output.\"\"\"\n",
    "        npimg = image.numpy()\n",
    "        plt.imshow(npimg)\n",
    "        plt.axis('off')\n",
    "        plt.show()\n",
    "    \n",
    "    def drawOcclusionHeatMap(self, image, label, window_size=10):\n",
    "        \"\"\"Method for drawing occlusion heatmap.\n",
    "        \n",
    "        :param image: Input image.\n",
    "        :param label: True class of the image.\n",
    "        :window_size: How many pixels around the given position\n",
    "        should be distorted?\n",
    "        :return: Displays heatmap on standard output and \n",
    "        returns numpy with loss differences for each pixel.\"\"\"\n",
    "        _, width, height = image.size()\n",
    "        result = np.zeros([width, height])\n",
    "        \n",
    "        for x in range(width):\n",
    "            if x % 25 == 0:\n",
    "                print(\"done %2.2f procent\" % (x * 100 / width))\n",
    "            for y in range(height):\n",
    "                # Occlude the image in the given point\n",
    "                tmp_img = self._occludeImage(image, (x, y), window_size)\n",
    "\n",
    "                # Compute the loss on occluded image\n",
    "                loss = self._computeOccludedLoss(tmp_img, label)\n",
    "                result[x, y] = loss       \n",
    "        \n",
    "        # Draw heatmap\n",
    "        baseline = self._computeOccludedLoss(image, label)\n",
    "        sns.heatmap(result - baseline,\n",
    "                    xticklabels=False,\n",
    "                    yticklabels=False)\n",
    "        plt.show()\n",
    "        \n",
    "        return result - baseline"
   ]
  },
  {
   "cell_type": "code",
   "execution_count": 21,
   "metadata": {},
   "outputs": [],
   "source": [
    "class GradientVisualizer(object):\n",
    "    \"\"\"Class for visualization of pixelwise gradients of loss function.\n",
    "    \"\"\"\n",
    "    def __init__(self, net):\n",
    "        \"\"\"Basic constructor.\n",
    "        \n",
    "        :param net: Trained Neural Network which is to be explained. \n",
    "        The evaluation will be done on CPU.\n",
    "        :raturn: OcclusionVisualizer object.\"\"\"\n",
    "        self.net = net\n",
    "        self.net.cpu()\n",
    "        \n",
    "    def drawGradientHeatMap(self, image, label):\n",
    "        \"\"\"Method for drawing pixelwise heatmap.\n",
    "        \n",
    "        :param image: Input image.\n",
    "        :param label: True class of the image.\n",
    "        :return: Heatmaps of pixelwise gradients.\"\"\"\n",
    "\n",
    "        tmp_img = torch.zeros(list(image.size())).copy_(image)\n",
    "        tmp_img.requires_grad = True\n",
    "        criterion = nn.CrossEntropyLoss()\n",
    "        output = model_loaded(tmp_img.unsqueeze(0))\n",
    "        loss = criterion(output.unsqueeze(0), label.unsqueeze(0))\n",
    "        loss.backward()\n",
    "        \n",
    "        for i in range(3):\n",
    "            sliced_img = tmp_img.grad[i,:,:].numpy()\n",
    "            sns.heatmap(sliced_img,\n",
    "                        center=0,\n",
    "                        xticklabels=False,\n",
    "                        yticklabels=False)\n",
    "            plt.show()"
   ]
  },
  {
   "cell_type": "code",
   "execution_count": 22,
   "metadata": {},
   "outputs": [],
   "source": [
    "def find_classes(dir):\n",
    "    classes = os.listdir(dir)\n",
    "    classes.sort()\n",
    "    class_to_idx = {classes[i]: i for i in range(len(classes))}\n",
    "    return classes, class_to_idx"
   ]
  },
  {
   "cell_type": "code",
   "execution_count": 23,
   "metadata": {},
   "outputs": [],
   "source": [
    "classes, mapping = find_classes(test_loader.dataset.root)"
   ]
  },
  {
   "cell_type": "code",
   "execution_count": 124,
   "metadata": {},
   "outputs": [],
   "source": [
    "img_path = os.path.join('/home/md359230/', 'DeepLearning/assignment1/data/fruits-360/Test/Orange/75_100.jpg')"
   ]
  },
  {
   "cell_type": "code",
   "execution_count": 125,
   "metadata": {},
   "outputs": [],
   "source": [
    "img = test_loader.dataset.loader(img_path)\n",
    "label = torch.empty(1, dtype=torch.int64)\\\n",
    "             .fill_(mapping[os.path.basename(os.path.dirname(img_path))])\\\n",
    "             .squeeze(0)"
   ]
  },
  {
   "cell_type": "code",
   "execution_count": 126,
   "metadata": {},
   "outputs": [],
   "source": [
    "img = transforms.ToTensor().__call__(img)"
   ]
  },
  {
   "cell_type": "code",
   "execution_count": 127,
   "metadata": {},
   "outputs": [
    {
     "data": {
      "image/png": "[encoded data removed]",
      "text/plain": [
       "<Figure size 432x288 with 1 Axes>"
      ]
     },
     "metadata": {
      "needs_background": "light"
     },
     "output_type": "display_data"
    }
   ],
   "source": [
    "ov = OcclusionVisualizer(model_loaded)\n",
    "ov.fruitImShow(img.permute([1, 2, 0]))"
   ]
  },
  {
   "cell_type": "code",
   "execution_count": 128,
   "metadata": {},
   "outputs": [],
   "source": [
    "img = transforms.Normalize((0.5, 0.5, 0.5), (0.5, 0.5, 0.5)).__call__(img)"
   ]
  },
  {
   "cell_type": "code",
   "execution_count": 129,
   "metadata": {},
   "outputs": [
    {
     "name": "stderr",
     "output_type": "stream",
     "text": [
      "Clipping input data to the valid range for imshow with RGB data ([0..1] for floats or [0..255] for integers).\n"
     ]
    },
    {
     "data": {
      "image/png": "[encoded data removed]",
      "text/plain": [
       "<Figure size 432x288 with 1 Axes>"
      ]
     },
     "metadata": {
      "needs_background": "light"
     },
     "output_type": "display_data"
    }
   ],
   "source": [
    "ov.fruitImShow(img.permute([1, 2, 0]))"
   ]
  },
  {
   "cell_type": "code",
   "execution_count": 130,
   "metadata": {},
   "outputs": [
    {
     "name": "stdout",
     "output_type": "stream",
     "text": [
      "done 0.00 procent\n",
      "done 25.00 procent\n",
      "done 50.00 procent\n",
      "done 75.00 procent\n"
     ]
    },
    {
     "data": {
      "image/png": "[encoded data removed]",
      "text/plain": [
       "<Figure size 432x288 with 2 Axes>"
      ]
     },
     "metadata": {
      "needs_background": "light"
     },
     "output_type": "display_data"
    }
   ],
   "source": [
    "result = ov.drawOcclusionHeatMap(img, label)"
   ]
  },
  {
   "cell_type": "code",
   "execution_count": 132,
   "metadata": {},
   "outputs": [
    {
     "data": {
      "image/png": "[encoded data removed]",
      "text/plain": [
       "<Figure size 432x288 with 2 Axes>"
      ]
     },
     "metadata": {
      "needs_background": "light"
     },
     "output_type": "display_data"
    },
    {
     "data": {
      "image/png": "[encoded data removed]",
      "text/plain": [
       "<Figure size 432x288 with 2 Axes>"
      ]
     },
     "metadata": {
      "needs_background": "light"
     },
     "output_type": "display_data"
    },
    {
     "data": {
      "image/png": "[encoded data removed]",
      "text/plain": [
       "<Figure size 432x288 with 2 Axes>"
      ]
     },
     "metadata": {
      "needs_background": "light"
     },
     "output_type": "display_data"
    }
   ],
   "source": [
    "gv = GradientVisualizer(model_loaded)\n",
    "gv.drawGradientHeatMap(img, label)"
   ]
  },
  {
   "cell_type": "code",
   "execution_count": 95,
   "metadata": {},
   "outputs": [],
   "source": [
    "example, no = next(iter(train_loader))\n",
    "img = example[0]\n",
    "label = no[0]"
   ]
  },
  {
   "cell_type": "markdown",
   "metadata": {},
   "source": [
    "# Random example if calculation was long"
   ]
  },
  {
   "cell_type": "code",
   "execution_count": 225,
   "metadata": {},
   "outputs": [
    {
     "data": {
      "text/plain": [
       "<matplotlib.axes._subplots.AxesSubplot at 0x7f6008189240>"
      ]
     },
     "execution_count": 225,
     "metadata": {},
     "output_type": "execute_result"
    },
    {
     "data": {
      "image/png": "[encoded data removed]",
      "text/plain": [
       "<Figure size 432x288 with 2 Axes>"
      ]
     },
     "metadata": {
      "needs_background": "light"
     },
     "output_type": "display_data"
    }
   ],
   "source": [
    "sns.heatmap(result - 0.008087158203125,\n",
    "            xticklabels=False,\n",
    "            yticklabels=False)"
   ]
  },
  {
   "cell_type": "code",
   "execution_count": 212,
   "metadata": {},
   "outputs": [
    {
     "name": "stderr",
     "output_type": "stream",
     "text": [
      "Clipping input data to the valid range for imshow with RGB data ([0..1] for floats or [0..255] for integers).\n"
     ]
    },
    {
     "data": {
      "image/png": "[encoded data removed]",
      "text/plain": [
       "<Figure size 432x288 with 1 Axes>"
      ]
     },
     "metadata": {
      "needs_background": "light"
     },
     "output_type": "display_data"
    }
   ],
   "source": [
    "fruitImShow(tmp_img.permute([1, 2, 0]))"
   ]
  },
  {
   "cell_type": "markdown",
   "metadata": {},
   "source": [
    "# Unit test for my implementations of batch normalization "
   ]
  },
  {
   "cell_type": "markdown",
   "metadata": {},
   "source": [
    "## Batch normalization 2d"
   ]
  },
  {
   "cell_type": "code",
   "execution_count": 5,
   "metadata": {},
   "outputs": [],
   "source": [
    "x = torch.tensor([[[[ 0.4801, -1.0264],\n",
    "          [-0.6684, -0.0054]],\n",
    "\n",
    "         [[-0.3160, -0.1503],\n",
    "          [-0.8476,  0.9424]],\n",
    "\n",
    "         [[-0.5158,  0.4040],\n",
    "          [ 1.5077, -0.5627]]],\n",
    "\n",
    "\n",
    "        [[[-1.1366,  0.7921],\n",
    "          [ 1.4411, -1.6859]],\n",
    "\n",
    "         [[-0.6283,  0.7755],\n",
    "          [ 0.7855,  0.6781]],\n",
    "\n",
    "         [[ 0.2961, -0.6014],\n",
    "          [ 0.8488, -2.1111]]]])"
   ]
  },
  {
   "cell_type": "code",
   "execution_count": 6,
   "metadata": {},
   "outputs": [
    {
     "name": "stdout",
     "output_type": "stream",
     "text": [
      "tensor([[[[ 0.6993, -0.7923],\n",
      "          [-0.4379,  0.2186]],\n",
      "\n",
      "         [[-0.7010, -0.4543],\n",
      "          [-1.4924,  1.1723]],\n",
      "\n",
      "         [[-0.4095,  0.4788],\n",
      "          [ 1.5446, -0.4548]]],\n",
      "\n",
      "\n",
      "        [[[-0.9015,  1.0082],\n",
      "          [ 1.6509, -1.4453]],\n",
      "\n",
      "         [[-1.1659,  0.9238],\n",
      "          [ 0.9387,  0.7788]],\n",
      "\n",
      "         [[ 0.3746, -0.4921],\n",
      "          [ 0.9083, -1.9500]]]], grad_fn=<AddBackward0>)\n",
      "tensor([-0.0226,  0.0155, -0.0092])\n"
     ]
    },
    {
     "data": {
      "text/plain": [
       "tensor([1.0020, 0.9451, 1.0072])"
      ]
     },
     "execution_count": 6,
     "metadata": {},
     "output_type": "execute_result"
    }
   ],
   "source": [
    "mbn = MyBatchNormalization2d(3)\n",
    "mbn.shift.data.copy_(torch.Tensor([0.]))\n",
    "mbn.scale.data.copy_(torch.Tensor([1.]))\n",
    "print(mbn.forward(x))\n",
    "print(mbn.running_mean)\n",
    "mbn.running_var"
   ]
  },
  {
   "cell_type": "code",
   "execution_count": 7,
   "metadata": {},
   "outputs": [],
   "source": [
    "x = torch.tensor([[[[ 0.4801, -1.0264],\n",
    "          [-0.6684, -0.0054]],\n",
    "\n",
    "         [[-0.3160, -0.1503],\n",
    "          [-0.8476,  0.9424]],\n",
    "\n",
    "         [[-0.5158,  0.4040],\n",
    "          [ 1.5077, -0.5627]]],\n",
    "\n",
    "\n",
    "        [[[-1.1366,  0.7921],\n",
    "          [ 1.4411, -1.6859]],\n",
    "\n",
    "         [[-0.6283,  0.7755],\n",
    "          [ 0.7855,  0.6781]],\n",
    "\n",
    "         [[ 0.2961, -0.6014],\n",
    "          [ 0.8488, -2.1111]]]])"
   ]
  },
  {
   "cell_type": "code",
   "execution_count": 8,
   "metadata": {},
   "outputs": [
    {
     "name": "stdout",
     "output_type": "stream",
     "text": [
      "tensor([[[[ 0.6993, -0.7923],\n",
      "          [-0.4379,  0.2186]],\n",
      "\n",
      "         [[-0.7010, -0.4543],\n",
      "          [-1.4924,  1.1723]],\n",
      "\n",
      "         [[-0.4095,  0.4788],\n",
      "          [ 1.5446, -0.4548]]],\n",
      "\n",
      "\n",
      "        [[[-0.9015,  1.0082],\n",
      "          [ 1.6509, -1.4453]],\n",
      "\n",
      "         [[-1.1659,  0.9238],\n",
      "          [ 0.9387,  0.7788]],\n",
      "\n",
      "         [[ 0.3746, -0.4921],\n",
      "          [ 0.9083, -1.9500]]]], grad_fn=<NativeBatchNormBackward>)\n",
      "tensor([-0.0226,  0.0155, -0.0092])\n"
     ]
    },
    {
     "data": {
      "text/plain": [
       "tensor([1.0166, 0.9516, 1.0225])"
      ]
     },
     "execution_count": 8,
     "metadata": {},
     "output_type": "execute_result"
    }
   ],
   "source": [
    "bn = nn.BatchNorm2d(3)\n",
    "bn.bias.data.copy_(torch.Tensor([0.]))\n",
    "bn.weight.data.copy_(torch.Tensor([1.]))\n",
    "print(bn.forward(x))\n",
    "print(bn.running_mean)\n",
    "bn.running_var"
   ]
  },
  {
   "cell_type": "code",
   "execution_count": 9,
   "metadata": {},
   "outputs": [
    {
     "data": {
      "text/plain": [
       "tensor([[[[1.0000, 1.0000],\n",
       "          [1.0000, 1.0000]],\n",
       "\n",
       "         [[1.0000, 1.0000],\n",
       "          [1.0000, 1.0000]],\n",
       "\n",
       "         [[1.0000, 1.0000],\n",
       "          [1.0000, 1.0000]]],\n",
       "\n",
       "\n",
       "        [[[1.0000, 1.0000],\n",
       "          [1.0000, 1.0000]],\n",
       "\n",
       "         [[1.0000, 1.0000],\n",
       "          [1.0000, 1.0000]],\n",
       "\n",
       "         [[1.0000, 1.0000],\n",
       "          [1.0000, 1.0000]]]], grad_fn=<DivBackward0>)"
      ]
     },
     "execution_count": 9,
     "metadata": {},
     "output_type": "execute_result"
    }
   ],
   "source": [
    "bn.forward(x) / mbn.forward(x)"
   ]
  },
  {
   "cell_type": "markdown",
   "metadata": {},
   "source": [
    "## Batch normalization 1d"
   ]
  },
  {
   "cell_type": "code",
   "execution_count": 10,
   "metadata": {},
   "outputs": [],
   "source": [
    "x = torch.Tensor([[ 0.3534,  1.3480,  1.0362],\n",
    "        [-1.6341, -0.5642, -0.9382],\n",
    "        [-0.4853, -0.3669, -0.1098],\n",
    "        [-1.4520, -0.1399,  0.0106],\n",
    "        [ 1.3992, -0.1157, -0.3049],\n",
    "        [ 0.0403, -0.1023,  0.0091],\n",
    "        [ 0.7643,  0.0948,  1.3555],\n",
    "        [ 1.7898,  0.9649, -1.7940]])"
   ]
  },
  {
   "cell_type": "code",
   "execution_count": 11,
   "metadata": {},
   "outputs": [
    {
     "name": "stdout",
     "output_type": "stream",
     "text": [
      "tensor([[ 0.2206,  1.9417,  1.2020],\n",
      "        [-1.4891, -1.1315, -0.9016],\n",
      "        [-0.5009, -0.8144, -0.0190],\n",
      "        [-1.3325, -0.4496,  0.1092],\n",
      "        [ 1.1202, -0.4107, -0.2269],\n",
      "        [-0.0487, -0.3892,  0.1076],\n",
      "        [ 0.5741, -0.0724,  1.5422],\n",
      "        [ 1.4562,  1.3260, -1.8134]], grad_fn=<AddBackward0>)\n",
      "tensor([ 0.0097,  0.0140, -0.0092])\n",
      "tensor([1.0351, 0.9387, 0.9881])\n"
     ]
    }
   ],
   "source": [
    "mbn1d = MyBatchNormalization1d(3)\n",
    "mbn1d.shift.data.copy_(torch.Tensor([0.]))\n",
    "mbn1d.scale.data.copy_(torch.Tensor([1.]))\n",
    "print(mbn1d.forward(x))\n",
    "print(mbn1d.running_mean)\n",
    "print(mbn1d.running_var)"
   ]
  },
  {
   "cell_type": "code",
   "execution_count": 12,
   "metadata": {},
   "outputs": [],
   "source": [
    "x = torch.Tensor([[ 0.3534,  1.3480,  1.0362],\n",
    "        [-1.6341, -0.5642, -0.9382],\n",
    "        [-0.4853, -0.3669, -0.1098],\n",
    "        [-1.4520, -0.1399,  0.0106],\n",
    "        [ 1.3992, -0.1157, -0.3049],\n",
    "        [ 0.0403, -0.1023,  0.0091],\n",
    "        [ 0.7643,  0.0948,  1.3555],\n",
    "        [ 1.7898,  0.9649, -1.7940]])"
   ]
  },
  {
   "cell_type": "code",
   "execution_count": 13,
   "metadata": {},
   "outputs": [
    {
     "name": "stdout",
     "output_type": "stream",
     "text": [
      "tensor([[ 0.2206,  1.9417,  1.2020],\n",
      "        [-1.4891, -1.1315, -0.9016],\n",
      "        [-0.5009, -0.8144, -0.0190],\n",
      "        [-1.3325, -0.4496,  0.1092],\n",
      "        [ 1.1202, -0.4107, -0.2269],\n",
      "        [-0.0487, -0.3892,  0.1076],\n",
      "        [ 0.5741, -0.0724,  1.5422],\n",
      "        [ 1.4562,  1.3260, -1.8134]], grad_fn=<NativeBatchNormBackward>)\n",
      "tensor([ 0.0097,  0.0140, -0.0092])\n",
      "tensor([1.0544, 0.9442, 1.0007])\n"
     ]
    }
   ],
   "source": [
    "bn1d = nn.BatchNorm1d(3)\n",
    "bn1d.bias.data.copy_(torch.Tensor([0.]))\n",
    "bn1d.weight.data.copy_(torch.Tensor([1.]))\n",
    "print(bn1d.forward(x))\n",
    "print(bn1d.running_mean)\n",
    "print(bn1d.running_var)"
   ]
  },
  {
   "cell_type": "code",
   "execution_count": 14,
   "metadata": {},
   "outputs": [
    {
     "data": {
      "text/plain": [
       "tensor([[1.0000, 1.0000, 1.0000],\n",
       "        [1.0000, 1.0000, 1.0000],\n",
       "        [1.0000, 1.0000, 1.0000],\n",
       "        [1.0000, 1.0000, 1.0000],\n",
       "        [1.0000, 1.0000, 1.0000],\n",
       "        [1.0000, 1.0000, 1.0000],\n",
       "        [1.0000, 1.0000, 1.0000],\n",
       "        [1.0000, 1.0000, 1.0000]], grad_fn=<DivBackward0>)"
      ]
     },
     "execution_count": 14,
     "metadata": {},
     "output_type": "execute_result"
    }
   ],
   "source": [
    "bn1d.forward(x) / mbn1d.forward(x)"
   ]
  },
  {
   "cell_type": "code",
   "execution_count": null,
   "metadata": {},
   "outputs": [],
   "source": []
  }
 ],
 "metadata": {
  "kernelspec": {
   "display_name": "Python 3",
   "language": "python",
   "name": "python3"
  },
  "language_info": {
   "codemirror_mode": {
    "name": "ipython",
    "version": 3
   },
   "file_extension": ".py",
   "mimetype": "text/x-python",
   "name": "python",
   "nbconvert_exporter": "python",
   "pygments_lexer": "ipython3",
   "version": "3.5.2"
  }
 },
 "nbformat": 4,
 "nbformat_minor": 2
}
