{
 "cells": [
  {
   "cell_type": "markdown",
   "metadata": {},
   "source": [
    "# Preparation "
   ]
  },
  {
   "cell_type": "code",
   "execution_count": 1,
   "metadata": {},
   "outputs": [],
   "source": [
    "import os\n",
    "import glob\n",
    "import time\n",
    "import datetime\n",
    "import matplotlib.pyplot as plt\n",
    "import numpy as np\n",
    "import pickle"
   ]
  },
  {
   "cell_type": "code",
   "execution_count": 2,
   "metadata": {},
   "outputs": [],
   "source": [
    "import torch\n",
    "import torch.nn as nn\n",
    "import torch.nn.functional as F\n",
    "import torch.optim as optim\n",
    "import torch.nn.init as init\n",
    "import torch.nn.parameter as P\n",
    "import torchvision\n",
    "from torchvision import transforms, datasets"
   ]
  },
  {
   "cell_type": "markdown",
   "metadata": {},
   "source": [
    "# Define Neural Network"
   ]
  },
  {
   "cell_type": "markdown",
   "metadata": {},
   "source": [
    "## Building blocks of the architecture "
   ]
  },
  {
   "cell_type": "code",
   "execution_count": 3,
   "metadata": {},
   "outputs": [],
   "source": [
    "class MyBatchNormalization2d(nn.Module):\n",
    "    \"\"\"Class containing custom implementation of batch normalization.\n",
    "    \"\"\"\n",
    "    def __init__(self, size, momentum=0.1, epsilon=1e-5):\n",
    "        \"\"\"Derived constructor.\n",
    "        \n",
    "        :param size: Number of channels in input tensor.\n",
    "        :param momentum: How fast shall running mean and std decay?\n",
    "        :param epsilon: Number to add to standard deviation to aviod zeros.\n",
    "        :return: MyBatchNormalization2d object.\"\"\"\n",
    "        super(MyBatchNormalization2d, self).__init__()\n",
    "        self.register_buffer('epsilon', torch.Tensor([epsilon]))\n",
    "        self.register_buffer('momentum',  torch.Tensor([momentum]))\n",
    "        self.register_buffer('running_mean', torch.zeros(size))\n",
    "        self.register_buffer('running_std', torch.ones(size))\n",
    "        self.shift = P.Parameter(torch.Tensor(size))\n",
    "        self.scale = P.Parameter(torch.Tensor(size))\n",
    "        init.zeros_(self.shift)\n",
    "        init.uniform_(self.scale)\n",
    "        \n",
    "    def forward(self, x):\n",
    "        \"\"\"Method implementing batch normalization logic.\n",
    "        \n",
    "        :param x: Input tensor of shape (N x C x W x H).\n",
    "        :return: Batch normalized x.\"\"\"\n",
    "        # Compute running means and stds per channel\n",
    "        batch_size, channels, width, height = x.size()\n",
    "        \n",
    "        x_agg = x.permute((1, 0, 2, 3))\\\n",
    "                 .contiguous()\\\n",
    "                 .view(-1, batch_size * width * height)\n",
    "        \n",
    "        if self.training:\n",
    "            tmp_mean = torch.mean(x_agg, dim=1)\n",
    "            tmp_std = torch.std(x_agg, dim=1, unbiased=True)\n",
    "            \n",
    "            self.running_mean = (1. - self.momentum) * self.running_mean +\\\n",
    "                self.momentum * tmp_mean.detach()\n",
    "            self.running_std = (1. - self.momentum) * self.running_std +\\\n",
    "                self.momentum * tmp_std.detach()\n",
    "        \n",
    "        # Scale input to have 0 mean and unit variance (remeber about epsilon!)\n",
    "        tensor_mean = x.new_ones(width, height)\n",
    "        tensor_std = torch.diag(x.new_ones(height)) \n",
    "        \n",
    "        if self.training:\n",
    "            tensor_means = torch.stack([tensor_mean * tmp_mean[i] for i in range(channels)])\n",
    "            tensor_stds = torch.stack([tensor_std * (1 / (tmp_std[i] + self.epsilon)) for i in range(channels)])            \n",
    "        else:\n",
    "            tensor_means = torch.stack([tensor_mean * self.running_mean[i] for i in range(channels)])\n",
    "            tensor_stds = torch.stack([tensor_std * (1 / (self.running_std[i] + self.epsilon)) for i in range(channels)])\n",
    "        x = torch.matmul((x - tensor_means), tensor_stds)\n",
    "        \n",
    "        # Scale input using parameters\n",
    "        tensor_shift = torch.stack([tensor_mean * self.shift[i] for i in range(channels)])\n",
    "        tensor_scale = torch.stack([tensor_std * self.scale[i] for i in range(channels)])\n",
    "        x = torch.matmul(x, tensor_scale) + tensor_shift\n",
    "        \n",
    "        # Return the result\n",
    "        return x"
   ]
  },
  {
   "cell_type": "code",
   "execution_count": 4,
   "metadata": {},
   "outputs": [],
   "source": [
    "class MyBatchNormalization1d(nn.Module):\n",
    "    def __init__(self, size, momentum=0.1, epsilon=1e-5):\n",
    "        \"\"\"Derived constructor.\n",
    "        \n",
    "        :param size: Number of linear features in input tensor.\n",
    "        :param momentum: How fast shall running mean and std decay?\n",
    "        :param epsilon: Number to add to standard deviation to aviod zeros.\n",
    "        :return: MyBatchNormalization2d object.\"\"\"\n",
    "        super(MyBatchNormalization1d, self).__init__()\n",
    "        self.register_buffer('epsilon', torch.Tensor([epsilon]))\n",
    "        self.register_buffer('momentum',  torch.Tensor([momentum]))\n",
    "        self.register_buffer('running_mean', torch.zeros(size))\n",
    "        self.register_buffer('running_std', torch.ones(size))\n",
    "        self.shift = P.Parameter(torch.Tensor(size))\n",
    "        self.scale = P.Parameter(torch.Tensor(size))\n",
    "        init.zeros_(self.shift)\n",
    "        init.uniform_(self.scale)\n",
    "        \n",
    "    def forward(self, x):\n",
    "        \"\"\"Method implementing batch normalization logic.\n",
    "        \n",
    "        :param x: Input tensor of shape (N x L).\n",
    "        :return: Batch normalized x.\"\"\"\n",
    "        # Compute running means and stds per batch\n",
    "        batch_size, features_size = x.size()\n",
    "        \n",
    "        if self.training:\n",
    "            tmp_mean = torch.mean(x, dim=0)\n",
    "            tmp_std = torch.std(x, dim=0, unbiased=True)\n",
    "            self.running_mean = (1. - self.momentum) * self.running_mean +\\\n",
    "                self.momentum * tmp_mean.detach()\n",
    "            self.running_std = (1. - self.momentum) * self.running_std +\\\n",
    "                self.momentum * tmp_std.detach()\n",
    "      \n",
    "        # Scale input to have 0 mean and unit variance (remeber about epsilon!)\n",
    "        if self.training:\n",
    "            tensor_means = torch.stack([tmp_mean for _ in range(batch_size)])\n",
    "            tensor_stds = torch.diag(1 / (tmp_std + self.epsilon))            \n",
    "        else:\n",
    "            tensor_means = torch.stack([self.running_mean for _ in range(batch_size)])\n",
    "            tensor_stds = torch.diag(1 / (self.running_std + self.epsilon))\n",
    "        \n",
    "        x = torch.matmul((x - tensor_means), tensor_stds)\n",
    "        \n",
    "        # Scale input using parameters\n",
    "        tensor_shift = torch.stack([self.shift for _ in range(batch_size)])\n",
    "        tensor_scale = torch.diag(self.scale)\n",
    "        \n",
    "        x = torch.matmul(x, tensor_scale) + tensor_shift\n",
    "        \n",
    "        # Return the result\n",
    "        return x"
   ]
  },
  {
   "cell_type": "code",
   "execution_count": 5,
   "metadata": {},
   "outputs": [],
   "source": [
    "def convolutional_layer(in_channels, \n",
    "                        out_channels,\n",
    "                        kernel_size,\n",
    "                        batchnorm_module='default', \n",
    "                        activation_function='relu', \n",
    "                        *args, \n",
    "                        **kwargs): \n",
    "    \"\"\"Function for flexible construction of convolutional layers for the network.\n",
    "    \n",
    "    :param in_channels: Number of input channels.\n",
    "    :param out_channels: Number of channels produced by the output.\n",
    "    :param kernel_size: Kernel size for convolutional layer.\n",
    "    :param batchnorm_module: Must be in ('default', 'custom'). Should Pytorch's or own BN \n",
    "    normalization be used?\n",
    "    :param activation_function: Currently unused.\n",
    "    :param *args: Additional arguments to pass to convolutional layer.\n",
    "    :param **kwargs: Additional keyword arguments to pass to convolutional layer.\n",
    "    :return: Layer consisting of convolution, batch normalization and max pooling.\"\"\"\n",
    "    batchnorm_modules = nn.ModuleDict([\n",
    "        ['default', nn.BatchNorm2d(out_channels)],\n",
    "        ['custom', MyBatchNormalization2d(out_channels)]\n",
    "    ])\n",
    "    \n",
    "    return nn.Sequential(\n",
    "        nn.Conv2d(in_channels, out_channels, kernel_size, *args, **kwargs),\n",
    "        batchnorm_modules[batchnorm_module],\n",
    "        nn.MaxPool2d((2,2))\n",
    "    )"
   ]
  },
  {
   "cell_type": "code",
   "execution_count": 6,
   "metadata": {},
   "outputs": [],
   "source": [
    "def linear_layer(in_features, \n",
    "                 out_feautres, \n",
    "                 batchnorm_module='default',\n",
    "                 activation_function='relu', \n",
    "                 *args, \n",
    "                 **kwargs):\n",
    "    \"\"\"Function for flexible construction of full-connected layers for the network.\n",
    "    \n",
    "    :param in_features: Size of input layer.\n",
    "    :param out_features: Size of output layer.\n",
    "    :param batchnorm_module: Must be in ('default', 'custom'). Should Pytorch's or own BN \n",
    "    normalization be used?\n",
    "    :param activation_fuction: Must be in ('relu', 'lrelu', 'sigmoid'). Which activation\n",
    "    function should be used?\n",
    "    :param *args: Additional arguments to pass to full-connected layer.\n",
    "    :param **kwargs: Additional keyword arguments to pass to full-connected layer.\n",
    "    :return: Layer consisting of full-connected module, batch normalization and activation function.\"\"\"\n",
    "    batchnorm_modules = nn.ModuleDict([\n",
    "        ['default', nn.BatchNorm1d(out_feautres)],\n",
    "        ['custom', MyBatchNormalization1d(out_feautres)]\n",
    "    ])\n",
    "    \n",
    "    activation_functions = nn.ModuleDict([\n",
    "        ['lrelu', nn.LeakyReLU()],\n",
    "        ['relu', nn.ReLU()],\n",
    "        ['sigmoid', nn.Sigmoid()]\n",
    "    ])\n",
    "\n",
    "    return nn.Sequential(\n",
    "        nn.Linear(in_features, out_feautres, *args, **kwargs),\n",
    "        batchnorm_modules[batchnorm_module],\n",
    "        activation_functions[activation_function]\n",
    "    )"
   ]
  },
  {
   "cell_type": "code",
   "execution_count": 7,
   "metadata": {},
   "outputs": [],
   "source": [
    "class ConvolutionalStack(nn.Module):\n",
    "    \"\"\"Class containing implementation of standard convolutional stack.\n",
    "    \"\"\"\n",
    "    def __init__(self, sizes, kernel_sizes, *args, **kwargs):\n",
    "        \"\"\"Derived constructor.\n",
    "        \n",
    "        :param sizes: iterable with sizes of subsequent convolutional_layers.\n",
    "        :param kernel_sizes: iterable with sizer of kernels used in subsequent\n",
    "        convolutional layers.\n",
    "        :param *args: Additional arguments to pass to convolutional layer.\n",
    "        :param **kwargs: Additional keyword arguments to pass to convolutional layer.\n",
    "        :return: ConvolutionalStack object.\"\"\"\n",
    "        super(ConvolutionalStack, self).__init__()\n",
    "        self.convolutional_layers = nn.ModuleList([convolutional_layer(in_size, out_size, ker_size, *args, **kwargs)\n",
    "                                                   for in_size, out_size, ker_size in zip(sizes, sizes[1:], kernel_sizes)])\n",
    "    def forward(self, x):\n",
    "        \"\"\"Method implemention convolutional stack forward pass.\n",
    "        :param x: Input tensor.\n",
    "        :return: Processed tensor.\"\"\"\n",
    "        for convolutional_layer in self.convolutional_layers:\n",
    "            x = convolutional_layer(x)\n",
    "        return x"
   ]
  },
  {
   "cell_type": "code",
   "execution_count": 8,
   "metadata": {},
   "outputs": [],
   "source": [
    "class LinearStack(nn.Module):\n",
    "    \"\"\"Class containing implementation of standard linear stack.\n",
    "    \"\"\"\n",
    "    def __init__(self, sizes, n_classes, *args, **kwargs):\n",
    "        \"\"\"Derived constructor.\n",
    "        \n",
    "        :param sizes: iterable with sizes of subsequent linear_layers.\n",
    "        :param *args: Additional arguments to pass to linear layer.\n",
    "        :param **kwargs: Additional keyword arguments to pass to linear layer.\n",
    "        :return: LinearStack object.\"\"\"\n",
    "        super(LinearStack, self).__init__()\n",
    "        self.linear_layers = nn.ModuleList([linear_layer(in_size, out_size, *args, **kwargs)\n",
    "                                                   for in_size, out_size in zip(sizes, sizes[1:])])\n",
    "        self.linear_layers.append(nn.Linear(sizes[-1], n_classes))\n",
    "        \n",
    "    def forward(self, x):\n",
    "        \"\"\"Method implemention linear stack forward pass.\n",
    "        :param x: Input tensor.\n",
    "        :return: Processed tensor.\"\"\"\n",
    "        for linear_layer in self.linear_layers:\n",
    "            x = linear_layer(x)\n",
    "        return x"
   ]
  },
  {
   "cell_type": "markdown",
   "metadata": {},
   "source": [
    "## Network and trainer"
   ]
  },
  {
   "cell_type": "code",
   "execution_count": 9,
   "metadata": {},
   "outputs": [],
   "source": [
    "class FruitNet(nn.Module):\n",
    "    \"\"\"Class containing architecture of FruitNet.\n",
    "    \"\"\"\n",
    "    def __init__(self, conv_sizes, kernel_sizes, linear_sizes, n_classes, *args, **kwargs):\n",
    "        \"\"\"Derived contructor.\n",
    "        \n",
    "        :param con_sizes: Number of channels in subsequent convolutional blocks.\n",
    "        :param kernel_sizes: Kernel sizes in subsequent convolutional bocks.\n",
    "        :param linear_sizes: Size of subsequent hidden layers.\n",
    "        :param n_classes: Size of output layer.\n",
    "        :param *args: Additional arguments to pass to network blocks.\n",
    "        :param **kwargs: Additional keyword arguments to pass to network blocks.\n",
    "        :return: FruitNet object\"\"\"\n",
    "        super(FruitNet, self).__init__()\n",
    "        self.conv = ConvolutionalStack(conv_sizes, kernel_sizes, *args, **kwargs)\n",
    "        self.fc = LinearStack(linear_sizes, n_classes, *args, **kwargs)\n",
    "\n",
    "    def num_flat_features(self, x):\n",
    "        \"\"\"Utility method to compute size Tensor per batch instance.\n",
    "        \n",
    "        :param x: Input tensor.\n",
    "        :return: Size of Tensor per batch instance.\"\"\"\n",
    "        size = x.size()[1:] \n",
    "        num_features = 1\n",
    "        for s in size:\n",
    "            num_features *= s\n",
    "        return num_features\n",
    "    \n",
    "    def forward(self, x):\n",
    "        \"\"\"Implementation of FruiNet forward pass.\n",
    "        \n",
    "        :param x: Input Tensor.\n",
    "        :return: Processed Tensor.\"\"\"\n",
    "        x = self.conv(x)\n",
    "        x = x.view(-1, self.num_flat_features(x))\n",
    "        x = self.fc(x)\n",
    "        x = x.squeeze()\n",
    "        return x"
   ]
  },
  {
   "cell_type": "code",
   "execution_count": 16,
   "metadata": {},
   "outputs": [],
   "source": [
    "class FruitTrainer(object):\n",
    "    \"\"\"Class designed to train FruiNet.\n",
    "    \"\"\"\n",
    "    def __init__(self, train_data, train_loader, test_data, test_loader):\n",
    "        \"\"\"Basic constructor.\n",
    "        \n",
    "        :param train_data: ImageFolder object containing data for training.\n",
    "        :param train_loader: DataLoader object containing data for training.\n",
    "        :param test_data: ImageFolder object containing data for test.\n",
    "        :param test_loader: DataLoader object containing data for test.\n",
    "        :return: FruitTrainer object.\"\"\"\n",
    "        self.trainset = train_data\n",
    "        self.trainloader = train_loader\n",
    "        \n",
    "        self.testset = test_data\n",
    "        self.testloader = test_loader\n",
    "        \n",
    "    def assess(self, net, test=True, use_gpu=False, device=None):\n",
    "        \"\"\"Method for assessment of Neural Network.\n",
    "        \n",
    "        :param net: Network to assess.\n",
    "        :param test: Boolean: If True, assessment is done on test set, otherwise on train set.\n",
    "        :param use_gpu: Is training happening of gpu?\n",
    "        :param device: Device to use in case training is done on gpu.\n",
    "        :return: Prints evaluation on standard output.\"\"\" \n",
    "        correct = 0\n",
    "        total = 0\n",
    "        loader = self.testloader if test else self.trainloader\n",
    "        for data in loader:\n",
    "            images, labels = data\n",
    "            if device is not None and (device.__str__() != \"cpu\") and use_gpu:\n",
    "                images, labels = images.to(device), labels.to(device)\n",
    "            outputs = net(images)\n",
    "            _, predicted = torch.max(outputs.data, 1)\n",
    "            total += labels.size(0)\n",
    "            correct += (predicted == labels).sum().item()\n",
    "        \n",
    "        dataset_name = 'test' if test else 'train'\n",
    "        print('Accuracy of the network on {} {} images: {:2.4f} %'.format(\n",
    "            total, dataset_name, 100 * correct / total))         \n",
    "            \n",
    "    def train(self, config, n_epoch=5, use_gpu=False):\n",
    "        net = FruitNet(**config)\n",
    "        \n",
    "        if use_gpu:\n",
    "            device = torch.device(\"cuda:0\" if torch.cuda.is_available() else \"cpu\")\n",
    "            if device.__str__() != \"cpu\":\n",
    "                net.to(device)\n",
    "        \n",
    "        criterion = nn.CrossEntropyLoss()\n",
    "        optimizer = optim.Adam(net.parameters(), lr=0.0005, amsgrad=True)\n",
    "\n",
    "        for epoch in range(n_epoch):\n",
    "            running_loss = 0.0\n",
    "            t = time.time()\n",
    "            net.train()\n",
    "            \n",
    "            for i, data in enumerate(self.trainloader, 0):\n",
    "                inputs, labels = data\n",
    "                \n",
    "                if use_gpu:\n",
    "                    if(device.__str__() != \"cpu\"):\n",
    "                        inputs, labels = inputs.to(device), labels.to(device)\n",
    "                    \n",
    "                optimizer.zero_grad()\n",
    "                outputs = net(inputs)\n",
    "                loss = criterion(outputs, labels)\n",
    "                loss.backward()\n",
    "                optimizer.step()\n",
    "\n",
    "                running_loss += loss.item()\n",
    "                if i % 50 == 49:\n",
    "                    now = datetime.datetime.now()\n",
    "                    print('[%s , %d, %5d] Loss: %.4f' %\n",
    "                          (now.strftime('%Y-%m-%d %H:%M:%S'), epoch + 1, i + 1, running_loss / 100))\n",
    "                    print('[%s , %d, %5d] Elapsed time: %2.4f s' %\n",
    "                          (now.strftime('%Y-%m-%d %H:%M:%S'), epoch + 1, i + 1, time.time() - t))\n",
    "                    running_loss = 0.0\n",
    "                    t = time.time()\n",
    "            \n",
    "            net.eval()\n",
    "            with torch.no_grad():\n",
    "                if use_gpu:\n",
    "                    self.assess(net, use_gpu=True, device=device)\n",
    "                    self.assess(net, test=False, use_gpu=True, device=device)                \n",
    "                else:\n",
    "                    self.assess(net)\n",
    "                    self.assess(net, test=False)\n",
    "\n",
    "        return net\n"
   ]
  },
  {
   "cell_type": "markdown",
   "metadata": {},
   "source": [
    "# Train Neural Network "
   ]
  },
  {
   "cell_type": "code",
   "execution_count": 17,
   "metadata": {},
   "outputs": [],
   "source": [
    "transform = transforms.Compose([\n",
    "    transforms.ToTensor(),\n",
    "    transforms.Normalize((0.5, 0.5, 0.5), (0.5, 0.5, 0.5))\n",
    "])"
   ]
  },
  {
   "cell_type": "code",
   "execution_count": 18,
   "metadata": {},
   "outputs": [],
   "source": [
    "train_data = datasets.ImageFolder(os.path.normpath('/home/md359230/DeepLearning/assignment1/data/fruits-360/Training'),\n",
    "                                  transform=transform)\n",
    "train_loader = torch.utils.data.DataLoader(train_data,\n",
    "                                          batch_size=256,\n",
    "                                          shuffle=True,\n",
    "                                          num_workers=4)"
   ]
  },
  {
   "cell_type": "code",
   "execution_count": 19,
   "metadata": {},
   "outputs": [],
   "source": [
    "test_data = datasets.ImageFolder(os.path.normpath('/home/md359230/DeepLearning/assignment1/data/fruits-360/Test'),\n",
    "                                  transform=transform)\n",
    "test_loader = torch.utils.data.DataLoader(test_data,\n",
    "                                          batch_size=256,\n",
    "                                          shuffle=True,\n",
    "                                          num_workers=4)"
   ]
  },
  {
   "cell_type": "code",
   "execution_count": 21,
   "metadata": {},
   "outputs": [],
   "source": [
    "config = {\n",
    "    'conv_sizes': (3, 8, 16, 32, 64), \n",
    "    'kernel_sizes': (3, 3, 5, 5), \n",
    "    'linear_sizes': (256, 200, 150), \n",
    "    'n_classes': 95,\n",
    "    'batchnorm_module': 'custom',\n",
    "    'activation_function': 'lrelu'\n",
    "}"
   ]
  },
  {
   "cell_type": "code",
   "execution_count": 22,
   "metadata": {},
   "outputs": [
    {
     "name": "stdout",
     "output_type": "stream",
     "text": [
      "[2019-04-19 17:02:44 , 1,    50] Loss: 1.9458\n",
      "[2019-04-19 17:02:44 , 1,    50] Elapsed time: 8.4361 s\n",
      "[2019-04-19 17:02:54 , 1,   100] Loss: 1.4701\n",
      "[2019-04-19 17:02:54 , 1,   100] Elapsed time: 9.6549 s\n",
      "[2019-04-19 17:03:04 , 1,   150] Loss: 1.0471\n",
      "[2019-04-19 17:03:04 , 1,   150] Elapsed time: 9.7704 s\n",
      "Accuracy of the network on 16445 test images: 85.9775 %\n",
      "Accuracy of the network on 48905 train images: 90.2750 %\n",
      "[2019-04-19 17:03:45 , 2,    50] Loss: 0.4929\n",
      "[2019-04-19 17:03:45 , 2,    50] Elapsed time: 9.5438 s\n",
      "[2019-04-19 17:03:54 , 2,   100] Loss: 0.2935\n",
      "[2019-04-19 17:03:54 , 2,   100] Elapsed time: 8.6413 s\n",
      "[2019-04-19 17:04:03 , 2,   150] Loss: 0.1868\n",
      "[2019-04-19 17:04:03 , 2,   150] Elapsed time: 9.0265 s\n",
      "Accuracy of the network on 16445 test images: 96.0413 %\n",
      "Accuracy of the network on 48905 train images: 99.3007 %\n",
      "[2019-04-19 17:04:40 , 3,    50] Loss: 0.1039\n",
      "[2019-04-19 17:04:40 , 3,    50] Elapsed time: 9.1992 s\n",
      "[2019-04-19 17:04:49 , 3,   100] Loss: 0.0656\n",
      "[2019-04-19 17:04:49 , 3,   100] Elapsed time: 8.7073 s\n",
      "[2019-04-19 17:04:58 , 3,   150] Loss: 0.0474\n",
      "[2019-04-19 17:04:58 , 3,   150] Elapsed time: 9.3923 s\n",
      "Accuracy of the network on 16445 test images: 95.7495 %\n",
      "Accuracy of the network on 48905 train images: 99.7526 %\n",
      "[2019-04-19 17:05:39 , 4,    50] Loss: 0.0437\n",
      "[2019-04-19 17:05:39 , 4,    50] Elapsed time: 9.3679 s\n",
      "[2019-04-19 17:05:48 , 4,   100] Loss: 0.0251\n",
      "[2019-04-19 17:05:48 , 4,   100] Elapsed time: 8.6942 s\n",
      "[2019-04-19 17:05:56 , 4,   150] Loss: 0.0199\n",
      "[2019-04-19 17:05:56 , 4,   150] Elapsed time: 8.7339 s\n",
      "Accuracy of the network on 16445 test images: 96.5886 %\n",
      "Accuracy of the network on 48905 train images: 99.7935 %\n",
      "[2019-04-19 17:06:35 , 5,    50] Loss: 0.0334\n",
      "[2019-04-19 17:06:35 , 5,    50] Elapsed time: 9.3693 s\n",
      "[2019-04-19 17:06:44 , 5,   100] Loss: 0.0143\n",
      "[2019-04-19 17:06:44 , 5,   100] Elapsed time: 8.6975 s\n",
      "[2019-04-19 17:06:52 , 5,   150] Loss: 0.0116\n",
      "[2019-04-19 17:06:52 , 5,   150] Elapsed time: 8.5914 s\n",
      "Accuracy of the network on 16445 test images: 97.8413 %\n",
      "Accuracy of the network on 48905 train images: 99.9980 %\n",
      "[2019-04-19 17:07:30 , 6,    50] Loss: 0.0153\n",
      "[2019-04-19 17:07:30 , 6,    50] Elapsed time: 9.3631 s\n",
      "[2019-04-19 17:07:37 , 6,   100] Loss: 0.0084\n",
      "[2019-04-19 17:07:37 , 6,   100] Elapsed time: 7.1661 s\n",
      "[2019-04-19 17:07:43 , 6,   150] Loss: 0.0071\n",
      "[2019-04-19 17:07:43 , 6,   150] Elapsed time: 5.8006 s\n",
      "Accuracy of the network on 16445 test images: 98.1088 %\n",
      "Accuracy of the network on 48905 train images: 99.9980 %\n",
      "[2019-04-19 17:08:21 , 7,    50] Loss: 0.0095\n",
      "[2019-04-19 17:08:21 , 7,    50] Elapsed time: 9.6564 s\n",
      "[2019-04-19 17:08:31 , 7,   100] Loss: 0.0059\n",
      "[2019-04-19 17:08:31 , 7,   100] Elapsed time: 9.7139 s\n",
      "[2019-04-19 17:08:40 , 7,   150] Loss: 0.0050\n",
      "[2019-04-19 17:08:40 , 7,   150] Elapsed time: 8.9544 s\n",
      "Accuracy of the network on 16445 test images: 97.7987 %\n",
      "Accuracy of the network on 48905 train images: 99.9959 %\n",
      "[2019-04-19 17:09:19 , 8,    50] Loss: 0.0296\n",
      "[2019-04-19 17:09:19 , 8,    50] Elapsed time: 9.4720 s\n",
      "[2019-04-19 17:09:28 , 8,   100] Loss: 0.0068\n",
      "[2019-04-19 17:09:28 , 8,   100] Elapsed time: 8.6174 s\n",
      "[2019-04-19 17:09:37 , 8,   150] Loss: 0.0049\n",
      "[2019-04-19 17:09:37 , 8,   150] Elapsed time: 8.8937 s\n",
      "Accuracy of the network on 16445 test images: 90.3557 %\n",
      "Accuracy of the network on 48905 train images: 95.4279 %\n",
      "[2019-04-19 17:10:17 , 9,    50] Loss: 0.0406\n",
      "[2019-04-19 17:10:17 , 9,    50] Elapsed time: 8.8535 s\n",
      "[2019-04-19 17:10:24 , 9,   100] Loss: 0.0067\n",
      "[2019-04-19 17:10:24 , 9,   100] Elapsed time: 7.4999 s\n",
      "[2019-04-19 17:10:32 , 9,   150] Loss: 0.0047\n",
      "[2019-04-19 17:10:32 , 9,   150] Elapsed time: 7.9812 s\n",
      "Accuracy of the network on 16445 test images: 98.1453 %\n",
      "Accuracy of the network on 48905 train images: 99.9980 %\n",
      "[2019-04-19 17:11:10 , 10,    50] Loss: 0.0119\n",
      "[2019-04-19 17:11:10 , 10,    50] Elapsed time: 9.1844 s\n",
      "[2019-04-19 17:11:19 , 10,   100] Loss: 0.0041\n",
      "[2019-04-19 17:11:19 , 10,   100] Elapsed time: 8.5565 s\n",
      "[2019-04-19 17:11:27 , 10,   150] Loss: 0.0033\n",
      "[2019-04-19 17:11:27 , 10,   150] Elapsed time: 8.5759 s\n",
      "Accuracy of the network on 16445 test images: 96.7224 %\n",
      "Accuracy of the network on 48905 train images: 99.7056 %\n",
      "[2019-04-19 17:12:07 , 11,    50] Loss: 0.0218\n",
      "[2019-04-19 17:12:07 , 11,    50] Elapsed time: 9.6467 s\n",
      "[2019-04-19 17:12:16 , 11,   100] Loss: 0.0042\n",
      "[2019-04-19 17:12:16 , 11,   100] Elapsed time: 9.2085 s\n",
      "[2019-04-19 17:12:25 , 11,   150] Loss: 0.0033\n",
      "[2019-04-19 17:12:25 , 11,   150] Elapsed time: 8.9385 s\n",
      "Accuracy of the network on 16445 test images: 98.4068 %\n",
      "Accuracy of the network on 48905 train images: 100.0000 %\n",
      "[2019-04-19 17:13:03 , 12,    50] Loss: 0.0039\n",
      "[2019-04-19 17:13:03 , 12,    50] Elapsed time: 9.3584 s\n",
      "[2019-04-19 17:13:12 , 12,   100] Loss: 0.0023\n",
      "[2019-04-19 17:13:12 , 12,   100] Elapsed time: 9.0384 s\n",
      "[2019-04-19 17:13:21 , 12,   150] Loss: 0.0021\n",
      "[2019-04-19 17:13:21 , 12,   150] Elapsed time: 9.1056 s\n",
      "Accuracy of the network on 16445 test images: 98.2061 %\n",
      "Accuracy of the network on 48905 train images: 99.9652 %\n"
     ]
    }
   ],
   "source": [
    "trainer = FruitTrainer(train_data, train_loader, test_data, test_loader)\n",
    "model = trainer.train(config, n_epoch=12, use_gpu=True)"
   ]
  },
  {
   "cell_type": "code",
   "execution_count": 23,
   "metadata": {},
   "outputs": [],
   "source": [
    "model_path = os.path.join(os.getcwd(), 'model.pkl')\n",
    "pickle.dump(model, open(model_path, 'wb'))"
   ]
  },
  {
   "cell_type": "code",
   "execution_count": null,
   "metadata": {},
   "outputs": [],
   "source": [
    "#torch.save(model.state_dict(), \"model.pth\")\n",
    "#model.load_state_dict(torch.load(\"model.pth\"))"
   ]
  },
  {
   "cell_type": "markdown",
   "metadata": {},
   "source": [
    "# Load saved Neural Network"
   ]
  },
  {
   "cell_type": "code",
   "execution_count": 24,
   "metadata": {},
   "outputs": [],
   "source": [
    "model_loaded = pickle.load(open(model_path, 'rb'))"
   ]
  },
  {
   "cell_type": "code",
   "execution_count": 27,
   "metadata": {},
   "outputs": [
    {
     "name": "stdout",
     "output_type": "stream",
     "text": [
      "Accuracy of the network on 16445 test images: 98.2061 %\n"
     ]
    }
   ],
   "source": [
    "#torch.manual_seed(0)\n",
    "with torch.no_grad():\n",
    "    device = torch.device(\"cuda:0\")\n",
    "    model_loaded.to(device)\n",
    "    trainer.assess(model_loaded, test=True, use_gpu=True, device=device)"
   ]
  },
  {
   "cell_type": "markdown",
   "metadata": {},
   "source": [
    "# Visualize Neural Network"
   ]
  },
  {
   "cell_type": "code",
   "execution_count": 142,
   "metadata": {},
   "outputs": [],
   "source": [
    "class OcclusionVisualizer(object):\n",
    "    pass"
   ]
  },
  {
   "cell_type": "code",
   "execution_count": 7,
   "metadata": {},
   "outputs": [
    {
     "name": "stderr",
     "output_type": "stream",
     "text": [
      "Clipping input data to the valid range for imshow with RGB data ([0..1] for floats or [0..255] for integers).\n"
     ]
    },
    {
     "name": "stdout",
     "output_type": "stream",
     "text": [
      "torch.Size([128, 3, 100, 100])\n"
     ]
    },
    {
     "data": {
      "image/png": "[encoded data removed]",
      "text/plain": [
       "<Figure size 432x288 with 1 Axes>"
      ]
     },
     "metadata": {
      "needs_background": "light"
     },
     "output_type": "display_data"
    }
   ],
   "source": [
    "def fruitImShow(img):\n",
    "    npimg = img.numpy()\n",
    "    img = plt.imshow(npimg)\n",
    "    plt.axis('off')\n",
    "    plt.show()\n",
    "\n",
    "for i, images in enumerate(train_loader):\n",
    "    if i >= 0:\n",
    "        print(images[0].squeeze().size())\n",
    "        fruitImShow(np.transpose(images[0][0,:,:,:], [1, 2, 0]))\n",
    "        break"
   ]
  },
  {
   "cell_type": "code",
   "execution_count": 3,
   "metadata": {},
   "outputs": [
    {
     "ename": "NameError",
     "evalue": "name 'train_loader' is not defined",
     "output_type": "error",
     "traceback": [
      "\u001b[0;31m---------------------------------------------------------------------------\u001b[0m",
      "\u001b[0;31mNameError\u001b[0m                                 Traceback (most recent call last)",
      "\u001b[0;32m<ipython-input-3-59708a86c3cb>\u001b[0m in \u001b[0;36m<module>\u001b[0;34m\u001b[0m\n\u001b[0;32m----> 1\u001b[0;31m \u001b[0mexample\u001b[0m\u001b[0;34m,\u001b[0m \u001b[0mno\u001b[0m \u001b[0;34m=\u001b[0m \u001b[0mnext\u001b[0m\u001b[0;34m(\u001b[0m\u001b[0miter\u001b[0m\u001b[0;34m(\u001b[0m\u001b[0mtrain_loader\u001b[0m\u001b[0;34m)\u001b[0m\u001b[0;34m)\u001b[0m\u001b[0;34m\u001b[0m\u001b[0m\n\u001b[0m",
      "\u001b[0;31mNameError\u001b[0m: name 'train_loader' is not defined"
     ]
    }
   ],
   "source": [
    "example, no = next(iter(train_loader))"
   ]
  },
  {
   "cell_type": "code",
   "execution_count": 9,
   "metadata": {},
   "outputs": [
    {
     "data": {
      "text/plain": [
       "torch.Size([128, 3, 100, 100])"
      ]
     },
     "execution_count": 9,
     "metadata": {},
     "output_type": "execute_result"
    }
   ],
   "source": [
    "example.size()"
   ]
  },
  {
   "cell_type": "code",
   "execution_count": 10,
   "metadata": {},
   "outputs": [
    {
     "name": "stdout",
     "output_type": "stream",
     "text": [
      "torch.Size([128, 3, 100, 100])\n",
      "torch.Size([128, 8, 96, 96])\n",
      "torch.Size([128, 8, 48, 48])\n",
      "torch.Size([128, 16, 38, 38])\n",
      "torch.Size([4, 32, 23104])\n",
      "torch.Size([128, 16, 19, 19])\n"
     ]
    }
   ],
   "source": [
    "tmp = example\n",
    "print(tmp.size())\n",
    "tmp = nn.Conv2d(3, 8, 5)(tmp)\n",
    "print(tmp.size())\n",
    "tmp = nn.MaxPool2d((2,2))(tmp)\n",
    "print(tmp.size())\n",
    "tmp = nn.Conv2d(8, 16, 11)(tmp)\n",
    "print(tmp.size())\n",
    "print(tmp.view(4,-1, 16 * 38 * 38).size())\n",
    "tmp = nn.MaxPool2d(2,2)(tmp)\n",
    "print(tmp.size())"
   ]
  },
  {
   "cell_type": "markdown",
   "metadata": {},
   "source": [
    "# Testing zone: Keep away! You enter at your own risk. "
   ]
  },
  {
   "cell_type": "code",
   "execution_count": 31,
   "metadata": {},
   "outputs": [],
   "source": [
    "x = torch.tensor([[[[ 0.4801, -1.0264],\n",
    "          [-0.6684, -0.0054]],\n",
    "\n",
    "         [[-0.3160, -0.1503],\n",
    "          [-0.8476,  0.9424]],\n",
    "\n",
    "         [[-0.5158,  0.4040],\n",
    "          [ 1.5077, -0.5627]]],\n",
    "\n",
    "\n",
    "        [[[-1.1366,  0.7921],\n",
    "          [ 1.4411, -1.6859]],\n",
    "\n",
    "         [[-0.6283,  0.7755],\n",
    "          [ 0.7855,  0.6781]],\n",
    "\n",
    "         [[ 0.2961, -0.6014],\n",
    "          [ 0.8488, -2.1111]]]])"
   ]
  },
  {
   "cell_type": "code",
   "execution_count": 32,
   "metadata": {},
   "outputs": [
    {
     "data": {
      "text/plain": [
       "tensor([[[[ 0.6993, -0.7923],\n",
       "          [-0.4379,  0.2186]],\n",
       "\n",
       "         [[-0.7010, -0.4543],\n",
       "          [-1.4924,  1.1723]],\n",
       "\n",
       "         [[-0.4095,  0.4788],\n",
       "          [ 1.5446, -0.4547]]],\n",
       "\n",
       "\n",
       "        [[[-0.9015,  1.0082],\n",
       "          [ 1.6508, -1.4453]],\n",
       "\n",
       "         [[-1.1659,  0.9238],\n",
       "          [ 0.9387,  0.7788]],\n",
       "\n",
       "         [[ 0.3746, -0.4921],\n",
       "          [ 0.9083, -1.9500]]]])"
      ]
     },
     "execution_count": 32,
     "metadata": {},
     "output_type": "execute_result"
    }
   ],
   "source": [
    "mbn = MyBatchNormalization2d(2)\n",
    "mbn.forward(x)"
   ]
  },
  {
   "cell_type": "code",
   "execution_count": 133,
   "metadata": {},
   "outputs": [
    {
     "name": "stdout",
     "output_type": "stream",
     "text": [
      "input\n",
      "tensor([[ 0.3534,  1.3480,  1.0362],\n",
      "        [-1.6341, -0.5642, -0.9382],\n",
      "        [-0.4853, -0.3669, -0.1098],\n",
      "        [-1.4520, -0.1399,  0.0106],\n",
      "        [ 1.3992, -0.1157, -0.3049],\n",
      "        [ 0.0403, -0.1023,  0.0091],\n",
      "        [ 0.7643,  0.0948,  1.3555],\n",
      "        [ 1.7898,  0.9649, -1.7940]])\n"
     ]
    },
    {
     "data": {
      "text/plain": [
       "tensor([[ 0.0466,  0.3784,  0.5910],\n",
       "        [-0.3145, -0.2205, -0.4434],\n",
       "        [-0.1058, -0.1587, -0.0094],\n",
       "        [-0.2814, -0.0876,  0.0537],\n",
       "        [ 0.2366, -0.0800, -0.1116],\n",
       "        [-0.0103, -0.0758,  0.0529],\n",
       "        [ 0.1212, -0.0141,  0.7583],\n",
       "        [ 0.3075,  0.2584, -0.8917]], grad_fn=<AddBackward0>)"
      ]
     },
     "execution_count": 133,
     "metadata": {},
     "output_type": "execute_result"
    }
   ],
   "source": [
    "x = torch.Tensor([[ 0.3534,  1.3480,  1.0362],\n",
    "        [-1.6341, -0.5642, -0.9382],\n",
    "        [-0.4853, -0.3669, -0.1098],\n",
    "        [-1.4520, -0.1399,  0.0106],\n",
    "        [ 1.3992, -0.1157, -0.3049],\n",
    "        [ 0.0403, -0.1023,  0.0091],\n",
    "        [ 0.7643,  0.0948,  1.3555],\n",
    "        [ 1.7898,  0.9649, -1.7940]])\n",
    "print('input')\n",
    "print(x)\n",
    "\n",
    "mbn1d = MyBatchNormalization1d(3)\n",
    "mbn1d.forward(x)"
   ]
  },
  {
   "cell_type": "code",
   "execution_count": 447,
   "metadata": {},
   "outputs": [
    {
     "data": {
      "text/plain": [
       "'cuda:0'"
      ]
     },
     "execution_count": 447,
     "metadata": {},
     "output_type": "execute_result"
    }
   ],
   "source": [
    "torch.device(\"cuda:0\" if torch.cuda.is_available() else \"cpu\").__str__()"
   ]
  },
  {
   "cell_type": "code",
   "execution_count": 92,
   "metadata": {},
   "outputs": [
    {
     "name": "stdout",
     "output_type": "stream",
     "text": [
      "tensor([[1., 0., 0., 0.],\n",
      "        [0., 1., 0., 0.],\n",
      "        [0., 0., 1., 0.],\n",
      "        [0., 0., 0., 1.]])\n",
      "tensor([[ 0.0000, -0.7406, -1.3640,  0.5907],\n",
      "        [ 0.3773,  0.0000, -1.7041, -0.8587],\n",
      "        [-0.7173,  0.0738,  0.0000,  0.3572],\n",
      "        [-1.3948, -1.5232, -0.4627,  0.0000]])\n",
      "tensor([[-0.6915, -0.7406, -1.3640,  0.5907],\n",
      "        [ 0.3773, -0.7853, -1.7041, -0.8587],\n",
      "        [-0.7173,  0.0738, -2.1117,  0.3572],\n",
      "        [-1.3948, -1.5232, -0.4627, -2.2673]])\n",
      "tensor([-0.6915, -0.7853, -2.1117, -2.2673])\n"
     ]
    }
   ],
   "source": [
    "x = torch.randn(4,4)\n",
    "mask = torch.diag(torch.ones(4))\n",
    "out = mask * torch.diag(torch.zeros(4)) + (1. - mask) * x\n",
    "print(mask)\n",
    "print(out)\n",
    "print(x)\n",
    "print(torch.diag(x))"
   ]
  },
  {
   "cell_type": "code",
   "execution_count": 390,
   "metadata": {},
   "outputs": [
    {
     "data": {
      "text/plain": [
       "[(1, 2, -1), (2, 3, -2), (3, 4, -3)]"
      ]
     },
     "execution_count": 390,
     "metadata": {},
     "output_type": "execute_result"
    }
   ],
   "source": [
    "a = (1,2,3,4)\n",
    "b = (-1,-2,-3)\n",
    "list(zip(a, a[1:], b))"
   ]
  },
  {
   "cell_type": "code",
   "execution_count": 11,
   "metadata": {},
   "outputs": [
    {
     "name": "stdout",
     "output_type": "stream",
     "text": [
      "49191\n"
     ]
    }
   ],
   "source": [
    "! ls -R /home/md359230/DeepLearning/assignment1/data/fruits-360/Training/ | wc -l"
   ]
  },
  {
   "cell_type": "code",
   "execution_count": 12,
   "metadata": {},
   "outputs": [
    {
     "name": "stdout",
     "output_type": "stream",
     "text": [
      "16707\n"
     ]
    }
   ],
   "source": [
    "! ls -R /home/md359230/DeepLearning/assignment1/data/fruits-360/Test/ | wc -l"
   ]
  }
 ],
 "metadata": {
  "kernelspec": {
   "display_name": "Python 3",
   "language": "python",
   "name": "python3"
  },
  "language_info": {
   "codemirror_mode": {
    "name": "ipython",
    "version": 3
   },
   "file_extension": ".py",
   "mimetype": "text/x-python",
   "name": "python",
   "nbconvert_exporter": "python",
   "pygments_lexer": "ipython3",
   "version": "3.5.2"
  }
 },
 "nbformat": 4,
 "nbformat_minor": 2
}
