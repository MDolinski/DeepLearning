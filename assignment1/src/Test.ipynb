{
 "cells": [
  {
   "cell_type": "markdown",
   "metadata": {},
   "source": [
    "# Preparation "
   ]
  },
  {
   "cell_type": "code",
   "execution_count": 149,
   "metadata": {},
   "outputs": [],
   "source": [
    "import os\n",
    "import glob\n",
    "import time\n",
    "import datetime\n",
    "import matplotlib.pyplot as plt\n",
    "import numpy as np\n",
    "import pickle"
   ]
  },
  {
   "cell_type": "code",
   "execution_count": 3,
   "metadata": {},
   "outputs": [],
   "source": [
    "import torch\n",
    "import torch.nn as nn\n",
    "import torch.nn.functional as F\n",
    "import torch.optim as optim\n",
    "import torch.nn.init as init\n",
    "import torch.nn.parameter as P\n",
    "import torchvision\n",
    "from torchvision import transforms, datasets"
   ]
  },
  {
   "cell_type": "code",
   "execution_count": 8,
   "metadata": {},
   "outputs": [],
   "source": [
    "example, no = next(iter(train_loader))"
   ]
  },
  {
   "cell_type": "code",
   "execution_count": 9,
   "metadata": {},
   "outputs": [
    {
     "data": {
      "text/plain": [
       "torch.Size([128, 3, 100, 100])"
      ]
     },
     "execution_count": 9,
     "metadata": {},
     "output_type": "execute_result"
    }
   ],
   "source": [
    "example.size()"
   ]
  },
  {
   "cell_type": "code",
   "execution_count": 10,
   "metadata": {},
   "outputs": [
    {
     "name": "stdout",
     "output_type": "stream",
     "text": [
      "torch.Size([128, 3, 100, 100])\n",
      "torch.Size([128, 8, 96, 96])\n",
      "torch.Size([128, 8, 48, 48])\n",
      "torch.Size([128, 16, 38, 38])\n",
      "torch.Size([4, 32, 23104])\n",
      "torch.Size([128, 16, 19, 19])\n"
     ]
    }
   ],
   "source": [
    "tmp = example\n",
    "print(tmp.size())\n",
    "tmp = nn.Conv2d(3, 8, 5)(tmp)\n",
    "print(tmp.size())\n",
    "tmp = nn.MaxPool2d((2,2))(tmp)\n",
    "print(tmp.size())\n",
    "tmp = nn.Conv2d(8, 16, 11)(tmp)\n",
    "print(tmp.size())\n",
    "print(tmp.view(4,-1, 16 * 38 * 38).size())\n",
    "tmp = nn.MaxPool2d(2,2)(tmp)\n",
    "print(tmp.size())"
   ]
  },
  {
   "cell_type": "code",
   "execution_count": 11,
   "metadata": {},
   "outputs": [
    {
     "name": "stdout",
     "output_type": "stream",
     "text": [
      "49191\n"
     ]
    }
   ],
   "source": [
    "! ls -R /home/md359230/DeepLearning/assignment1/data/fruits-360/Training/ | wc -l"
   ]
  },
  {
   "cell_type": "code",
   "execution_count": 12,
   "metadata": {},
   "outputs": [
    {
     "name": "stdout",
     "output_type": "stream",
     "text": [
      "16707\n"
     ]
    }
   ],
   "source": [
    "! ls -R /home/md359230/DeepLearning/assignment1/data/fruits-360/Test/ | wc -l"
   ]
  },
  {
   "cell_type": "markdown",
   "metadata": {},
   "source": [
    "# Define Neural Network"
   ]
  },
  {
   "cell_type": "markdown",
   "metadata": {},
   "source": [
    "## Building blocks of the architecture "
   ]
  },
  {
   "cell_type": "code",
   "execution_count": 31,
   "metadata": {},
   "outputs": [],
   "source": [
    "class MyBatchNormalization2d(nn.Module):\n",
    "    \"\"\"Class containing custom implementation of batch normalization.\n",
    "    \"\"\"\n",
    "    def __init__(self, size, epsilon=1e-5):\n",
    "        \"\"\"Derived constructor.\n",
    "        \n",
    "        :param size: Number of channels in input tensor.\n",
    "        :param epsilon: Number to add to standard deviation to aviod zeros.\n",
    "        :return: MyBatchNormalization2d object.\"\"\"\n",
    "        super(MyBatchNormalization2d, self).__init__()\n",
    "        self.register_buffer('epsilon', torch.Tensor([epsilon]))\n",
    "        self.shift = P.Parameter(torch.Tensor(size))\n",
    "        self.scale = P.Parameter(torch.Tensor(size))\n",
    "        init.zeros_(self.shift)\n",
    "        init.uniform_(self.scale)\n",
    "        \n",
    "    def forward(self, x):\n",
    "        \"\"\"Method implementing batch normalization logic.\n",
    "        \n",
    "        :param x: Input tensor of shape (N x C x W x H).\n",
    "        :return: Batch normalized x.\"\"\"\n",
    "        # Compute means and stds per channel\n",
    "        batch_size, channels, width, height = x.size()\n",
    "        \n",
    "        x_agg = x.permute((1, 0, 2, 3))\\\n",
    "                 .contiguous()\\\n",
    "                 .view(-1, batch_size * width * height)\n",
    "        \n",
    "        stds = torch.std(x_agg, \n",
    "                         dim=1, \n",
    "                         unbiased=False)\n",
    "        means = torch.mean(x_agg, \n",
    "                           dim=1)\n",
    "        \n",
    "        # Scale input to have 0 mean and unit variance (remeber about epsilon!)\n",
    "        tensor_mean = x.new_ones(width, height)\n",
    "        tensor_std = torch.diag(x.new_ones(height)) \n",
    "        \n",
    "        tensor_means = torch.stack([tensor_mean * means[i] for i in range(channels)])\n",
    "        tensor_stds = torch.stack([tensor_std * (1 / (stds[i] + self.epsilon)) for i in range(channels)])\n",
    "        x = torch.matmul((x - tensor_means), tensor_stds)\n",
    "        \n",
    "        # Scale input using parameters\n",
    "        tensor_shift = torch.stack([tensor_mean * self.shift[i] for i in range(channels)])\n",
    "        tensor_scale = torch.stack([tensor_std * self.scale[i] for i in range(channels)])\n",
    "        x = torch.matmul(x, tensor_scale) + tensor_shift\n",
    "        \n",
    "        # Return the result\n",
    "        return x"
   ]
  },
  {
   "cell_type": "code",
   "execution_count": 32,
   "metadata": {},
   "outputs": [],
   "source": [
    "class MyBatchNormalization1d(nn.Module):\n",
    "    def __init__(self, size, epsilon=1e-5):\n",
    "        \"\"\"Derived constructor.\n",
    "        \n",
    "        :param size: Number of linear features in input tensor.\n",
    "        :param epsilon: Number to add to standard deviation to aviod zeros.\n",
    "        :return: MyBatchNormalization2d object.\"\"\"\n",
    "        super(MyBatchNormalization1d, self).__init__()\n",
    "        self.register_buffer('epsilon', torch.Tensor([epsilon]))\n",
    "        self.shift = P.Parameter(torch.Tensor(size))\n",
    "        self.scale = P.Parameter(torch.Tensor(size))\n",
    "        init.zeros_(self.shift)\n",
    "        init.uniform_(self.scale)\n",
    "        \n",
    "    def forward(self, x):\n",
    "        \"\"\"Method implementing batch normalization logic.\n",
    "        \n",
    "        :param x: Input tensor of shape (N x L).\n",
    "        :return: Batch normalized x.\"\"\"\n",
    "        # Compute means and stds per batch\n",
    "        batch_size, features_size = x.size()\n",
    "        \n",
    "        stds = torch.std(x, \n",
    "                         dim=0, \n",
    "                         unbiased=False)\n",
    "        means = torch.mean(x, \n",
    "                           dim=0)\n",
    "        #print('means')\n",
    "        #print(means)\n",
    "        #print('stds')\n",
    "        #print(stds)\n",
    "\n",
    "        # Scale input to have 0 mean and unit variance (remeber about epsilon!)\n",
    "        tensor_means = torch.stack([means for _ in range(batch_size)])\n",
    "        tensor_stds = torch.diag(1 / (stds + self.epsilon))\n",
    "        \n",
    "        #print(tensor_means)\n",
    "        #print(tensor_stds)\n",
    "        x = torch.matmul((x - tensor_means), tensor_stds)\n",
    "        \n",
    "        # Scale input using parameters\n",
    "        tensor_shift = torch.stack([self.shift for _ in range(batch_size)])\n",
    "        tensor_scale = torch.diag(self.scale)\n",
    "        \n",
    "        #print(tensor_shift)\n",
    "        #print(tensor_scale)\n",
    "        x = torch.matmul(x, tensor_scale) + tensor_shift\n",
    "        \n",
    "        # Return the result\n",
    "        return x"
   ]
  },
  {
   "cell_type": "code",
   "execution_count": 33,
   "metadata": {},
   "outputs": [],
   "source": [
    "def convolutional_layer(in_channels, \n",
    "                        out_channels,\n",
    "                        kernel_size,\n",
    "                        batchnorm_module='default', \n",
    "                        activation_function='relu', \n",
    "                        *args, \n",
    "                        **kwargs): \n",
    "    \"\"\"Function for flexible construction of convolutional layers for the network.\n",
    "    \n",
    "    :param in_channels: Number of input channels.\n",
    "    :param out_channels: Number of channels produced by the output.\n",
    "    :param kernel_size: Kernel size for convolutional layer.\n",
    "    :param batchnorm_module: Must be in ('default', 'custom'). Should Pytorch's or own BN \n",
    "    normalization be used?\n",
    "    :param activation_function: Currently unused.\n",
    "    :param *args: Additional arguments to pass to convolutional layer.\n",
    "    :param **kwargs: Additional keyword arguments to pass to convolutional layer.\n",
    "    :return: Layer consisting of convolution, batch normalization and max pooling.\"\"\"\n",
    "    batchnorm_modules = nn.ModuleDict([\n",
    "        ['default', nn.BatchNorm2d(out_channels)],\n",
    "        ['custom', MyBatchNormalization2d(out_channels)]\n",
    "    ])\n",
    "    \n",
    "    return nn.Sequential(\n",
    "        nn.Conv2d(in_channels, out_channels, kernel_size, *args, **kwargs),\n",
    "        batchnorm_modules[batchnorm_module],\n",
    "        nn.MaxPool2d((2,2))\n",
    "    )"
   ]
  },
  {
   "cell_type": "code",
   "execution_count": 34,
   "metadata": {},
   "outputs": [],
   "source": [
    "def linear_layer(in_features, \n",
    "                 out_feautres, \n",
    "                 batchnorm_module='default',\n",
    "                 activation_function='relu', \n",
    "                 *args, \n",
    "                 **kwargs):\n",
    "    \"\"\"Function for flexible construction of full-connected layers for the network.\n",
    "    \n",
    "    :param in_features: Size of input layer.\n",
    "    :param out_features: Size of output layer.\n",
    "    :param batchnorm_module: Must be in ('default', 'custom'). Should Pytorch's or own BN \n",
    "    normalization be used?\n",
    "    :param activation_fuction: Must be in ('relu', 'lrelu', 'sigmoid'). Which activation\n",
    "    function should be used?\n",
    "    :param *args: Additional arguments to pass to full-connected layer.\n",
    "    :param **kwargs: Additional keyword arguments to pass to full-connected layer.\n",
    "    :return: Layer consisting of full-connected module, batch normalization and activation function.\"\"\"\n",
    "    batchnorm_modules = nn.ModuleDict([\n",
    "        ['default', nn.BatchNorm1d(out_feautres)],\n",
    "        ['custom', MyBatchNormalization1d(out_feautres)]\n",
    "    ])\n",
    "    \n",
    "    activation_functions = nn.ModuleDict([\n",
    "        ['lrelu', nn.LeakyReLU()],\n",
    "        ['relu', nn.ReLU()],\n",
    "        ['sigmoid', nn.Sigmoid()]\n",
    "    ])\n",
    "\n",
    "    return nn.Sequential(\n",
    "        nn.Linear(in_features, out_feautres, *args, **kwargs),\n",
    "        batchnorm_modules[batchnorm_module],\n",
    "        activation_functions[activation_function]\n",
    "    )"
   ]
  },
  {
   "cell_type": "code",
   "execution_count": 35,
   "metadata": {},
   "outputs": [],
   "source": [
    "class ConvolutionalStack(nn.Module):\n",
    "    \"\"\"Class containing implementation of standard convolutional stack.\n",
    "    \"\"\"\n",
    "    def __init__(self, sizes, kernel_sizes, *args, **kwargs):\n",
    "        \"\"\"Derived constructor.\n",
    "        \n",
    "        :param sizes: iterable with sizes of subsequent convolutional_layers.\n",
    "        :param kernel_sizes: iterable with sizer of kernels used in subsequent\n",
    "        convolutional layers.\n",
    "        :param *args: Additional arguments to pass to convolutional layer.\n",
    "        :param **kwargs: Additional keyword arguments to pass to convolutional layer.\n",
    "        :return: ConvolutionalStack object.\"\"\"\n",
    "        super(ConvolutionalStack, self).__init__()\n",
    "        self.convolutional_layers = nn.ModuleList([convolutional_layer(in_size, out_size, ker_size, *args, **kwargs)\n",
    "                                                   for in_size, out_size, ker_size in zip(sizes, sizes[1:], kernel_sizes)])\n",
    "    def forward(self, x):\n",
    "        \"\"\"Method implemention convolutional stack forward pass.\n",
    "        :param x: Input tensor.\n",
    "        :return: Processed tensor.\"\"\"\n",
    "        for convolutional_layer in self.convolutional_layers:\n",
    "            x = convolutional_layer(x)\n",
    "        return x"
   ]
  },
  {
   "cell_type": "code",
   "execution_count": 36,
   "metadata": {},
   "outputs": [],
   "source": [
    "class LinearStack(nn.Module):\n",
    "    \"\"\"Class containing implementation of standard linear stack.\n",
    "    \"\"\"\n",
    "    def __init__(self, sizes, n_classes, *args, **kwargs):\n",
    "        \"\"\"Derived constructor.\n",
    "        \n",
    "        :param sizes: iterable with sizes of subsequent linear_layers.\n",
    "        :param *args: Additional arguments to pass to linear layer.\n",
    "        :param **kwargs: Additional keyword arguments to pass to linear layer.\n",
    "        :return: LinearStack object.\"\"\"\n",
    "        super(LinearStack, self).__init__()\n",
    "        self.linear_layers = nn.ModuleList([linear_layer(in_size, out_size, *args, **kwargs)\n",
    "                                                   for in_size, out_size in zip(sizes, sizes[1:])])\n",
    "        self.linear_layers.append(nn.Linear(sizes[-1], n_classes))\n",
    "        \n",
    "    def forward(self, x):\n",
    "        \"\"\"Method implemention linear stack forward pass.\n",
    "        :param x: Input tensor.\n",
    "        :return: Processed tensor.\"\"\"\n",
    "        for linear_layer in self.linear_layers:\n",
    "            x = linear_layer(x)\n",
    "        return x"
   ]
  },
  {
   "cell_type": "markdown",
   "metadata": {},
   "source": [
    "## Network and trainer"
   ]
  },
  {
   "cell_type": "code",
   "execution_count": 37,
   "metadata": {},
   "outputs": [],
   "source": [
    "class FruitNet(nn.Module):\n",
    "    \"\"\"Class containing architecture of FruitNet.\n",
    "    \"\"\"\n",
    "    def __init__(self, conv_sizes, kernel_sizes, linear_sizes, n_classes, *args, **kwargs):\n",
    "        \"\"\"Derived contructor.\n",
    "        \n",
    "        :param con_sizes: Number of channels in subsequent convolutional blocks.\n",
    "        :param kernel_sizes: Kernel sizes in subsequent convolutional bocks.\n",
    "        :param linear_sizes: Size of subsequent hidden layers.\n",
    "        :param n_classes: Size of output layer.\n",
    "        :param *args: Additional arguments to pass to network blocks.\n",
    "        :param **kwargs: Additional keyword arguments to pass to network blocks.\n",
    "        :return: FruitNet object\"\"\"\n",
    "        super(FruitNet, self).__init__()\n",
    "        self.conv = ConvolutionalStack(conv_sizes, kernel_sizes, *args, **kwargs)\n",
    "        self.fc = LinearStack(linear_sizes, n_classes, *args, **kwargs)\n",
    "\n",
    "    def num_flat_features(self, x):\n",
    "        \"\"\"Utility method to compute size Tensor per batch instance.\n",
    "        \n",
    "        :param x: Input tensor.\n",
    "        :return: Size of Tensor per batch instance.\"\"\"\n",
    "        size = x.size()[1:] \n",
    "        num_features = 1\n",
    "        for s in size:\n",
    "            num_features *= s\n",
    "        return num_features\n",
    "    \n",
    "    def forward(self, x):\n",
    "        \"\"\"Implementation of FruiNet forward pass.\n",
    "        \n",
    "        :param x: Input Tensor.\n",
    "        :return: Processed Tensor.\"\"\"\n",
    "        x = self.conv(x)\n",
    "        x = x.view(-1, self.num_flat_features(x))\n",
    "        x = self.fc(x)\n",
    "        x = x.squeeze()\n",
    "        return x"
   ]
  },
  {
   "cell_type": "code",
   "execution_count": 143,
   "metadata": {},
   "outputs": [],
   "source": [
    "class FruitTrainer(object):\n",
    "    \"\"\"Class designed to train FruiNet.\n",
    "    \"\"\"\n",
    "    def __init__(self, train_data, train_loader, test_data, test_loader):\n",
    "        \"\"\"Basic constructor.\n",
    "        \n",
    "        :param train_data: ImageFolder object containing data for training.\n",
    "        :param train_loader: DataLoader object containing data for training.\n",
    "        :param test_data: ImageFolder object containing data for test.\n",
    "        :param test_loader: DataLoader object containing data for test.\n",
    "        :return: FruitTrainer object.\"\"\"\n",
    "        self.trainset = train_data\n",
    "        self.trainloader = train_loader\n",
    "        \n",
    "        self.testset = test_data\n",
    "        self.testloader = test_loader\n",
    "        \n",
    "    def assess(self, net, test=True, use_gpu=False, device=None):\n",
    "        \"\"\"Method for assessment of Neural Network.\n",
    "        \n",
    "        :param net: Network to assess.\n",
    "        :param test: Boolean: If True, assessment is done on test set, otherwise on train set.\n",
    "        :param use_gpu: Is training happening of gpu?\n",
    "        :param device: Device to use in case training is done on gpu.\n",
    "        :return: Prints evaluation on standard output.\"\"\" \n",
    "        correct = 0\n",
    "        total = 0\n",
    "        loader = self.testloader if test else self.trainloader\n",
    "        for data in loader:\n",
    "            images, labels = data\n",
    "            if device is not None and (device.__str__() != \"cpu\") and use_gpu:\n",
    "                images, labels = images.to(device), labels.to(device)\n",
    "            outputs = net(images)\n",
    "            _, predicted = torch.max(outputs.data, 1)\n",
    "            total += labels.size(0)\n",
    "            correct += (predicted == labels).sum().item()\n",
    "        \n",
    "        dataset_name = 'test' if test else 'train'\n",
    "        print('Accuracy of the network on {} {} images: {:2.4f} %'.format(\n",
    "            total, dataset_name, 100 * correct / total))         \n",
    "            \n",
    "    def train(self, config, n_epoch=5, use_gpu=False):\n",
    "        net = FruitNet(**config)\n",
    "        \n",
    "        if use_gpu:\n",
    "            device = torch.device(\"cuda:0\" if torch.cuda.is_available() else \"cpu\")\n",
    "            if device.__str__() != \"cpu\":\n",
    "                net.to(device)\n",
    "        \n",
    "        criterion = nn.CrossEntropyLoss()\n",
    "        optimizer = optim.Adam(net.parameters(), lr=0.00015, amsgrad=True)\n",
    "\n",
    "        for epoch in range(n_epoch):\n",
    "            running_loss = 0.0\n",
    "            t = time.time()\n",
    "            for i, data in enumerate(self.trainloader, 0):\n",
    "                inputs, labels = data\n",
    "                \n",
    "                if use_gpu:\n",
    "                    if(device.__str__() != \"cpu\"):\n",
    "                        inputs, labels = inputs.to(device), labels.to(device)\n",
    "                    \n",
    "                optimizer.zero_grad()\n",
    "                outputs = net(inputs)\n",
    "                loss = criterion(outputs, labels)\n",
    "                loss.backward()\n",
    "                optimizer.step()\n",
    "\n",
    "                running_loss += loss.item()\n",
    "                if i % 50 == 49:\n",
    "                    now = datetime.datetime.now()\n",
    "                    print('[%s , %d, %5d] Loss: %.4f' %\n",
    "                          (now.strftime('%Y-%m-%d %H:%M:%S'), epoch + 1, i + 1, running_loss / 100))\n",
    "                    print('[%s , %d, %5d] Elapsed time: %2.4f s' %\n",
    "                          (now.strftime('%Y-%m-%d %H:%M:%S'), epoch + 1, i + 1, time.time() - t))\n",
    "                    running_loss = 0.0\n",
    "                    t = time.time()\n",
    "            \n",
    "            if use_gpu:\n",
    "                self.assess(net, use_gpu=True, device=device)\n",
    "                self.assess(net, test=False, use_gpu=True, device=device)                \n",
    "            else:\n",
    "                self.assess(net)\n",
    "                self.assess(net, test=False)\n",
    "        \n",
    "        return net\n"
   ]
  },
  {
   "cell_type": "markdown",
   "metadata": {},
   "source": [
    "# Train Neural Network "
   ]
  },
  {
   "cell_type": "code",
   "execution_count": 144,
   "metadata": {},
   "outputs": [],
   "source": [
    "transform = transforms.Compose([\n",
    "    transforms.ToTensor(),\n",
    "    transforms.Normalize((0.5, 0.5, 0.5), (0.5, 0.5, 0.5))\n",
    "])"
   ]
  },
  {
   "cell_type": "code",
   "execution_count": 145,
   "metadata": {},
   "outputs": [],
   "source": [
    "train_data = datasets.ImageFolder(os.path.normpath('/home/md359230/DeepLearning/assignment1/data/fruits-360/Training'),\n",
    "                                  transform=transform)\n",
    "train_loader = torch.utils.data.DataLoader(train_data,\n",
    "                                          batch_size=256,\n",
    "                                          shuffle=True,\n",
    "                                          num_workers=4)"
   ]
  },
  {
   "cell_type": "code",
   "execution_count": 146,
   "metadata": {},
   "outputs": [],
   "source": [
    "test_data = datasets.ImageFolder(os.path.normpath('/home/md359230/DeepLearning/assignment1/data/fruits-360/Test'),\n",
    "                                  transform=transform)\n",
    "test_loader = torch.utils.data.DataLoader(test_data,\n",
    "                                          batch_size=256,\n",
    "                                          shuffle=True,\n",
    "                                          num_workers=4)"
   ]
  },
  {
   "cell_type": "code",
   "execution_count": 147,
   "metadata": {},
   "outputs": [],
   "source": [
    "config = {\n",
    "    'conv_sizes': (3, 8, 16, 32, 64), \n",
    "    'kernel_sizes': (3, 3, 5, 5), \n",
    "    'linear_sizes': (256, 200, 150), \n",
    "    'n_classes': 95,\n",
    "    'batchnorm_module': 'custom',\n",
    "    'activation_function': 'relu'\n",
    "}"
   ]
  },
  {
   "cell_type": "code",
   "execution_count": 148,
   "metadata": {},
   "outputs": [
    {
     "name": "stdout",
     "output_type": "stream",
     "text": [
      "[2019-04-19 13:56:36 , 1,    50] Loss: 2.1089\n",
      "[2019-04-19 13:56:36 , 1,    50] Elapsed time: 9.0704 s\n",
      "[2019-04-19 13:56:44 , 1,   100] Loss: 1.8926\n",
      "[2019-04-19 13:56:44 , 1,   100] Elapsed time: 8.0945 s\n",
      "[2019-04-19 13:56:52 , 1,   150] Loss: 1.7265\n",
      "[2019-04-19 13:56:52 , 1,   150] Elapsed time: 7.8193 s\n",
      "Accuracy of the network on 16445 test images: 72.2104 %\n",
      "Accuracy of the network on 48905 train images: 74.8799 %\n",
      "[2019-04-19 13:57:30 , 2,    50] Loss: 1.4543\n",
      "[2019-04-19 13:57:30 , 2,    50] Elapsed time: 8.7154 s\n",
      "[2019-04-19 13:57:38 , 2,   100] Loss: 1.3096\n",
      "[2019-04-19 13:57:38 , 2,   100] Elapsed time: 8.2009 s\n",
      "[2019-04-19 13:57:46 , 2,   150] Loss: 1.1763\n",
      "[2019-04-19 13:57:46 , 2,   150] Elapsed time: 7.8041 s\n",
      "Accuracy of the network on 16445 test images: 84.5303 %\n",
      "Accuracy of the network on 48905 train images: 88.0973 %\n",
      "[2019-04-19 13:58:26 , 3,    50] Loss: 0.9507\n",
      "[2019-04-19 13:58:26 , 3,    50] Elapsed time: 12.1332 s\n",
      "[2019-04-19 13:58:38 , 3,   100] Loss: 0.8287\n",
      "[2019-04-19 13:58:38 , 3,   100] Elapsed time: 11.3393 s\n",
      "[2019-04-19 13:58:49 , 3,   150] Loss: 0.7205\n",
      "[2019-04-19 13:58:49 , 3,   150] Elapsed time: 11.5065 s\n",
      "Accuracy of the network on 16445 test images: 90.4105 %\n",
      "Accuracy of the network on 48905 train images: 94.9760 %\n",
      "[2019-04-19 13:59:29 , 4,    50] Loss: 0.5591\n",
      "[2019-04-19 13:59:29 , 4,    50] Elapsed time: 8.5069 s\n",
      "[2019-04-19 13:59:37 , 4,   100] Loss: 0.4824\n",
      "[2019-04-19 13:59:37 , 4,   100] Elapsed time: 7.8012 s\n",
      "[2019-04-19 13:59:44 , 4,   150] Loss: 0.4167\n",
      "[2019-04-19 13:59:44 , 4,   150] Elapsed time: 7.8292 s\n",
      "Accuracy of the network on 16445 test images: 93.1225 %\n",
      "Accuracy of the network on 48905 train images: 97.3663 %\n",
      "[2019-04-19 14:00:22 , 5,    50] Loss: 0.3219\n",
      "[2019-04-19 14:00:22 , 5,    50] Elapsed time: 8.7219 s\n",
      "[2019-04-19 14:00:29 , 5,   100] Loss: 0.2707\n",
      "[2019-04-19 14:00:29 , 5,   100] Elapsed time: 7.4414 s\n",
      "[2019-04-19 14:00:38 , 5,   150] Loss: 0.2387\n",
      "[2019-04-19 14:00:38 , 5,   150] Elapsed time: 8.8170 s\n",
      "Accuracy of the network on 16445 test images: 94.9833 %\n",
      "Accuracy of the network on 48905 train images: 99.0185 %\n",
      "[2019-04-19 14:01:22 , 6,    50] Loss: 0.1999\n",
      "[2019-04-19 14:01:22 , 6,    50] Elapsed time: 15.7263 s\n",
      "[2019-04-19 14:01:34 , 6,   100] Loss: 0.1625\n",
      "[2019-04-19 14:01:34 , 6,   100] Elapsed time: 12.0658 s\n",
      "[2019-04-19 14:01:46 , 6,   150] Loss: 0.1406\n",
      "[2019-04-19 14:01:46 , 6,   150] Elapsed time: 12.5066 s\n",
      "Accuracy of the network on 16445 test images: 95.5366 %\n",
      "Accuracy of the network on 48905 train images: 99.4193 %\n",
      "[2019-04-19 14:02:26 , 7,    50] Loss: 0.1286\n",
      "[2019-04-19 14:02:26 , 7,    50] Elapsed time: 9.1133 s\n",
      "[2019-04-19 14:02:34 , 7,   100] Loss: 0.1029\n",
      "[2019-04-19 14:02:34 , 7,   100] Elapsed time: 8.6635 s\n",
      "[2019-04-19 14:02:43 , 7,   150] Loss: 0.0931\n",
      "[2019-04-19 14:02:43 , 7,   150] Elapsed time: 8.5572 s\n",
      "Accuracy of the network on 16445 test images: 96.5704 %\n",
      "Accuracy of the network on 48905 train images: 99.7444 %\n",
      "[2019-04-19 14:03:21 , 8,    50] Loss: 0.0853\n",
      "[2019-04-19 14:03:21 , 8,    50] Elapsed time: 8.4693 s\n",
      "[2019-04-19 14:03:29 , 8,   100] Loss: 0.0706\n",
      "[2019-04-19 14:03:29 , 8,   100] Elapsed time: 8.2562 s\n",
      "[2019-04-19 14:03:37 , 8,   150] Loss: 0.0633\n",
      "[2019-04-19 14:03:37 , 8,   150] Elapsed time: 8.1444 s\n",
      "Accuracy of the network on 16445 test images: 96.7589 %\n",
      "Accuracy of the network on 48905 train images: 99.8855 %\n",
      "[2019-04-19 14:04:14 , 9,    50] Loss: 0.0698\n",
      "[2019-04-19 14:04:14 , 9,    50] Elapsed time: 8.7542 s\n",
      "[2019-04-19 14:04:22 , 9,   100] Loss: 0.0512\n",
      "[2019-04-19 14:04:22 , 9,   100] Elapsed time: 7.9745 s\n",
      "[2019-04-19 14:04:29 , 9,   150] Loss: 0.0460\n",
      "[2019-04-19 14:04:29 , 9,   150] Elapsed time: 7.8894 s\n",
      "Accuracy of the network on 16445 test images: 96.7102 %\n",
      "Accuracy of the network on 48905 train images: 99.9305 %\n",
      "[2019-04-19 14:05:06 , 10,    50] Loss: 0.0581\n",
      "[2019-04-19 14:05:06 , 10,    50] Elapsed time: 8.3872 s\n",
      "[2019-04-19 14:05:14 , 10,   100] Loss: 0.0383\n",
      "[2019-04-19 14:05:14 , 10,   100] Elapsed time: 7.8248 s\n",
      "[2019-04-19 14:05:22 , 10,   150] Loss: 0.0358\n",
      "[2019-04-19 14:05:22 , 10,   150] Elapsed time: 8.0012 s\n",
      "Accuracy of the network on 16445 test images: 96.4670 %\n",
      "Accuracy of the network on 48905 train images: 99.9427 %\n",
      "[2019-04-19 14:05:59 , 11,    50] Loss: 0.0552\n",
      "[2019-04-19 14:05:59 , 11,    50] Elapsed time: 8.2442 s\n",
      "[2019-04-19 14:06:06 , 11,   100] Loss: 0.0316\n",
      "[2019-04-19 14:06:06 , 11,   100] Elapsed time: 7.7188 s\n",
      "[2019-04-19 14:06:13 , 11,   150] Loss: 0.0280\n",
      "[2019-04-19 14:06:13 , 11,   150] Elapsed time: 7.0544 s\n",
      "Accuracy of the network on 16445 test images: 97.0812 %\n",
      "Accuracy of the network on 48905 train images: 99.9755 %\n",
      "[2019-04-19 14:06:50 , 12,    50] Loss: 0.0336\n",
      "[2019-04-19 14:06:50 , 12,    50] Elapsed time: 8.3573 s\n",
      "[2019-04-19 14:06:58 , 12,   100] Loss: 0.0248\n",
      "[2019-04-19 14:06:58 , 12,   100] Elapsed time: 7.8689 s\n",
      "[2019-04-19 14:07:06 , 12,   150] Loss: 0.0228\n",
      "[2019-04-19 14:07:06 , 12,   150] Elapsed time: 8.0164 s\n",
      "Accuracy of the network on 16445 test images: 97.3305 %\n",
      "Accuracy of the network on 48905 train images: 99.9898 %\n"
     ]
    }
   ],
   "source": [
    "trainer = FruitTrainer(train_data, train_loader, test_data, test_loader)\n",
    "model = trainer.train(config, n_epoch=12, use_gpu=True)"
   ]
  },
  {
   "cell_type": "code",
   "execution_count": 163,
   "metadata": {},
   "outputs": [],
   "source": [
    "model_path = os.path.join(os.getcwd(), 'model.pkl')\n",
    "pickle.dump(model, open(model_path, 'wb'))"
   ]
  },
  {
   "cell_type": "markdown",
   "metadata": {},
   "source": [
    "# Load saved Neural Network"
   ]
  },
  {
   "cell_type": "code",
   "execution_count": 168,
   "metadata": {},
   "outputs": [],
   "source": [
    "model_loaded = pickle.load(open(model_path, 'rb'))"
   ]
  },
  {
   "cell_type": "code",
   "execution_count": 169,
   "metadata": {},
   "outputs": [
    {
     "name": "stdout",
     "output_type": "stream",
     "text": [
      "Accuracy of the network on 16445 test images: 97.3670 %\n"
     ]
    }
   ],
   "source": [
    "device = torch.device(\"cuda:0\")\n",
    "model_loaded.to(device)\n",
    "trainer.assess(model_loaded, test=True, use_gpu=True, device=device)"
   ]
  },
  {
   "cell_type": "markdown",
   "metadata": {},
   "source": [
    "# Visualize Neural Network"
   ]
  },
  {
   "cell_type": "code",
   "execution_count": 142,
   "metadata": {},
   "outputs": [],
   "source": [
    "class OcclusionVisualizer(object):\n",
    "    pass"
   ]
  },
  {
   "cell_type": "code",
   "execution_count": 7,
   "metadata": {},
   "outputs": [
    {
     "name": "stderr",
     "output_type": "stream",
     "text": [
      "Clipping input data to the valid range for imshow with RGB data ([0..1] for floats or [0..255] for integers).\n"
     ]
    },
    {
     "name": "stdout",
     "output_type": "stream",
     "text": [
      "torch.Size([128, 3, 100, 100])\n"
     ]
    },
    {
     "data": {
      "image/png": "[encoded data removed]",
      "text/plain": [
       "<Figure size 432x288 with 1 Axes>"
      ]
     },
     "metadata": {
      "needs_background": "light"
     },
     "output_type": "display_data"
    }
   ],
   "source": [
    "def fruitImShow(img):\n",
    "    npimg = img.numpy()\n",
    "    img = plt.imshow(npimg)\n",
    "    plt.axis('off')\n",
    "    plt.show()\n",
    "\n",
    "for i, images in enumerate(train_loader):\n",
    "    if i >= 0:\n",
    "        print(images[0].squeeze().size())\n",
    "        fruitImShow(np.transpose(images[0][0,:,:,:], [1, 2, 0]))\n",
    "        break"
   ]
  },
  {
   "cell_type": "markdown",
   "metadata": {},
   "source": [
    "# Testing zone: Keep away! You enter at your own risk. "
   ]
  },
  {
   "cell_type": "code",
   "execution_count": 31,
   "metadata": {},
   "outputs": [],
   "source": [
    "x = torch.tensor([[[[ 0.4801, -1.0264],\n",
    "          [-0.6684, -0.0054]],\n",
    "\n",
    "         [[-0.3160, -0.1503],\n",
    "          [-0.8476,  0.9424]],\n",
    "\n",
    "         [[-0.5158,  0.4040],\n",
    "          [ 1.5077, -0.5627]]],\n",
    "\n",
    "\n",
    "        [[[-1.1366,  0.7921],\n",
    "          [ 1.4411, -1.6859]],\n",
    "\n",
    "         [[-0.6283,  0.7755],\n",
    "          [ 0.7855,  0.6781]],\n",
    "\n",
    "         [[ 0.2961, -0.6014],\n",
    "          [ 0.8488, -2.1111]]]])"
   ]
  },
  {
   "cell_type": "code",
   "execution_count": 32,
   "metadata": {},
   "outputs": [
    {
     "data": {
      "text/plain": [
       "tensor([[[[ 0.6993, -0.7923],\n",
       "          [-0.4379,  0.2186]],\n",
       "\n",
       "         [[-0.7010, -0.4543],\n",
       "          [-1.4924,  1.1723]],\n",
       "\n",
       "         [[-0.4095,  0.4788],\n",
       "          [ 1.5446, -0.4547]]],\n",
       "\n",
       "\n",
       "        [[[-0.9015,  1.0082],\n",
       "          [ 1.6508, -1.4453]],\n",
       "\n",
       "         [[-1.1659,  0.9238],\n",
       "          [ 0.9387,  0.7788]],\n",
       "\n",
       "         [[ 0.3746, -0.4921],\n",
       "          [ 0.9083, -1.9500]]]])"
      ]
     },
     "execution_count": 32,
     "metadata": {},
     "output_type": "execute_result"
    }
   ],
   "source": [
    "mbn = MyBatchNormalization2d(2)\n",
    "mbn.forward(x)"
   ]
  },
  {
   "cell_type": "code",
   "execution_count": 133,
   "metadata": {},
   "outputs": [
    {
     "name": "stdout",
     "output_type": "stream",
     "text": [
      "input\n",
      "tensor([[ 0.3534,  1.3480,  1.0362],\n",
      "        [-1.6341, -0.5642, -0.9382],\n",
      "        [-0.4853, -0.3669, -0.1098],\n",
      "        [-1.4520, -0.1399,  0.0106],\n",
      "        [ 1.3992, -0.1157, -0.3049],\n",
      "        [ 0.0403, -0.1023,  0.0091],\n",
      "        [ 0.7643,  0.0948,  1.3555],\n",
      "        [ 1.7898,  0.9649, -1.7940]])\n"
     ]
    },
    {
     "data": {
      "text/plain": [
       "tensor([[ 0.0466,  0.3784,  0.5910],\n",
       "        [-0.3145, -0.2205, -0.4434],\n",
       "        [-0.1058, -0.1587, -0.0094],\n",
       "        [-0.2814, -0.0876,  0.0537],\n",
       "        [ 0.2366, -0.0800, -0.1116],\n",
       "        [-0.0103, -0.0758,  0.0529],\n",
       "        [ 0.1212, -0.0141,  0.7583],\n",
       "        [ 0.3075,  0.2584, -0.8917]], grad_fn=<AddBackward0>)"
      ]
     },
     "execution_count": 133,
     "metadata": {},
     "output_type": "execute_result"
    }
   ],
   "source": [
    "x = torch.Tensor([[ 0.3534,  1.3480,  1.0362],\n",
    "        [-1.6341, -0.5642, -0.9382],\n",
    "        [-0.4853, -0.3669, -0.1098],\n",
    "        [-1.4520, -0.1399,  0.0106],\n",
    "        [ 1.3992, -0.1157, -0.3049],\n",
    "        [ 0.0403, -0.1023,  0.0091],\n",
    "        [ 0.7643,  0.0948,  1.3555],\n",
    "        [ 1.7898,  0.9649, -1.7940]])\n",
    "print('input')\n",
    "print(x)\n",
    "\n",
    "mbn1d = MyBatchNormalization1d(3)\n",
    "mbn1d.forward(x)"
   ]
  },
  {
   "cell_type": "code",
   "execution_count": 447,
   "metadata": {},
   "outputs": [
    {
     "data": {
      "text/plain": [
       "'cuda:0'"
      ]
     },
     "execution_count": 447,
     "metadata": {},
     "output_type": "execute_result"
    }
   ],
   "source": [
    "torch.device(\"cuda:0\" if torch.cuda.is_available() else \"cpu\").__str__()"
   ]
  },
  {
   "cell_type": "code",
   "execution_count": 92,
   "metadata": {},
   "outputs": [
    {
     "name": "stdout",
     "output_type": "stream",
     "text": [
      "tensor([[1., 0., 0., 0.],\n",
      "        [0., 1., 0., 0.],\n",
      "        [0., 0., 1., 0.],\n",
      "        [0., 0., 0., 1.]])\n",
      "tensor([[ 0.0000, -0.7406, -1.3640,  0.5907],\n",
      "        [ 0.3773,  0.0000, -1.7041, -0.8587],\n",
      "        [-0.7173,  0.0738,  0.0000,  0.3572],\n",
      "        [-1.3948, -1.5232, -0.4627,  0.0000]])\n",
      "tensor([[-0.6915, -0.7406, -1.3640,  0.5907],\n",
      "        [ 0.3773, -0.7853, -1.7041, -0.8587],\n",
      "        [-0.7173,  0.0738, -2.1117,  0.3572],\n",
      "        [-1.3948, -1.5232, -0.4627, -2.2673]])\n",
      "tensor([-0.6915, -0.7853, -2.1117, -2.2673])\n"
     ]
    }
   ],
   "source": [
    "x = torch.randn(4,4)\n",
    "mask = torch.diag(torch.ones(4))\n",
    "out = mask * torch.diag(torch.zeros(4)) + (1. - mask) * x\n",
    "print(mask)\n",
    "print(out)\n",
    "print(x)\n",
    "print(torch.diag(x))"
   ]
  },
  {
   "cell_type": "code",
   "execution_count": 390,
   "metadata": {},
   "outputs": [
    {
     "data": {
      "text/plain": [
       "[(1, 2, -1), (2, 3, -2), (3, 4, -3)]"
      ]
     },
     "execution_count": 390,
     "metadata": {},
     "output_type": "execute_result"
    }
   ],
   "source": [
    "a = (1,2,3,4)\n",
    "b = (-1,-2,-3)\n",
    "list(zip(a, a[1:], b))"
   ]
  },
  {
   "cell_type": "code",
   "execution_count": 310,
   "metadata": {},
   "outputs": [
    {
     "data": {
      "text/plain": [
       "(1, 2, 3)"
      ]
     },
     "execution_count": 310,
     "metadata": {},
     "output_type": "execute_result"
    }
   ],
   "source": [
    "a[:-1]"
   ]
  }
 ],
 "metadata": {
  "kernelspec": {
   "display_name": "Python 3",
   "language": "python",
   "name": "python3"
  },
  "language_info": {
   "codemirror_mode": {
    "name": "ipython",
    "version": 3
   },
   "file_extension": ".py",
   "mimetype": "text/x-python",
   "name": "python",
   "nbconvert_exporter": "python",
   "pygments_lexer": "ipython3",
   "version": "3.5.2"
  }
 },
 "nbformat": 4,
 "nbformat_minor": 2
}
