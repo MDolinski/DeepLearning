{
 "cells": [
  {
   "cell_type": "markdown",
   "metadata": {},
   "source": [
    "# Preparation "
   ]
  },
  {
   "cell_type": "code",
   "execution_count": 250,
   "metadata": {},
   "outputs": [],
   "source": [
    "import os\n",
    "import glob\n",
    "import time\n",
    "import matplotlib.pyplot as plt\n",
    "import numpy as np"
   ]
  },
  {
   "cell_type": "code",
   "execution_count": 2,
   "metadata": {},
   "outputs": [],
   "source": [
    "import torch\n",
    "import torch.nn as nn\n",
    "import torch.nn.functional as F\n",
    "import torch.optim as optim\n",
    "from torch.nn.parameter import Parameter\n",
    "from torch.nn import init\n",
    "import torchvision\n",
    "from torchvision import transforms, datasets"
   ]
  },
  {
   "cell_type": "code",
   "execution_count": 3,
   "metadata": {},
   "outputs": [],
   "source": [
    "transform = transforms.Compose([\n",
    "    transforms.ToTensor(),\n",
    "    transforms.Normalize((0.5, 0.5, 0.5), (0.5, 0.5, 0.5))\n",
    "])"
   ]
  },
  {
   "cell_type": "code",
   "execution_count": 287,
   "metadata": {},
   "outputs": [],
   "source": [
    "train_data = datasets.ImageFolder(os.path.normpath('/home/md359230/DeepLearning/assignment1/data/fruits-360/Training'),\n",
    "                                  transform=transform)\n",
    "train_loader = torch.utils.data.DataLoader(train_data,\n",
    "                                          batch_size=128,\n",
    "                                          shuffle=True,\n",
    "                                          num_workers=4)"
   ]
  },
  {
   "cell_type": "code",
   "execution_count": 288,
   "metadata": {},
   "outputs": [],
   "source": [
    "test_data = datasets.ImageFolder(os.path.normpath('/home/md359230/DeepLearning/assignment1/data/fruits-360/Test'),\n",
    "                                  transform=transform)\n",
    "test_loader = torch.utils.data.DataLoader(test_data,\n",
    "                                          batch_size=128,\n",
    "                                          shuffle=True,\n",
    "                                          num_workers=4)"
   ]
  },
  {
   "cell_type": "code",
   "execution_count": 215,
   "metadata": {},
   "outputs": [
    {
     "name": "stderr",
     "output_type": "stream",
     "text": [
      "Clipping input data to the valid range for imshow with RGB data ([0..1] for floats or [0..255] for integers).\n"
     ]
    },
    {
     "name": "stdout",
     "output_type": "stream",
     "text": [
      "torch.Size([128, 3, 100, 100])\n"
     ]
    },
    {
     "data": {
      "image/png": "[encoded data removed]",
      "text/plain": [
       "<Figure size 432x288 with 1 Axes>"
      ]
     },
     "metadata": {
      "needs_background": "light"
     },
     "output_type": "display_data"
    }
   ],
   "source": [
    "def fruitImShow(img):\n",
    "    npimg = img.numpy()\n",
    "    img = plt.imshow(npimg)\n",
    "    plt.axis('off')\n",
    "    plt.show()\n",
    "\n",
    "for i, images in enumerate(train_loader):\n",
    "    if i >= 0:\n",
    "        print(images[0].squeeze().size())\n",
    "        fruitImShow(np.transpose(images[0][0,:,:,:], [1, 2, 0]))\n",
    "        break"
   ]
  },
  {
   "cell_type": "code",
   "execution_count": 216,
   "metadata": {},
   "outputs": [],
   "source": [
    "example, no = next(iter(train_loader))"
   ]
  },
  {
   "cell_type": "code",
   "execution_count": 217,
   "metadata": {},
   "outputs": [
    {
     "data": {
      "text/plain": [
       "torch.Size([128, 3, 100, 100])"
      ]
     },
     "execution_count": 217,
     "metadata": {},
     "output_type": "execute_result"
    }
   ],
   "source": [
    "example.size()"
   ]
  },
  {
   "cell_type": "code",
   "execution_count": 218,
   "metadata": {},
   "outputs": [
    {
     "name": "stdout",
     "output_type": "stream",
     "text": [
      "torch.Size([128, 3, 100, 100])\n",
      "torch.Size([128, 8, 96, 96])\n",
      "torch.Size([128, 8, 48, 48])\n",
      "torch.Size([128, 16, 38, 38])\n",
      "torch.Size([4, 32, 23104])\n",
      "torch.Size([128, 16, 19, 19])\n"
     ]
    }
   ],
   "source": [
    "tmp = example\n",
    "print(tmp.size())\n",
    "tmp = nn.Conv2d(3, 8, 5)(tmp)\n",
    "print(tmp.size())\n",
    "tmp = nn.MaxPool2d((2,2))(tmp)\n",
    "print(tmp.size())\n",
    "tmp = nn.Conv2d(8, 16, 11)(tmp)\n",
    "print(tmp.size())\n",
    "print(tmp.view(4,-1, 16 * 38 * 38).size())\n",
    "tmp = nn.MaxPool2d(2,2)(tmp)\n",
    "print(tmp.size())"
   ]
  },
  {
   "cell_type": "code",
   "execution_count": 219,
   "metadata": {},
   "outputs": [
    {
     "data": {
      "text/plain": [
       "Sequential(\n",
       "  (0): Linear(in_features=5776, out_features=100, bias=True)\n",
       "  (1): BatchNorm1d(100, eps=1e-05, momentum=0.1, affine=True, track_running_stats=True)\n",
       "  (2): ReLU()\n",
       ")"
      ]
     },
     "execution_count": 219,
     "metadata": {},
     "output_type": "execute_result"
    }
   ],
   "source": [
    "linear_layer(16*19*19, 100)"
   ]
  },
  {
   "cell_type": "markdown",
   "metadata": {},
   "source": [
    "# Define Neural Network"
   ]
  },
  {
   "cell_type": "code",
   "execution_count": 221,
   "metadata": {},
   "outputs": [
    {
     "name": "stdout",
     "output_type": "stream",
     "text": [
      "49191\n"
     ]
    }
   ],
   "source": [
    "! ls -R /home/md359230/DeepLearning/assignment1/data/fruits-360/Training/ | wc -l"
   ]
  },
  {
   "cell_type": "code",
   "execution_count": 281,
   "metadata": {},
   "outputs": [
    {
     "name": "stdout",
     "output_type": "stream",
     "text": [
      "16707\n"
     ]
    }
   ],
   "source": [
    "! ls -R /home/md359230/DeepLearning/assignment1/data/fruits-360/Test/ | wc -l"
   ]
  },
  {
   "cell_type": "code",
   "execution_count": 222,
   "metadata": {},
   "outputs": [
    {
     "data": {
      "text/plain": [
       "384.3046875"
      ]
     },
     "execution_count": 222,
     "metadata": {},
     "output_type": "execute_result"
    }
   ],
   "source": [
    "49191 / 128"
   ]
  },
  {
   "cell_type": "code",
   "execution_count": 223,
   "metadata": {},
   "outputs": [
    {
     "name": "stdout",
     "output_type": "stream",
     "text": [
      "tensor([[[ 0.8341,  0.1073],\n",
      "         [-1.5900,  0.7515]],\n",
      "\n",
      "        [[-0.2715,  0.9093],\n",
      "         [ 0.0181,  0.0836]]])\n",
      "tensor([0.0257, 0.1849])\n"
     ]
    }
   ],
   "source": [
    "x = torch.randn(2,2,2)\n",
    "print(x)\n",
    "print(torch.mean(x, (1,2)))"
   ]
  },
  {
   "cell_type": "code",
   "execution_count": 224,
   "metadata": {},
   "outputs": [
    {
     "name": "stdout",
     "output_type": "stream",
     "text": [
      "tensor([[[[ 1.3592,  0.9586, -2.2687, -0.7316],\n",
      "          [-0.1976, -1.3876, -1.7334,  1.0312],\n",
      "          [-1.3025, -1.4624,  0.6063,  1.0155],\n",
      "          [-0.9894, -0.8540, -1.0822, -0.0915]],\n",
      "\n",
      "         [[-0.0558, -0.6707, -2.2107,  0.2486],\n",
      "          [-0.6671,  1.2670, -0.5990, -0.6199],\n",
      "          [ 0.3946, -0.4155,  0.6211, -0.0213],\n",
      "          [ 1.4263,  0.2343, -0.3309, -0.4443]],\n",
      "\n",
      "         [[-0.3917, -1.1598, -0.9039,  0.5166],\n",
      "          [ 1.7122, -0.4550, -1.0423, -0.7295],\n",
      "          [-1.9230, -0.4065,  0.0323,  0.6236],\n",
      "          [ 0.3059,  1.6485, -0.9048,  0.3842]]],\n",
      "\n",
      "\n",
      "        [[[-0.0501, -0.1945,  0.5907, -0.1499],\n",
      "          [-2.2273,  1.7362,  0.4117, -1.0932],\n",
      "          [ 1.5655, -0.3937, -1.8002,  1.6674],\n",
      "          [ 0.7181,  0.1063,  0.5773, -0.4593]],\n",
      "\n",
      "         [[ 0.3989, -1.8571,  2.1592,  1.3154],\n",
      "          [ 0.8036,  0.7200,  0.6123,  0.7596],\n",
      "          [ 1.6692, -0.4298,  0.1296, -0.5667],\n",
      "          [ 1.2675,  0.4753, -0.9747,  0.0288]],\n",
      "\n",
      "         [[ 1.0556, -2.0220,  0.5488,  0.4790],\n",
      "          [ 1.0878,  0.7545,  1.2298, -0.4737],\n",
      "          [ 1.2273, -0.8325,  0.7691,  0.2577],\n",
      "          [ 0.2311, -0.9121,  0.7354,  0.9760]]]])\n"
     ]
    }
   ],
   "source": [
    "x = torch.randn(2,3, 4, 4)\n",
    "print(x)"
   ]
  },
  {
   "cell_type": "code",
   "execution_count": 225,
   "metadata": {},
   "outputs": [],
   "source": [
    "class MyBatchNormalization(torch.nn.Module):\n",
    "    def __init__(self, num_features):\n",
    "        super(MyBatchNormalization, self).__init__()\n",
    "        self.num_features = num_features\n",
    "\n",
    "    def forward(self, x):\n",
    "        r = x.matmul(self.weight.t())\n",
    "        r += self.bias\n",
    "        return r"
   ]
  },
  {
   "cell_type": "code",
   "execution_count": 226,
   "metadata": {},
   "outputs": [],
   "source": [
    "def batchNorm(x):\n",
    "    print(x.size())\n",
    "    means = torch.mean(x, 1, keep_dim=True)\n",
    "    print(means)"
   ]
  },
  {
   "cell_type": "code",
   "execution_count": 227,
   "metadata": {},
   "outputs": [
    {
     "name": "stdout",
     "output_type": "stream",
     "text": [
      "torch.Size([2, 3, 4, 4])\n"
     ]
    },
    {
     "ename": "TypeError",
     "evalue": "mean() received an invalid combination of arguments - got (Tensor, int, keep_dim=bool), but expected one of:\n * (Tensor input)\n * (Tensor input, torch.dtype dtype)\n * (Tensor input, tuple of ints dim, torch.dtype dtype, Tensor out)\n * (Tensor input, tuple of ints dim, bool keepdim, torch.dtype dtype, Tensor out)\n * (Tensor input, tuple of ints dim, bool keepdim, Tensor out)\n",
     "output_type": "error",
     "traceback": [
      "\u001b[0;31m---------------------------------------------------------------------------\u001b[0m",
      "\u001b[0;31mTypeError\u001b[0m                                 Traceback (most recent call last)",
      "\u001b[0;32m<ipython-input-227-d61ac8ae6de6>\u001b[0m in \u001b[0;36m<module>\u001b[0;34m\u001b[0m\n\u001b[0;32m----> 1\u001b[0;31m \u001b[0mbatchNorm\u001b[0m\u001b[0;34m(\u001b[0m\u001b[0mx\u001b[0m\u001b[0;34m)\u001b[0m\u001b[0;34m\u001b[0m\u001b[0m\n\u001b[0m",
      "\u001b[0;32m<ipython-input-226-57a4b3258d75>\u001b[0m in \u001b[0;36mbatchNorm\u001b[0;34m(x)\u001b[0m\n\u001b[1;32m      1\u001b[0m \u001b[0;32mdef\u001b[0m \u001b[0mbatchNorm\u001b[0m\u001b[0;34m(\u001b[0m\u001b[0mx\u001b[0m\u001b[0;34m)\u001b[0m\u001b[0;34m:\u001b[0m\u001b[0;34m\u001b[0m\u001b[0m\n\u001b[1;32m      2\u001b[0m     \u001b[0mprint\u001b[0m\u001b[0;34m(\u001b[0m\u001b[0mx\u001b[0m\u001b[0;34m.\u001b[0m\u001b[0msize\u001b[0m\u001b[0;34m(\u001b[0m\u001b[0;34m)\u001b[0m\u001b[0;34m)\u001b[0m\u001b[0;34m\u001b[0m\u001b[0m\n\u001b[0;32m----> 3\u001b[0;31m     \u001b[0mmeans\u001b[0m \u001b[0;34m=\u001b[0m \u001b[0mtorch\u001b[0m\u001b[0;34m.\u001b[0m\u001b[0mmean\u001b[0m\u001b[0;34m(\u001b[0m\u001b[0mx\u001b[0m\u001b[0;34m,\u001b[0m \u001b[0;36m1\u001b[0m\u001b[0;34m,\u001b[0m \u001b[0mkeep_dim\u001b[0m\u001b[0;34m=\u001b[0m\u001b[0;32mTrue\u001b[0m\u001b[0;34m)\u001b[0m\u001b[0;34m\u001b[0m\u001b[0m\n\u001b[0m\u001b[1;32m      4\u001b[0m     \u001b[0mprint\u001b[0m\u001b[0;34m(\u001b[0m\u001b[0mmeans\u001b[0m\u001b[0;34m)\u001b[0m\u001b[0;34m\u001b[0m\u001b[0m\n",
      "\u001b[0;31mTypeError\u001b[0m: mean() received an invalid combination of arguments - got (Tensor, int, keep_dim=bool), but expected one of:\n * (Tensor input)\n * (Tensor input, torch.dtype dtype)\n * (Tensor input, tuple of ints dim, torch.dtype dtype, Tensor out)\n * (Tensor input, tuple of ints dim, bool keepdim, torch.dtype dtype, Tensor out)\n * (Tensor input, tuple of ints dim, bool keepdim, Tensor out)\n"
     ]
    }
   ],
   "source": [
    "batchNorm(x)"
   ]
  },
  {
   "cell_type": "markdown",
   "metadata": {},
   "source": [
    "## Network and trainer"
   ]
  },
  {
   "cell_type": "code",
   "execution_count": 276,
   "metadata": {},
   "outputs": [],
   "source": [
    "def convolutional_layer(in_channels, \n",
    "                        out_channels,\n",
    "                        kernel_size,\n",
    "                        batchnorm_module='default', \n",
    "                        *args, \n",
    "                        **kwargs): \n",
    "    \"\"\"Function for flexible construction of convolutional layers for the network.\n",
    "    \n",
    "    \"\"\"\n",
    "    batchnorm_modules = nn.ModuleDict([\n",
    "        ['default', nn.BatchNorm2d(out_channels)],\n",
    "        ['custom', MyBatchNormalization(out_channels)]\n",
    "    ])\n",
    "    \n",
    "    return nn.Sequential(\n",
    "        nn.Conv2d(in_channels, out_channels, kernel_size, *args, **kwargs),\n",
    "        batchnorm_modules[batchnorm_module],\n",
    "        nn.MaxPool2d((2,2))\n",
    "    )"
   ]
  },
  {
   "cell_type": "code",
   "execution_count": 277,
   "metadata": {},
   "outputs": [],
   "source": [
    "def linear_layer(in_features, \n",
    "                 out_feautres, \n",
    "                 batchnorm_module='default',\n",
    "                 activation_function='relu', \n",
    "                 *args, \n",
    "                 **kwargs):\n",
    "    \"\"\"Function for flexible construction of full-connected layers for the network.\n",
    "    \n",
    "    \"\"\"\n",
    "    batchnorm_modules = nn.ModuleDict([\n",
    "        ['default', nn.BatchNorm1d(out_feautres)],\n",
    "        ['custom', MyBatchNormalization(out_feautres)]\n",
    "    ])\n",
    "    \n",
    "    activation_functions = nn.ModuleDict([\n",
    "        ['lrelu', nn.LeakyReLU()],\n",
    "        ['relu', nn.ReLU()],\n",
    "        ['sigmoid', nn.Sigmoid()]\n",
    "    ])\n",
    "\n",
    "    return nn.Sequential(\n",
    "        nn.Linear(in_features, out_feautres, *args, **kwargs),\n",
    "        batchnorm_modules[batchnorm_module],\n",
    "        activation_functions[activation_function]\n",
    "    )"
   ]
  },
  {
   "cell_type": "code",
   "execution_count": 278,
   "metadata": {},
   "outputs": [],
   "source": [
    "class Net(nn.Module):\n",
    "    def __init__(self):\n",
    "        super(Net, self).__init__()\n",
    "        self.conv1 = convolutional_layer(3, 8, 5)\n",
    "        self.conv2 = convolutional_layer(8, 16, 11)\n",
    "        self.fc1 = linear_layer(16 * 19 * 19, 1000)\n",
    "        self.fc2 = linear_layer(1000, 500)\n",
    "        self.fc3 = nn.Linear(500, 95)\n",
    "    \n",
    "    def forward(self, x):\n",
    "        x = self.conv1(x)\n",
    "        x = self.conv2(x)\n",
    "        x = x.view(-1, 16 * 19 * 19)\n",
    "        x = self.fc1(x)\n",
    "        x = self.fc2(x)\n",
    "        x = self.fc3(x)\n",
    "        x = x.squeeze()\n",
    "        return x"
   ]
  },
  {
   "cell_type": "code",
   "execution_count": 303,
   "metadata": {},
   "outputs": [],
   "source": [
    "class FruitTrainer(object):\n",
    "    def __init__(self, train_data, train_loader, test_data, test_loader):\n",
    "        self.trainset = train_data\n",
    "        self.trainloader = train_loader\n",
    "        \n",
    "        self.testset = test_data\n",
    "        self.testloader = test_loader\n",
    "        \n",
    "    def assess(self, net, test=True):\n",
    "        correct = 0\n",
    "        total = 0\n",
    "        if test:\n",
    "            for data in self.testloader:\n",
    "                images, labels = data\n",
    "                outputs = net(images)\n",
    "                _, predicted = torch.max(outputs.data, 1)\n",
    "                total += labels.size(0)\n",
    "                correct += (predicted == labels).sum().item()\n",
    "\n",
    "            print('Accuracy of the network on the {} test images: {:2.4f} %'.format(\n",
    "                total, 100 * correct / total))\n",
    "        else:\n",
    "            for data in self.trainloader:\n",
    "                images, labels = data\n",
    "                outputs = net(images)\n",
    "                _, predicted = torch.max(outputs.data, 1)\n",
    "                total += labels.size(0)\n",
    "                correct += (predicted == labels).sum().item()\n",
    "\n",
    "            print('Accuracy of the network on the {} train images: {:2.4f} %'.format(\n",
    "                total, 100 * correct / total))            \n",
    "                       \n",
    "    def train(self):\n",
    "        net = Net()\n",
    "\n",
    "        criterion = nn.CrossEntropyLoss()\n",
    "        optimizer = optim.SGD(net.parameters(), lr=0.05, momentum=0.9)\n",
    "\n",
    "        for epoch in range(3):\n",
    "            running_loss = 0.0\n",
    "            t = time.time()\n",
    "            for i, data in enumerate(self.trainloader, 0):\n",
    "                inputs, labels = data\n",
    "                optimizer.zero_grad()\n",
    "\n",
    "                outputs = net(inputs)\n",
    "                loss = criterion(outputs, labels)\n",
    "                loss.backward()\n",
    "                optimizer.step()\n",
    "\n",
    "                running_loss += loss.item()\n",
    "                if i % 100 == 99:\n",
    "                    print('[%d, %5d] loss: %.4f' %\n",
    "                          (epoch + 1, i + 1, running_loss / 100))\n",
    "                    print('[%d, %5d] Elapsed time: %2.4f s' %\n",
    "                          (epoch + 1, i + 1, time.time() - t))\n",
    "                    running_loss = 0.0\n",
    "                    t = time.time()\n",
    "            \n",
    "            self.assess(net)\n",
    "            self.assess(net, test=False)\n"
   ]
  },
  {
   "cell_type": "code",
   "execution_count": 304,
   "metadata": {},
   "outputs": [
    {
     "name": "stdout",
     "output_type": "stream",
     "text": [
      "[1,   100] loss: 1.5735\n",
      "[1,   100] Elapsed time: 29.4830 s\n",
      "[1,   200] loss: 0.1791\n",
      "[1,   200] Elapsed time: 29.1847 s\n",
      "[1,   300] loss: 0.0532\n",
      "[1,   300] Elapsed time: 29.0960 s\n",
      "Accuracy of the network on the 16445 test images: 89.1335 %\n",
      "Accuracy of the network on the 48905 train images: 95.4197 %\n",
      "[2,   100] loss: 0.0871\n",
      "[2,   100] Elapsed time: 30.3455 s\n",
      "[2,   200] loss: 0.0141\n",
      "[2,   200] Elapsed time: 28.2541 s\n",
      "[2,   300] loss: 0.0092\n",
      "[2,   300] Elapsed time: 31.7316 s\n",
      "Accuracy of the network on the 16445 test images: 85.0775 %\n",
      "Accuracy of the network on the 48905 train images: 90.8148 %\n",
      "[3,   100] loss: 0.1207\n",
      "[3,   100] Elapsed time: 33.6413 s\n",
      "[3,   200] loss: 0.0155\n",
      "[3,   200] Elapsed time: 31.0431 s\n",
      "[3,   300] loss: 0.0065\n",
      "[3,   300] Elapsed time: 30.2489 s\n",
      "Accuracy of the network on the 16445 test images: 97.0325 %\n",
      "Accuracy of the network on the 48905 train images: 99.9980 %\n"
     ]
    }
   ],
   "source": [
    "trainer = FruitTrainer(train_data, train_loader, test_data, test_loader)\n",
    "trainer.train()"
   ]
  },
  {
   "cell_type": "code",
   "execution_count": 302,
   "metadata": {},
   "outputs": [
    {
     "name": "stdout",
     "output_type": "stream",
     "text": [
      "1.0000\n"
     ]
    }
   ],
   "source": [
    "print(\"{:2.4f}\".format(1))"
   ]
  },
  {
   "cell_type": "code",
   "execution_count": null,
   "metadata": {},
   "outputs": [],
   "source": []
  }
 ],
 "metadata": {
  "kernelspec": {
   "display_name": "Python 3",
   "language": "python",
   "name": "python3"
  },
  "language_info": {
   "codemirror_mode": {
    "name": "ipython",
    "version": 3
   },
   "file_extension": ".py",
   "mimetype": "text/x-python",
   "name": "python",
   "nbconvert_exporter": "python",
   "pygments_lexer": "ipython3",
   "version": "3.5.2"
  }
 },
 "nbformat": 4,
 "nbformat_minor": 2
}
